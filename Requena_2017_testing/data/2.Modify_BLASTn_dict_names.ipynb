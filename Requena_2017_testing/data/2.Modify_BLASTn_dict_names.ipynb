{
 "cells": [
  {
   "cell_type": "code",
   "id": "initial_id",
   "metadata": {
    "collapsed": true,
    "ExecuteTime": {
     "end_time": "2024-12-02T15:11:20.287523Z",
     "start_time": "2024-12-02T15:11:20.223535Z"
    }
   },
   "source": [
    "import os\n",
    "from Bio import SeqIO"
   ],
   "outputs": [],
   "execution_count": 1
  },
  {
   "metadata": {
    "ExecuteTime": {
     "end_time": "2024-12-02T15:11:27.359689Z",
     "start_time": "2024-12-02T15:11:27.357041Z"
    }
   },
   "cell_type": "code",
   "source": [
    "def modify_and_save_fasta(input_fasta, output_fasta):\n",
    "    # Open the input FASTA file and parse it\n",
    "    sequences = SeqIO.parse(input_fasta, \"fasta\")\n",
    "\n",
    "    # List to store modified sequences\n",
    "    modified_sequences = []\n",
    "\n",
    "    # Modify sequence names\n",
    "    for seq_record in sequences:\n",
    "        old_id = seq_record.id\n",
    "        new_id = old_id.split(\"_\")[0]\n",
    "        new_id = new_id[:4] + \".\" + new_id[4:]\n",
    "        seq_record.id = new_id\n",
    "        seq_record.description = \"\"\n",
    "        modified_sequences.append(seq_record)\n",
    "        print(f\"- {old_id} -> {new_id}\")\n",
    "        \n",
    "    # Write the modified sequences to the output FASTA file\n",
    "    with open(output_fasta, \"w\") as out_file:\n",
    "        SeqIO.write(modified_sequences, out_file, \"fasta\")"
   ],
   "id": "3b0aa846cfb94b54",
   "outputs": [],
   "execution_count": 2
  },
  {
   "metadata": {
    "ExecuteTime": {
     "end_time": "2024-12-02T15:11:41.438465Z",
     "start_time": "2024-12-02T15:11:41.436506Z"
    }
   },
   "cell_type": "code",
   "source": [
    "fasta_file = \"./blastn_dic/LmjFwholegenome_20070731_V5.2.fasta\"\n",
    "fasta_file = os.path.expanduser(fasta_file)\n",
    "\n",
    "output_file = \"./blastn_dic/LmjFwholegenome_20070731_V5.2_MOD.fasta\"\n",
    "output_file = os.path.expanduser(output_file)"
   ],
   "id": "2bacccbc1d9ec71a",
   "outputs": [],
   "execution_count": 3
  },
  {
   "metadata": {
    "ExecuteTime": {
     "end_time": "2024-12-02T15:11:58.512373Z",
     "start_time": "2024-12-02T15:11:58.268465Z"
    }
   },
   "cell_type": "code",
   "source": "modify_and_save_fasta(fasta_file, output_file)",
   "id": "f58e67d8ecfdc13c",
   "outputs": [
    {
     "name": "stdout",
     "output_type": "stream",
     "text": [
      "- LmjF04_01_20050601_V5.2 -> LmjF.04\n",
      "- LmjF05_01_20050601_V5.2 -> LmjF.05\n",
      "- LmjF24_01_20050601_V5.2 -> LmjF.24\n",
      "- LmjF01_01_20050601_V5.2 -> LmjF.01\n",
      "- LmjF03_01_20050601_V5.2 -> LmjF.03\n",
      "- LmjF13_01_20050601_V5.2 -> LmjF.13\n",
      "- LmjF14_01_20050601_V5.2 -> LmjF.14\n",
      "- LmjF19_01_20050601_V5.2 -> LmjF.19\n",
      "- LmjF21_01_20050601_V5.2 -> LmjF.21\n",
      "- LmjF23_01_20050601_V5.2 -> LmjF.23\n",
      "- LmjF10_01_20050601_V5.2 -> LmjF.10\n",
      "- LmjF11_01_20050601_V5.2 -> LmjF.11\n",
      "- LmjF15_01_20050601_V5.2 -> LmjF.15\n",
      "- LmjF18_01_20050601_V5.2 -> LmjF.18\n",
      "- LmjF02_01_20050601_V5.2 -> LmjF.02\n",
      "- LmjF25_01_20050601_V5.2 -> LmjF.25\n",
      "- LmjF27_01_20050601_V5.2 -> LmjF.27\n",
      "- LmjF28_01_20050601_V5.2 -> LmjF.28\n",
      "- LmjF29_01_20050601_V5.2 -> LmjF.29\n",
      "- LmjF30_01_20050601_V5.2 -> LmjF.30\n",
      "- LmjF31_01_20050601_V5.2 -> LmjF.31\n",
      "- LmjF32_01_20050601_V5.3 -> LmjF.32\n",
      "- LmjF33_01_20050601_V5.2 -> LmjF.33\n",
      "- LmjF34_01_20050601_V5.2 -> LmjF.34\n",
      "- LmjF35_01_20050601_V5.2 -> LmjF.35\n",
      "- LmjF36_01_20050601_V5.2 -> LmjF.36\n",
      "- LmjF07_01_20050601_V5.2 -> LmjF.07\n",
      "- LmjF08_01_20050601_V5.2 -> LmjF.08\n",
      "- LmjF09_01_20050601_V5.2 -> LmjF.09\n",
      "- LmjF06_01_20050601_V5.2 -> LmjF.06\n",
      "- LmjF12_01_20050601_V5.2 -> LmjF.12\n",
      "- LmjF16_01_20050601_V5.2 -> LmjF.16\n",
      "- LmjF17_01_20050601_V5.2 -> LmjF.17\n",
      "- LmjF20_01_20050601_V5.2 -> LmjF.20\n",
      "- LmjF22_01_20050601_V5.2 -> LmjF.22\n",
      "- LmjF26_01_20050601_V5.2 -> LmjF.26\n"
     ]
    }
   ],
   "execution_count": 4
  }
 ],
 "metadata": {
  "kernelspec": {
   "display_name": "Python 3",
   "language": "python",
   "name": "python3"
  },
  "language_info": {
   "codemirror_mode": {
    "name": "ipython",
    "version": 2
   },
   "file_extension": ".py",
   "mimetype": "text/x-python",
   "name": "python",
   "nbconvert_exporter": "python",
   "pygments_lexer": "ipython2",
   "version": "2.7.6"
  }
 },
 "nbformat": 4,
 "nbformat_minor": 5
}
