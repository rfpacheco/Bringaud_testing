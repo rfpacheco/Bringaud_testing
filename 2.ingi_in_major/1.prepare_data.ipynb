{
 "cells": [
  {
   "metadata": {},
   "cell_type": "markdown",
   "source": [
    "\n",
    "\n",
    "Author: Ronny F. Pacheco Date: Nov 2024 Copyright: © 2024 Ronny Pacheco License: MIT License\n",
    "\n",
    "MIT License\n",
    "\n",
    "Copyright (c) 2024 Ronny Pacheco\n",
    "\n",
    "Permission is hereby granted, free of charge, to any person obtaining a copy of this software and associated documentation files (the \"Software\"), to deal in the Software without restriction, including without limitation the rights to use, copy, modify, merge, publish, distribute, sublicense, and/or sell copies of the Software, and to permit persons to whom the Software is furnished to do so, subject to the following conditions:\n",
    "\n",
    "The above copyright notice and this permission notice shall be included in all copies or substantial portions of the Software.\n",
    "\n",
    "THE SOFTWARE IS PROVIDED \"AS IS\", WITHOUT WARRANTY OF ANY KIND, EXPRESS OR IMPLIED, INCLUDING BUT NOT LIMITED TO THE WARRANTIES OF MERCHANTABILITY, FITNESS FOR A PARTICULAR PURPOSE AND NONINFRINGEMENT. IN NO EVENT SHALL THE AUTHORS OR COPYRIGHT HOLDERS BE LIABLE FOR ANY CLAIM, DAMAGES OR OTHER LIABILITY, WHETHER IN AN ACTION OF CONTRACT, TORT OR OTHERWISE, ARISING FROM, OUT OF OR IN CONNECTION WITH THE SOFTWARE OR THE USE OR OTHER DEALINGS IN THE SOFTWARE.\n"
   ],
   "id": "8a967501c61483e8"
  },
  {
   "metadata": {},
   "cell_type": "markdown",
   "source": "# In/Out files",
   "id": "7a0c2a2a2148890f"
  },
  {
   "metadata": {},
   "cell_type": "markdown",
   "source": [
    "In files:\n",
    "- ../data/software_result/Last_Data.csv\n",
    "\n",
    "Out files:\n",
    "\n",
    "- data/sider_df_v2.csv\n"
   ],
   "id": "b8261e4ca8d74d57"
  },
  {
   "metadata": {},
   "cell_type": "markdown",
   "source": "# Needed modules",
   "id": "ea7d0f0d2c78c1ff"
  },
  {
   "metadata": {
    "ExecuteTime": {
     "end_time": "2024-11-04T09:59:54.787027Z",
     "start_time": "2024-11-04T09:59:54.782418Z"
    }
   },
   "cell_type": "code",
   "source": [
    "import pandas as pd\n",
    "import os\n",
    "import pickle"
   ],
   "id": "b3a9cc5129448ad6",
   "outputs": [],
   "execution_count": 3
  },
  {
   "cell_type": "code",
   "id": "initial_id",
   "metadata": {
    "collapsed": true,
    "ExecuteTime": {
     "end_time": "2024-11-04T09:59:55.927415Z",
     "start_time": "2024-11-04T09:59:55.924563Z"
    }
   },
   "source": [
    "# https://kioku-space.com/en/jupyter-skip-execution/\n",
    "from IPython.core.magic import register_cell_magic # type: ignore\n",
    "\n",
    "\n",
    "@register_cell_magic\n",
    "def skip(line, cell):\n",
    "    print('Skipping cell')\n",
    "    if line and cell:\n",
    "        pass\n",
    "    return"
   ],
   "outputs": [],
   "execution_count": 4
  },
  {
   "metadata": {},
   "cell_type": "markdown",
   "source": "# Pickle save",
   "id": "d58e3e5e5d034c14"
  },
  {
   "metadata": {
    "ExecuteTime": {
     "end_time": "2024-11-04T09:59:56.921365Z",
     "start_time": "2024-11-04T09:59:56.918725Z"
    }
   },
   "cell_type": "code",
   "source": [
    "%%skip\n",
    "# =============================================================================\n",
    "# main function\n",
    "# =============================================================================\n",
    "def data_save_load(option):\n",
    "    \"\"\"\n",
    "    This function is used to save or load data for the jupyter notebook\n",
    "    \"\"\"\n",
    "    path_folder = \"ipynb_db\"  # Folder to save variables\n",
    "    os.makedirs(path_folder, exist_ok=True)  # Create folder if not exist\n",
    "    notebook_name = '1.prepare_data'\n",
    "    path_file = os.path.join(path_folder, f\"{notebook_name}.variables.pkl\") # Path to save the variables\n",
    "\n",
    "    if option == \"save\":\n",
    "        with open(path_file, \"wb\") as pickle_file:\n",
    "            dict_variables = { # 'var_name' : 'real_var'\n",
    "\n",
    "            }\n",
    "            pickle.dump(dict_variables, pickle_file)\n",
    "    elif option == \"load\":\n",
    "        with open(path_file, \"rb\") as pickle_file:\n",
    "            variables = pickle.load(pickle_file)\n",
    "        # Now load the variables\n",
    "        for pickle_key, pickle_value in variables.items():\n",
    "            print(f\"* Loading variable: {pickle_key}\")\n",
    "            globals()[pickle_key] = pickle_value\n",
    "# =============================================================================\n",
    "# Call the function\n",
    "# =============================================================================\n",
    "data_save_load(option=\"load\")"
   ],
   "id": "284dcea77b80be4e",
   "outputs": [
    {
     "name": "stdout",
     "output_type": "stream",
     "text": [
      "Skipping cell\n"
     ]
    }
   ],
   "execution_count": 5
  },
  {
   "metadata": {},
   "cell_type": "markdown",
   "source": "# Load data",
   "id": "3867870bb377e6a4"
  },
  {
   "metadata": {
    "ExecuteTime": {
     "end_time": "2024-11-04T10:10:21.728978Z",
     "start_time": "2024-11-04T10:10:21.669427Z"
    }
   },
   "cell_type": "code",
   "source": [
    "sider_df = pd.read_csv('../data/software_result/Last_Data.csv', header=0, sep=',')\n",
    "print(sider_df.shape)\n",
    "print(sider_df.dtypes)\n",
    "sider_df.head()"
   ],
   "id": "53d5e22bd0d218f8",
   "outputs": [
    {
     "name": "stdout",
     "output_type": "stream",
     "text": [
      "(4804, 14)\n",
      "qseqid      float64\n",
      "sseqid       object\n",
      "pident      float64\n",
      "length        int64\n",
      "qstart      float64\n",
      "qend        float64\n",
      "sstart        int64\n",
      "send          int64\n",
      "evalue      float64\n",
      "bitscore    float64\n",
      "qlen        float64\n",
      "slen        float64\n",
      "sstrand      object\n",
      "sseq         object\n",
      "dtype: object\n"
     ]
    },
    {
     "data": {
      "text/plain": [
       "   qseqid   sseqid  pident  length  qstart  qend  sstart   send  evalue  \\\n",
       "0     NaN  LmjF.01     NaN     253     NaN   NaN   24536  24284     NaN   \n",
       "1     NaN  LmjF.01     NaN     597     NaN   NaN   25200  24604     NaN   \n",
       "2     NaN  LmjF.01     NaN     935     NaN   NaN   36401  35467     NaN   \n",
       "3     NaN  LmjF.01     NaN     812     NaN   NaN   40541  39730     NaN   \n",
       "4     NaN  LmjF.01     NaN     949     NaN   NaN   55542  54594     NaN   \n",
       "\n",
       "   bitscore  qlen  slen sstrand  \\\n",
       "0       NaN   NaN   NaN   minus   \n",
       "1       NaN   NaN   NaN   minus   \n",
       "2       NaN   NaN   NaN   minus   \n",
       "3       NaN   NaN   NaN   minus   \n",
       "4       NaN   NaN   NaN   minus   \n",
       "\n",
       "                                                sseq  \n",
       "0  CCCTCCCCGTGGGCCAGTGTGAGGAGCCGGCTGCGATGCGCTCGAG...  \n",
       "1  TATGACAGTTTGCCGCCCAGCGGCGCTGCGGTGTACCGCTGGCCAG...  \n",
       "2  GCCACGAATTCTTCGTGGGCCTCTCCGTCTCTCCGTGCCATCTGCT...  \n",
       "3  GCCCCAGCCCCTTGGCTGGCATGGACGGAGATGGACGATGAAGACA...  \n",
       "4  GCAGCGGATTTCCATAGGCTTCTCTCAGCTCCAGGCAATCGGTTGA...  "
      ],
      "text/html": [
       "<div>\n",
       "<style scoped>\n",
       "    .dataframe tbody tr th:only-of-type {\n",
       "        vertical-align: middle;\n",
       "    }\n",
       "\n",
       "    .dataframe tbody tr th {\n",
       "        vertical-align: top;\n",
       "    }\n",
       "\n",
       "    .dataframe thead th {\n",
       "        text-align: right;\n",
       "    }\n",
       "</style>\n",
       "<table border=\"1\" class=\"dataframe\">\n",
       "  <thead>\n",
       "    <tr style=\"text-align: right;\">\n",
       "      <th></th>\n",
       "      <th>qseqid</th>\n",
       "      <th>sseqid</th>\n",
       "      <th>pident</th>\n",
       "      <th>length</th>\n",
       "      <th>qstart</th>\n",
       "      <th>qend</th>\n",
       "      <th>sstart</th>\n",
       "      <th>send</th>\n",
       "      <th>evalue</th>\n",
       "      <th>bitscore</th>\n",
       "      <th>qlen</th>\n",
       "      <th>slen</th>\n",
       "      <th>sstrand</th>\n",
       "      <th>sseq</th>\n",
       "    </tr>\n",
       "  </thead>\n",
       "  <tbody>\n",
       "    <tr>\n",
       "      <th>0</th>\n",
       "      <td>NaN</td>\n",
       "      <td>LmjF.01</td>\n",
       "      <td>NaN</td>\n",
       "      <td>253</td>\n",
       "      <td>NaN</td>\n",
       "      <td>NaN</td>\n",
       "      <td>24536</td>\n",
       "      <td>24284</td>\n",
       "      <td>NaN</td>\n",
       "      <td>NaN</td>\n",
       "      <td>NaN</td>\n",
       "      <td>NaN</td>\n",
       "      <td>minus</td>\n",
       "      <td>CCCTCCCCGTGGGCCAGTGTGAGGAGCCGGCTGCGATGCGCTCGAG...</td>\n",
       "    </tr>\n",
       "    <tr>\n",
       "      <th>1</th>\n",
       "      <td>NaN</td>\n",
       "      <td>LmjF.01</td>\n",
       "      <td>NaN</td>\n",
       "      <td>597</td>\n",
       "      <td>NaN</td>\n",
       "      <td>NaN</td>\n",
       "      <td>25200</td>\n",
       "      <td>24604</td>\n",
       "      <td>NaN</td>\n",
       "      <td>NaN</td>\n",
       "      <td>NaN</td>\n",
       "      <td>NaN</td>\n",
       "      <td>minus</td>\n",
       "      <td>TATGACAGTTTGCCGCCCAGCGGCGCTGCGGTGTACCGCTGGCCAG...</td>\n",
       "    </tr>\n",
       "    <tr>\n",
       "      <th>2</th>\n",
       "      <td>NaN</td>\n",
       "      <td>LmjF.01</td>\n",
       "      <td>NaN</td>\n",
       "      <td>935</td>\n",
       "      <td>NaN</td>\n",
       "      <td>NaN</td>\n",
       "      <td>36401</td>\n",
       "      <td>35467</td>\n",
       "      <td>NaN</td>\n",
       "      <td>NaN</td>\n",
       "      <td>NaN</td>\n",
       "      <td>NaN</td>\n",
       "      <td>minus</td>\n",
       "      <td>GCCACGAATTCTTCGTGGGCCTCTCCGTCTCTCCGTGCCATCTGCT...</td>\n",
       "    </tr>\n",
       "    <tr>\n",
       "      <th>3</th>\n",
       "      <td>NaN</td>\n",
       "      <td>LmjF.01</td>\n",
       "      <td>NaN</td>\n",
       "      <td>812</td>\n",
       "      <td>NaN</td>\n",
       "      <td>NaN</td>\n",
       "      <td>40541</td>\n",
       "      <td>39730</td>\n",
       "      <td>NaN</td>\n",
       "      <td>NaN</td>\n",
       "      <td>NaN</td>\n",
       "      <td>NaN</td>\n",
       "      <td>minus</td>\n",
       "      <td>GCCCCAGCCCCTTGGCTGGCATGGACGGAGATGGACGATGAAGACA...</td>\n",
       "    </tr>\n",
       "    <tr>\n",
       "      <th>4</th>\n",
       "      <td>NaN</td>\n",
       "      <td>LmjF.01</td>\n",
       "      <td>NaN</td>\n",
       "      <td>949</td>\n",
       "      <td>NaN</td>\n",
       "      <td>NaN</td>\n",
       "      <td>55542</td>\n",
       "      <td>54594</td>\n",
       "      <td>NaN</td>\n",
       "      <td>NaN</td>\n",
       "      <td>NaN</td>\n",
       "      <td>NaN</td>\n",
       "      <td>minus</td>\n",
       "      <td>GCAGCGGATTTCCATAGGCTTCTCTCAGCTCCAGGCAATCGGTTGA...</td>\n",
       "    </tr>\n",
       "  </tbody>\n",
       "</table>\n",
       "</div>"
      ]
     },
     "execution_count": 6,
     "metadata": {},
     "output_type": "execute_result"
    }
   ],
   "execution_count": 6
  },
  {
   "metadata": {},
   "cell_type": "markdown",
   "source": "# Prepare data",
   "id": "275aceca80fe65e6"
  },
  {
   "metadata": {},
   "cell_type": "markdown",
   "source": "## Extract needed columns",
   "id": "52d66af3cbfa996f"
  },
  {
   "metadata": {
    "ExecuteTime": {
     "end_time": "2024-11-04T10:23:46.086384Z",
     "start_time": "2024-11-04T10:23:46.079768Z"
    }
   },
   "cell_type": "code",
   "source": [
    "# Get needed columns only and rename columns.\n",
    "sider_df = sider_df[['sseqid', 'length', 'sstart', 'send', 'sstrand', 'sseq']]\n",
    "sider_df = sider_df.rename(\n",
    "    columns= {\n",
    "        'sseqid': 'chrom',\n",
    "        'sstart': 'sider_start',\n",
    "        'send': 'sider_end',\n",
    "        'sstrand': 'sider_strand',\n",
    "        'sseq': 'sider_seq'\n",
    "    }\n",
    ")\n",
    "print(sider_df.shape)\n",
    "print(sider_df.dtypes)\n",
    "sider_df.head()"
   ],
   "id": "75018af1e9050ab6",
   "outputs": [
    {
     "name": "stdout",
     "output_type": "stream",
     "text": [
      "(4804, 6)\n",
      "chrom           object\n",
      "length           int64\n",
      "sider_start      int64\n",
      "sider_end        int64\n",
      "sider_strand    object\n",
      "sider_seq       object\n",
      "dtype: object\n"
     ]
    },
    {
     "data": {
      "text/plain": [
       "     chrom  length  sider_start  sider_end sider_strand  \\\n",
       "0  LmjF.01     253        24536      24284        minus   \n",
       "1  LmjF.01     597        25200      24604        minus   \n",
       "2  LmjF.01     935        36401      35467        minus   \n",
       "3  LmjF.01     812        40541      39730        minus   \n",
       "4  LmjF.01     949        55542      54594        minus   \n",
       "\n",
       "                                           sider_seq  \n",
       "0  CCCTCCCCGTGGGCCAGTGTGAGGAGCCGGCTGCGATGCGCTCGAG...  \n",
       "1  TATGACAGTTTGCCGCCCAGCGGCGCTGCGGTGTACCGCTGGCCAG...  \n",
       "2  GCCACGAATTCTTCGTGGGCCTCTCCGTCTCTCCGTGCCATCTGCT...  \n",
       "3  GCCCCAGCCCCTTGGCTGGCATGGACGGAGATGGACGATGAAGACA...  \n",
       "4  GCAGCGGATTTCCATAGGCTTCTCTCAGCTCCAGGCAATCGGTTGA...  "
      ],
      "text/html": [
       "<div>\n",
       "<style scoped>\n",
       "    .dataframe tbody tr th:only-of-type {\n",
       "        vertical-align: middle;\n",
       "    }\n",
       "\n",
       "    .dataframe tbody tr th {\n",
       "        vertical-align: top;\n",
       "    }\n",
       "\n",
       "    .dataframe thead th {\n",
       "        text-align: right;\n",
       "    }\n",
       "</style>\n",
       "<table border=\"1\" class=\"dataframe\">\n",
       "  <thead>\n",
       "    <tr style=\"text-align: right;\">\n",
       "      <th></th>\n",
       "      <th>chrom</th>\n",
       "      <th>length</th>\n",
       "      <th>sider_start</th>\n",
       "      <th>sider_end</th>\n",
       "      <th>sider_strand</th>\n",
       "      <th>sider_seq</th>\n",
       "    </tr>\n",
       "  </thead>\n",
       "  <tbody>\n",
       "    <tr>\n",
       "      <th>0</th>\n",
       "      <td>LmjF.01</td>\n",
       "      <td>253</td>\n",
       "      <td>24536</td>\n",
       "      <td>24284</td>\n",
       "      <td>minus</td>\n",
       "      <td>CCCTCCCCGTGGGCCAGTGTGAGGAGCCGGCTGCGATGCGCTCGAG...</td>\n",
       "    </tr>\n",
       "    <tr>\n",
       "      <th>1</th>\n",
       "      <td>LmjF.01</td>\n",
       "      <td>597</td>\n",
       "      <td>25200</td>\n",
       "      <td>24604</td>\n",
       "      <td>minus</td>\n",
       "      <td>TATGACAGTTTGCCGCCCAGCGGCGCTGCGGTGTACCGCTGGCCAG...</td>\n",
       "    </tr>\n",
       "    <tr>\n",
       "      <th>2</th>\n",
       "      <td>LmjF.01</td>\n",
       "      <td>935</td>\n",
       "      <td>36401</td>\n",
       "      <td>35467</td>\n",
       "      <td>minus</td>\n",
       "      <td>GCCACGAATTCTTCGTGGGCCTCTCCGTCTCTCCGTGCCATCTGCT...</td>\n",
       "    </tr>\n",
       "    <tr>\n",
       "      <th>3</th>\n",
       "      <td>LmjF.01</td>\n",
       "      <td>812</td>\n",
       "      <td>40541</td>\n",
       "      <td>39730</td>\n",
       "      <td>minus</td>\n",
       "      <td>GCCCCAGCCCCTTGGCTGGCATGGACGGAGATGGACGATGAAGACA...</td>\n",
       "    </tr>\n",
       "    <tr>\n",
       "      <th>4</th>\n",
       "      <td>LmjF.01</td>\n",
       "      <td>949</td>\n",
       "      <td>55542</td>\n",
       "      <td>54594</td>\n",
       "      <td>minus</td>\n",
       "      <td>GCAGCGGATTTCCATAGGCTTCTCTCAGCTCCAGGCAATCGGTTGA...</td>\n",
       "    </tr>\n",
       "  </tbody>\n",
       "</table>\n",
       "</div>"
      ]
     },
     "execution_count": 10,
     "metadata": {},
     "output_type": "execute_result"
    }
   ],
   "execution_count": 10
  },
  {
   "metadata": {},
   "cell_type": "markdown",
   "source": "## Fail proof: Start > End ?",
   "id": "3d757854145acd84"
  },
  {
   "metadata": {
    "ExecuteTime": {
     "end_time": "2024-11-04T10:29:39.282104Z",
     "start_time": "2024-11-04T10:29:39.271624Z"
    }
   },
   "cell_type": "code",
   "source": [
    "# Check where rows 'sider_start' > 'sider_end'\n",
    "print(sider_df[sider_df['sider_start'] > sider_df['sider_end']].shape)\n",
    "print(sider_df[sider_df['sider_start'] > sider_df['sider_end']]['sider_strand'].value_counts())\n",
    "sider_df[sider_df['sider_start'] > sider_df['sider_end']].head()"
   ],
   "id": "3c31deb2194b923b",
   "outputs": [
    {
     "name": "stdout",
     "output_type": "stream",
     "text": [
      "(2874, 6)\n",
      "sider_strand\n",
      "minus    2874\n",
      "Name: count, dtype: int64\n"
     ]
    },
    {
     "data": {
      "text/plain": [
       "     chrom  length  sider_start  sider_end sider_strand  \\\n",
       "0  LmjF.01     253        24536      24284        minus   \n",
       "1  LmjF.01     597        25200      24604        minus   \n",
       "2  LmjF.01     935        36401      35467        minus   \n",
       "3  LmjF.01     812        40541      39730        minus   \n",
       "4  LmjF.01     949        55542      54594        minus   \n",
       "\n",
       "                                           sider_seq  \n",
       "0  CCCTCCCCGTGGGCCAGTGTGAGGAGCCGGCTGCGATGCGCTCGAG...  \n",
       "1  TATGACAGTTTGCCGCCCAGCGGCGCTGCGGTGTACCGCTGGCCAG...  \n",
       "2  GCCACGAATTCTTCGTGGGCCTCTCCGTCTCTCCGTGCCATCTGCT...  \n",
       "3  GCCCCAGCCCCTTGGCTGGCATGGACGGAGATGGACGATGAAGACA...  \n",
       "4  GCAGCGGATTTCCATAGGCTTCTCTCAGCTCCAGGCAATCGGTTGA...  "
      ],
      "text/html": [
       "<div>\n",
       "<style scoped>\n",
       "    .dataframe tbody tr th:only-of-type {\n",
       "        vertical-align: middle;\n",
       "    }\n",
       "\n",
       "    .dataframe tbody tr th {\n",
       "        vertical-align: top;\n",
       "    }\n",
       "\n",
       "    .dataframe thead th {\n",
       "        text-align: right;\n",
       "    }\n",
       "</style>\n",
       "<table border=\"1\" class=\"dataframe\">\n",
       "  <thead>\n",
       "    <tr style=\"text-align: right;\">\n",
       "      <th></th>\n",
       "      <th>chrom</th>\n",
       "      <th>length</th>\n",
       "      <th>sider_start</th>\n",
       "      <th>sider_end</th>\n",
       "      <th>sider_strand</th>\n",
       "      <th>sider_seq</th>\n",
       "    </tr>\n",
       "  </thead>\n",
       "  <tbody>\n",
       "    <tr>\n",
       "      <th>0</th>\n",
       "      <td>LmjF.01</td>\n",
       "      <td>253</td>\n",
       "      <td>24536</td>\n",
       "      <td>24284</td>\n",
       "      <td>minus</td>\n",
       "      <td>CCCTCCCCGTGGGCCAGTGTGAGGAGCCGGCTGCGATGCGCTCGAG...</td>\n",
       "    </tr>\n",
       "    <tr>\n",
       "      <th>1</th>\n",
       "      <td>LmjF.01</td>\n",
       "      <td>597</td>\n",
       "      <td>25200</td>\n",
       "      <td>24604</td>\n",
       "      <td>minus</td>\n",
       "      <td>TATGACAGTTTGCCGCCCAGCGGCGCTGCGGTGTACCGCTGGCCAG...</td>\n",
       "    </tr>\n",
       "    <tr>\n",
       "      <th>2</th>\n",
       "      <td>LmjF.01</td>\n",
       "      <td>935</td>\n",
       "      <td>36401</td>\n",
       "      <td>35467</td>\n",
       "      <td>minus</td>\n",
       "      <td>GCCACGAATTCTTCGTGGGCCTCTCCGTCTCTCCGTGCCATCTGCT...</td>\n",
       "    </tr>\n",
       "    <tr>\n",
       "      <th>3</th>\n",
       "      <td>LmjF.01</td>\n",
       "      <td>812</td>\n",
       "      <td>40541</td>\n",
       "      <td>39730</td>\n",
       "      <td>minus</td>\n",
       "      <td>GCCCCAGCCCCTTGGCTGGCATGGACGGAGATGGACGATGAAGACA...</td>\n",
       "    </tr>\n",
       "    <tr>\n",
       "      <th>4</th>\n",
       "      <td>LmjF.01</td>\n",
       "      <td>949</td>\n",
       "      <td>55542</td>\n",
       "      <td>54594</td>\n",
       "      <td>minus</td>\n",
       "      <td>GCAGCGGATTTCCATAGGCTTCTCTCAGCTCCAGGCAATCGGTTGA...</td>\n",
       "    </tr>\n",
       "  </tbody>\n",
       "</table>\n",
       "</div>"
      ]
     },
     "execution_count": 18,
     "metadata": {},
     "output_type": "execute_result"
    }
   ],
   "execution_count": 18
  },
  {
   "metadata": {
    "ExecuteTime": {
     "end_time": "2024-11-04T10:46:09.889826Z",
     "start_time": "2024-11-04T10:46:09.878656Z"
    }
   },
   "cell_type": "code",
   "source": [
    "# Change it so 'sider_start' < 'sider_end'\n",
    "sider_df.loc[\n",
    "    sider_df[sider_df['sider_start'] > sider_df['sider_end']].index,\n",
    "    ['sider_start', 'sider_end']\n",
    "] = sider_df.loc[\n",
    "    sider_df[sider_df['sider_start'] > sider_df['sider_end']].index,\n",
    "    ['sider_end', 'sider_start']\n",
    "].values\n",
    "\n",
    "# Check result\n",
    "# Check where rows 'sider_start' > 'sider_end'\n",
    "print(sider_df[sider_df['sider_start'] > sider_df['sider_end']].shape)\n",
    "print(sider_df[sider_df['sider_start'] > sider_df['sider_end']]['sider_strand'].value_counts())\n",
    "sider_df[sider_df['sider_start'] > sider_df['sider_end']].head()"
   ],
   "id": "213113a3236ac32f",
   "outputs": [
    {
     "name": "stdout",
     "output_type": "stream",
     "text": [
      "(0, 6)\n",
      "Series([], Name: count, dtype: int64)\n"
     ]
    },
    {
     "data": {
      "text/plain": [
       "Empty DataFrame\n",
       "Columns: [chrom, length, sider_start, sider_end, sider_strand, sider_seq]\n",
       "Index: []"
      ],
      "text/html": [
       "<div>\n",
       "<style scoped>\n",
       "    .dataframe tbody tr th:only-of-type {\n",
       "        vertical-align: middle;\n",
       "    }\n",
       "\n",
       "    .dataframe tbody tr th {\n",
       "        vertical-align: top;\n",
       "    }\n",
       "\n",
       "    .dataframe thead th {\n",
       "        text-align: right;\n",
       "    }\n",
       "</style>\n",
       "<table border=\"1\" class=\"dataframe\">\n",
       "  <thead>\n",
       "    <tr style=\"text-align: right;\">\n",
       "      <th></th>\n",
       "      <th>chrom</th>\n",
       "      <th>length</th>\n",
       "      <th>sider_start</th>\n",
       "      <th>sider_end</th>\n",
       "      <th>sider_strand</th>\n",
       "      <th>sider_seq</th>\n",
       "    </tr>\n",
       "  </thead>\n",
       "  <tbody>\n",
       "  </tbody>\n",
       "</table>\n",
       "</div>"
      ]
     },
     "execution_count": 21,
     "metadata": {},
     "output_type": "execute_result"
    }
   ],
   "execution_count": 21
  },
  {
   "metadata": {
    "ExecuteTime": {
     "end_time": "2024-11-04T10:59:55.616467Z",
     "start_time": "2024-11-04T10:59:55.613301Z"
    }
   },
   "cell_type": "code",
   "source": [
    "# Check if the number of 'sider_start' < 'sider_end' are the same as the total length of 'sider_df'\n",
    "print(sider_df.shape)\n",
    "print(sider_df[sider_df['sider_start'] < sider_df['sider_end']].shape)"
   ],
   "id": "2f8f2d5701b40b5c",
   "outputs": [
    {
     "name": "stdout",
     "output_type": "stream",
     "text": [
      "(4804, 6)\n",
      "(4804, 6)\n"
     ]
    }
   ],
   "execution_count": 23
  },
  {
   "metadata": {},
   "cell_type": "markdown",
   "source": "# Save data",
   "id": "491511e70842eb22"
  },
  {
   "metadata": {
    "ExecuteTime": {
     "end_time": "2024-11-04T11:05:36.231242Z",
     "start_time": "2024-11-04T11:05:36.146543Z"
    }
   },
   "cell_type": "code",
   "source": [
    "# Load folder\n",
    "folder_name = 'data'\n",
    "os.makedirs(folder_name, exist_ok=True)\n",
    "\n",
    "# Save data\n",
    "file_path = os.path.join(folder_name, 'sider_df_v2.csv')\n",
    "sider_df.to_csv(file_path, index=False, header=True, sep=',')\n",
    "print(f\"File saved to: {file_path}\")"
   ],
   "id": "fc919e1382c78d46",
   "outputs": [
    {
     "name": "stdout",
     "output_type": "stream",
     "text": [
      "File saved to: data/sider_df_v2.csv\n"
     ]
    }
   ],
   "execution_count": 26
  }
 ],
 "metadata": {
  "kernelspec": {
   "display_name": "Python 3",
   "language": "python",
   "name": "python3"
  },
  "language_info": {
   "codemirror_mode": {
    "name": "ipython",
    "version": 2
   },
   "file_extension": ".py",
   "mimetype": "text/x-python",
   "name": "python",
   "nbconvert_exporter": "python",
   "pygments_lexer": "ipython2",
   "version": "2.7.6"
  }
 },
 "nbformat": 4,
 "nbformat_minor": 5
}
