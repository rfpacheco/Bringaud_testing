{
 "cells": [
  {
   "metadata": {},
   "cell_type": "markdown",
   "source": [
    "Author: Ronny F. Pacheco Date: Nov 2024 Copyright: © 2024 Ronny Pacheco License: MIT License\n",
    "\n",
    "MIT License\n",
    "\n",
    "Copyright (c) 2024 Ronny Pacheco\n",
    "\n",
    "Permission is hereby granted, free of charge, to any person obtaining a copy of this software and associated documentation files (the \"Software\"), to deal in the Software without restriction, including without limitation the rights to use, copy, modify, merge, publish, distribute, sublicense, and/or sell copies of the Software, and to permit persons to whom the Software is furnished to do so, subject to the following conditions:\n",
    "\n",
    "The above copyright notice and this permission notice shall be included in all copies or substantial portions of the Software.\n",
    "\n",
    "THE SOFTWARE IS PROVIDED \"AS IS\", WITHOUT WARRANTY OF ANY KIND, EXPRESS OR IMPLIED, INCLUDING BUT NOT LIMITED TO THE WARRANTIES OF MERCHANTABILITY, FITNESS FOR A PARTICULAR PURPOSE AND NONINFRINGEMENT. IN NO EVENT SHALL THE AUTHORS OR COPYRIGHT HOLDERS BE LIABLE FOR ANY CLAIM, DAMAGES OR OTHER LIABILITY, WHETHER IN AN ACTION OF CONTRACT, TORT OR OTHERWISE, ARISING FROM, OUT OF OR IN CONNECTION WITH THE SOFTWARE OR THE USE OR OTHER DEALINGS IN THE SOFTWARE.\n"
   ],
   "id": "9d8c018b139c0a64"
  },
  {
   "metadata": {},
   "cell_type": "markdown",
   "source": "# In/Out files",
   "id": "3f628af2247521e4"
  },
  {
   "metadata": {},
   "cell_type": "markdown",
   "source": [
    "- In files:\n",
    "- Out files:"
   ],
   "id": "cb6a0af193e8df14"
  },
  {
   "metadata": {},
   "cell_type": "markdown",
   "source": "# Needed modules",
   "id": "87c8bcaff9cdcd60"
  },
  {
   "cell_type": "code",
   "id": "initial_id",
   "metadata": {
    "collapsed": true,
    "ExecuteTime": {
     "end_time": "2024-11-04T13:24:27.685294Z",
     "start_time": "2024-11-04T13:24:27.682828Z"
    }
   },
   "source": [
    "import pandas as pd\n",
    "import pickle\n",
    "import os\n",
    "import subprocess\n",
    "\n",
    "from jupyter_core.version import pattern"
   ],
   "outputs": [],
   "execution_count": 25
  },
  {
   "metadata": {
    "ExecuteTime": {
     "end_time": "2024-11-04T13:24:27.700919Z",
     "start_time": "2024-11-04T13:24:27.698563Z"
    }
   },
   "cell_type": "code",
   "source": [
    "# https://kioku-space.com/en/jupyter-skip-execution/\n",
    "from IPython.core.magic import register_cell_magic # type: ignore\n",
    "\n",
    "\n",
    "@register_cell_magic\n",
    "def skip(line, cell):\n",
    "    print('Skipping cell')\n",
    "    if line and cell:\n",
    "        pass\n",
    "    return"
   ],
   "id": "7ecc0c0eb916ba00",
   "outputs": [],
   "execution_count": 26
  },
  {
   "metadata": {},
   "cell_type": "markdown",
   "source": "# Pickle save",
   "id": "c07a9dae1f8908e3"
  },
  {
   "metadata": {
    "ExecuteTime": {
     "end_time": "2024-11-04T13:24:27.766305Z",
     "start_time": "2024-11-04T13:24:27.763721Z"
    }
   },
   "cell_type": "code",
   "source": [
    "%%skip\n",
    "# =============================================================================\n",
    "# main function\n",
    "# =============================================================================\n",
    "def data_save_load(option):\n",
    "    \"\"\"\n",
    "    This function is used to save or load data for the jupyter notebook\n",
    "    \"\"\"\n",
    "    path_folder = \"ipynb_db\"  # Folder to save variables\n",
    "    os.makedirs(path_folder, exist_ok=True)  # Create folder if not exist\n",
    "    notebook_name = '1.prepare_data'\n",
    "    path_file = os.path.join(path_folder, f\"{notebook_name}.variables.pkl\") # Path to save the variables\n",
    "\n",
    "    if option == \"save\":\n",
    "        with open(path_file, \"wb\") as pickle_file:\n",
    "            dict_variables = { # 'var_name' : 'real_var'\n",
    "\n",
    "            }\n",
    "            pickle.dump(dict_variables, pickle_file)\n",
    "    elif option == \"load\":\n",
    "        with open(path_file, \"rb\") as pickle_file:\n",
    "            variables = pickle.load(pickle_file)\n",
    "        # Now load the variables\n",
    "        for pickle_key, pickle_value in variables.items():\n",
    "            print(f\"* Loading variable: {pickle_key}\")\n",
    "            globals()[pickle_key] = pickle_value\n",
    "# =============================================================================\n",
    "# Call the function\n",
    "# =============================================================================\n",
    "data_save_load(option=\"load\")"
   ],
   "id": "caf4e99057998eb9",
   "outputs": [
    {
     "name": "stdout",
     "output_type": "stream",
     "text": [
      "Skipping cell\n"
     ]
    }
   ],
   "execution_count": 27
  },
  {
   "metadata": {},
   "cell_type": "markdown",
   "source": "# Load data",
   "id": "9604ec461e69f24f"
  },
  {
   "metadata": {},
   "cell_type": "markdown",
   "source": "## SIDER form our software",
   "id": "b3723b29e4cd4612"
  },
  {
   "metadata": {
    "ExecuteTime": {
     "end_time": "2024-11-04T13:24:27.836336Z",
     "start_time": "2024-11-04T13:24:27.817827Z"
    }
   },
   "cell_type": "code",
   "source": [
    "# Load sider merged data\n",
    "sider_df = pd.read_csv('./data/sider_merged.csv', sep=',', header=0)\n",
    "print(sider_df.shape)\n",
    "print(sider_df.dtypes)\n",
    "sider_df.head()"
   ],
   "id": "95a99d265ffe3254",
   "outputs": [
    {
     "name": "stdout",
     "output_type": "stream",
     "text": [
      "(2874, 5)\n",
      "chrom          object\n",
      "sider_start     int64\n",
      "sider_end       int64\n",
      "strand         object\n",
      "sider_seq      object\n",
      "dtype: object\n"
     ]
    },
    {
     "data": {
      "text/plain": [
       "     chrom  sider_start  sider_end strand  \\\n",
       "0  LmjF.01        24284      24536   plus   \n",
       "1  LmjF.01        24604      25200   plus   \n",
       "2  LmjF.01        35467      36401   plus   \n",
       "3  LmjF.01        39730      40541   plus   \n",
       "4  LmjF.01        54594      55542   plus   \n",
       "\n",
       "                                           sider_seq  \n",
       "0  GCAGCCCCCTCCCCCTCTATCCCTGCCAACGCCAAACCACTTCTGG...  \n",
       "1  CCGGCATGATGGAGGGGCGGCTGTGAGGTGGTGCGTGCATGTATGT...  \n",
       "2  CCCCATCGCCTGGTGCGAAGCAGCGCAAGACACACACGCGCTGCAG...  \n",
       "3  ATTTTACCGCGAGCAAGGCAACACACAGACGCACACACAACCACAG...  \n",
       "4  GCCGCACCCCACCCCCATCGCCTGGTGCGAAGCAGCGCAAGACACA...  "
      ],
      "text/html": [
       "<div>\n",
       "<style scoped>\n",
       "    .dataframe tbody tr th:only-of-type {\n",
       "        vertical-align: middle;\n",
       "    }\n",
       "\n",
       "    .dataframe tbody tr th {\n",
       "        vertical-align: top;\n",
       "    }\n",
       "\n",
       "    .dataframe thead th {\n",
       "        text-align: right;\n",
       "    }\n",
       "</style>\n",
       "<table border=\"1\" class=\"dataframe\">\n",
       "  <thead>\n",
       "    <tr style=\"text-align: right;\">\n",
       "      <th></th>\n",
       "      <th>chrom</th>\n",
       "      <th>sider_start</th>\n",
       "      <th>sider_end</th>\n",
       "      <th>strand</th>\n",
       "      <th>sider_seq</th>\n",
       "    </tr>\n",
       "  </thead>\n",
       "  <tbody>\n",
       "    <tr>\n",
       "      <th>0</th>\n",
       "      <td>LmjF.01</td>\n",
       "      <td>24284</td>\n",
       "      <td>24536</td>\n",
       "      <td>plus</td>\n",
       "      <td>GCAGCCCCCTCCCCCTCTATCCCTGCCAACGCCAAACCACTTCTGG...</td>\n",
       "    </tr>\n",
       "    <tr>\n",
       "      <th>1</th>\n",
       "      <td>LmjF.01</td>\n",
       "      <td>24604</td>\n",
       "      <td>25200</td>\n",
       "      <td>plus</td>\n",
       "      <td>CCGGCATGATGGAGGGGCGGCTGTGAGGTGGTGCGTGCATGTATGT...</td>\n",
       "    </tr>\n",
       "    <tr>\n",
       "      <th>2</th>\n",
       "      <td>LmjF.01</td>\n",
       "      <td>35467</td>\n",
       "      <td>36401</td>\n",
       "      <td>plus</td>\n",
       "      <td>CCCCATCGCCTGGTGCGAAGCAGCGCAAGACACACACGCGCTGCAG...</td>\n",
       "    </tr>\n",
       "    <tr>\n",
       "      <th>3</th>\n",
       "      <td>LmjF.01</td>\n",
       "      <td>39730</td>\n",
       "      <td>40541</td>\n",
       "      <td>plus</td>\n",
       "      <td>ATTTTACCGCGAGCAAGGCAACACACAGACGCACACACAACCACAG...</td>\n",
       "    </tr>\n",
       "    <tr>\n",
       "      <th>4</th>\n",
       "      <td>LmjF.01</td>\n",
       "      <td>54594</td>\n",
       "      <td>55542</td>\n",
       "      <td>plus</td>\n",
       "      <td>GCCGCACCCCACCCCCATCGCCTGGTGCGAAGCAGCGCAAGACACA...</td>\n",
       "    </tr>\n",
       "  </tbody>\n",
       "</table>\n",
       "</div>"
      ]
     },
     "execution_count": 28,
     "metadata": {},
     "output_type": "execute_result"
    }
   ],
   "execution_count": 28
  },
  {
   "metadata": {},
   "cell_type": "markdown",
   "source": "## Bringaud SIDER",
   "id": "62e952e1b2dd54aa"
  },
  {
   "metadata": {
    "ExecuteTime": {
     "end_time": "2024-11-04T13:24:27.963151Z",
     "start_time": "2024-11-04T13:24:27.956266Z"
    }
   },
   "cell_type": "code",
   "source": [
    "# Load bringaud sider data\n",
    "bringaud_df = pd.read_csv('../data/bringaud_siders.csv', sep=',', header=0)\n",
    "print(bringaud_df.shape)\n",
    "print(bringaud_df.dtypes)\n",
    "bringaud_df.head()"
   ],
   "id": "22d19b4c65b10e75",
   "outputs": [
    {
     "name": "stdout",
     "output_type": "stream",
     "text": [
      "(1852, 8)\n",
      "ID          object\n",
      "chr          int64\n",
      "name        object\n",
      "fam          int64\n",
      "str         object\n",
      "start        int64\n",
      "end          int64\n",
      "chr_size     int64\n",
      "dtype: object\n"
     ]
    },
    {
     "data": {
      "text/plain": [
       "           ID  chr           name  fam str   start     end  chr_size\n",
       "0  51.te00022    1  chr1_37.00281    1   -   39705   40532    268984\n",
       "1  51.te00019    1  chr1_37.00289    1   +  260993  261261    268984\n",
       "2  51.te00020    1  chr1_37.00290    1   +  266162  266340    268984\n",
       "3  51.te00018    1  chr1_37.00279    2   +   24174   24821    268984\n",
       "4  51.te00021    1  chr1_37.00280    2   -   35328   36036    268984"
      ],
      "text/html": [
       "<div>\n",
       "<style scoped>\n",
       "    .dataframe tbody tr th:only-of-type {\n",
       "        vertical-align: middle;\n",
       "    }\n",
       "\n",
       "    .dataframe tbody tr th {\n",
       "        vertical-align: top;\n",
       "    }\n",
       "\n",
       "    .dataframe thead th {\n",
       "        text-align: right;\n",
       "    }\n",
       "</style>\n",
       "<table border=\"1\" class=\"dataframe\">\n",
       "  <thead>\n",
       "    <tr style=\"text-align: right;\">\n",
       "      <th></th>\n",
       "      <th>ID</th>\n",
       "      <th>chr</th>\n",
       "      <th>name</th>\n",
       "      <th>fam</th>\n",
       "      <th>str</th>\n",
       "      <th>start</th>\n",
       "      <th>end</th>\n",
       "      <th>chr_size</th>\n",
       "    </tr>\n",
       "  </thead>\n",
       "  <tbody>\n",
       "    <tr>\n",
       "      <th>0</th>\n",
       "      <td>51.te00022</td>\n",
       "      <td>1</td>\n",
       "      <td>chr1_37.00281</td>\n",
       "      <td>1</td>\n",
       "      <td>-</td>\n",
       "      <td>39705</td>\n",
       "      <td>40532</td>\n",
       "      <td>268984</td>\n",
       "    </tr>\n",
       "    <tr>\n",
       "      <th>1</th>\n",
       "      <td>51.te00019</td>\n",
       "      <td>1</td>\n",
       "      <td>chr1_37.00289</td>\n",
       "      <td>1</td>\n",
       "      <td>+</td>\n",
       "      <td>260993</td>\n",
       "      <td>261261</td>\n",
       "      <td>268984</td>\n",
       "    </tr>\n",
       "    <tr>\n",
       "      <th>2</th>\n",
       "      <td>51.te00020</td>\n",
       "      <td>1</td>\n",
       "      <td>chr1_37.00290</td>\n",
       "      <td>1</td>\n",
       "      <td>+</td>\n",
       "      <td>266162</td>\n",
       "      <td>266340</td>\n",
       "      <td>268984</td>\n",
       "    </tr>\n",
       "    <tr>\n",
       "      <th>3</th>\n",
       "      <td>51.te00018</td>\n",
       "      <td>1</td>\n",
       "      <td>chr1_37.00279</td>\n",
       "      <td>2</td>\n",
       "      <td>+</td>\n",
       "      <td>24174</td>\n",
       "      <td>24821</td>\n",
       "      <td>268984</td>\n",
       "    </tr>\n",
       "    <tr>\n",
       "      <th>4</th>\n",
       "      <td>51.te00021</td>\n",
       "      <td>1</td>\n",
       "      <td>chr1_37.00280</td>\n",
       "      <td>2</td>\n",
       "      <td>-</td>\n",
       "      <td>35328</td>\n",
       "      <td>36036</td>\n",
       "      <td>268984</td>\n",
       "    </tr>\n",
       "  </tbody>\n",
       "</table>\n",
       "</div>"
      ]
     },
     "execution_count": 29,
     "metadata": {},
     "output_type": "execute_result"
    }
   ],
   "execution_count": 29
  },
  {
   "metadata": {},
   "cell_type": "markdown",
   "source": "# Prepare data",
   "id": "8cbdf6133c579709"
  },
  {
   "metadata": {},
   "cell_type": "markdown",
   "source": "## Bringaud siders",
   "id": "f8bb722ceb288335"
  },
  {
   "metadata": {
    "ExecuteTime": {
     "end_time": "2024-11-04T13:24:28.097790Z",
     "start_time": "2024-11-04T13:24:28.092913Z"
    }
   },
   "cell_type": "code",
   "source": [
    "# Take from bringaud only the needed data\n",
    "bringaud_df = bringaud_df[['name', 'start', 'end']]\n",
    "bringaud_df = bringaud_df.rename(\n",
    "    columns={'start' : 'bringaud_start', 'end' : 'bringaud_end'}\n",
    ")\n",
    "bringaud_df.head()"
   ],
   "id": "545d00c1ff59cff9",
   "outputs": [
    {
     "data": {
      "text/plain": [
       "            name  bringaud_start  bringaud_end\n",
       "0  chr1_37.00281           39705         40532\n",
       "1  chr1_37.00289          260993        261261\n",
       "2  chr1_37.00290          266162        266340\n",
       "3  chr1_37.00279           24174         24821\n",
       "4  chr1_37.00280           35328         36036"
      ],
      "text/html": [
       "<div>\n",
       "<style scoped>\n",
       "    .dataframe tbody tr th:only-of-type {\n",
       "        vertical-align: middle;\n",
       "    }\n",
       "\n",
       "    .dataframe tbody tr th {\n",
       "        vertical-align: top;\n",
       "    }\n",
       "\n",
       "    .dataframe thead th {\n",
       "        text-align: right;\n",
       "    }\n",
       "</style>\n",
       "<table border=\"1\" class=\"dataframe\">\n",
       "  <thead>\n",
       "    <tr style=\"text-align: right;\">\n",
       "      <th></th>\n",
       "      <th>name</th>\n",
       "      <th>bringaud_start</th>\n",
       "      <th>bringaud_end</th>\n",
       "    </tr>\n",
       "  </thead>\n",
       "  <tbody>\n",
       "    <tr>\n",
       "      <th>0</th>\n",
       "      <td>chr1_37.00281</td>\n",
       "      <td>39705</td>\n",
       "      <td>40532</td>\n",
       "    </tr>\n",
       "    <tr>\n",
       "      <th>1</th>\n",
       "      <td>chr1_37.00289</td>\n",
       "      <td>260993</td>\n",
       "      <td>261261</td>\n",
       "    </tr>\n",
       "    <tr>\n",
       "      <th>2</th>\n",
       "      <td>chr1_37.00290</td>\n",
       "      <td>266162</td>\n",
       "      <td>266340</td>\n",
       "    </tr>\n",
       "    <tr>\n",
       "      <th>3</th>\n",
       "      <td>chr1_37.00279</td>\n",
       "      <td>24174</td>\n",
       "      <td>24821</td>\n",
       "    </tr>\n",
       "    <tr>\n",
       "      <th>4</th>\n",
       "      <td>chr1_37.00280</td>\n",
       "      <td>35328</td>\n",
       "      <td>36036</td>\n",
       "    </tr>\n",
       "  </tbody>\n",
       "</table>\n",
       "</div>"
      ]
     },
     "execution_count": 30,
     "metadata": {},
     "output_type": "execute_result"
    }
   ],
   "execution_count": 30
  },
  {
   "metadata": {
    "ExecuteTime": {
     "end_time": "2024-11-04T13:24:28.239529Z",
     "start_time": "2024-11-04T13:24:28.233403Z"
    }
   },
   "cell_type": "code",
   "source": [
    "# Get the chromosome and prepend '0' to single digits, then add 'LmJF.'\n",
    "pattern = r'^\\D+(\\d+)_'\n",
    "bringaud_df['name'] = bringaud_df['name'].str.extract(pattern, expand=True)\n",
    "\n",
    "# Now for the numbers like 0, 1, 2.. get 01, 02, 03...\n",
    "bringaud_df['name'] = 'LmJF.' + bringaud_df['name'].str.zfill(2)\n",
    "\n",
    "bringaud_df.head()"
   ],
   "id": "1b8a146675a473be",
   "outputs": [
    {
     "data": {
      "text/plain": [
       "      name  bringaud_start  bringaud_end\n",
       "0  LmJF.01           39705         40532\n",
       "1  LmJF.01          260993        261261\n",
       "2  LmJF.01          266162        266340\n",
       "3  LmJF.01           24174         24821\n",
       "4  LmJF.01           35328         36036"
      ],
      "text/html": [
       "<div>\n",
       "<style scoped>\n",
       "    .dataframe tbody tr th:only-of-type {\n",
       "        vertical-align: middle;\n",
       "    }\n",
       "\n",
       "    .dataframe tbody tr th {\n",
       "        vertical-align: top;\n",
       "    }\n",
       "\n",
       "    .dataframe thead th {\n",
       "        text-align: right;\n",
       "    }\n",
       "</style>\n",
       "<table border=\"1\" class=\"dataframe\">\n",
       "  <thead>\n",
       "    <tr style=\"text-align: right;\">\n",
       "      <th></th>\n",
       "      <th>name</th>\n",
       "      <th>bringaud_start</th>\n",
       "      <th>bringaud_end</th>\n",
       "    </tr>\n",
       "  </thead>\n",
       "  <tbody>\n",
       "    <tr>\n",
       "      <th>0</th>\n",
       "      <td>LmJF.01</td>\n",
       "      <td>39705</td>\n",
       "      <td>40532</td>\n",
       "    </tr>\n",
       "    <tr>\n",
       "      <th>1</th>\n",
       "      <td>LmJF.01</td>\n",
       "      <td>260993</td>\n",
       "      <td>261261</td>\n",
       "    </tr>\n",
       "    <tr>\n",
       "      <th>2</th>\n",
       "      <td>LmJF.01</td>\n",
       "      <td>266162</td>\n",
       "      <td>266340</td>\n",
       "    </tr>\n",
       "    <tr>\n",
       "      <th>3</th>\n",
       "      <td>LmJF.01</td>\n",
       "      <td>24174</td>\n",
       "      <td>24821</td>\n",
       "    </tr>\n",
       "    <tr>\n",
       "      <th>4</th>\n",
       "      <td>LmJF.01</td>\n",
       "      <td>35328</td>\n",
       "      <td>36036</td>\n",
       "    </tr>\n",
       "  </tbody>\n",
       "</table>\n",
       "</div>"
      ]
     },
     "execution_count": 31,
     "metadata": {},
     "output_type": "execute_result"
    }
   ],
   "execution_count": 31
  },
  {
   "metadata": {
    "ExecuteTime": {
     "end_time": "2024-11-04T13:24:51.654502Z",
     "start_time": "2024-11-04T13:24:51.651080Z"
    }
   },
   "cell_type": "code",
   "source": [
    "# Check if 'bringaud_start' > 'bringaud_end'. It should be 0\n",
    "bringaud_df[bringaud_df['bringaud_start'] > bringaud_df['bringaud_end']].shape"
   ],
   "id": "e6b1b86dba1fa17f",
   "outputs": [
    {
     "data": {
      "text/plain": [
       "(0, 3)"
      ]
     },
     "execution_count": 33,
     "metadata": {},
     "output_type": "execute_result"
    }
   ],
   "execution_count": 33
  }
 ],
 "metadata": {
  "kernelspec": {
   "display_name": "Python 3",
   "language": "python",
   "name": "python3"
  },
  "language_info": {
   "codemirror_mode": {
    "name": "ipython",
    "version": 2
   },
   "file_extension": ".py",
   "mimetype": "text/x-python",
   "name": "python",
   "nbconvert_exporter": "python",
   "pygments_lexer": "ipython2",
   "version": "2.7.6"
  }
 },
 "nbformat": 4,
 "nbformat_minor": 5
}
