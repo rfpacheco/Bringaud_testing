{
 "cells": [
  {
   "metadata": {},
   "cell_type": "markdown",
   "source": [
    "Author: Ronny F. Pacheco Date: Nov 2024 Copyright: © 2024 Ronny Pacheco License: MIT License\n",
    "\n",
    "MIT License\n",
    "\n",
    "Copyright (c) 2024 Ronny Pacheco\n",
    "\n",
    "Permission is hereby granted, free of charge, to any person obtaining a copy of this software and associated documentation files (the \"Software\"), to deal in the Software without restriction, including without limitation the rights to use, copy, modify, merge, publish, distribute, sublicense, and/or sell copies of the Software, and to permit persons to whom the Software is furnished to do so, subject to the following conditions:\n",
    "\n",
    "The above copyright notice and this permission notice shall be included in all copies or substantial portions of the Software.\n",
    "\n",
    "THE SOFTWARE IS PROVIDED \"AS IS\", WITHOUT WARRANTY OF ANY KIND, EXPRESS OR IMPLIED, INCLUDING BUT NOT LIMITED TO THE WARRANTIES OF MERCHANTABILITY, FITNESS FOR A PARTICULAR PURPOSE AND NONINFRINGEMENT. IN NO EVENT SHALL THE AUTHORS OR COPYRIGHT HOLDERS BE LIABLE FOR ANY CLAIM, DAMAGES OR OTHER LIABILITY, WHETHER IN AN ACTION OF CONTRACT, TORT OR OTHERWISE, ARISING FROM, OUT OF OR IN CONNECTION WITH THE SOFTWARE OR THE USE OR OTHER DEALINGS IN THE SOFTWARE.\n"
   ],
   "id": "9d8c018b139c0a64"
  },
  {
   "metadata": {},
   "cell_type": "markdown",
   "source": "# In/Out files",
   "id": "3f628af2247521e4"
  },
  {
   "metadata": {},
   "cell_type": "markdown",
   "source": [
    "- In files:\n",
    "    - ./data/sider_merged.csv\n",
    "    -  ../data/bringaud_siders.csv\n",
    "- Out files:\n",
    "    - ./data/bedops/compare (directory) "
   ],
   "id": "cb6a0af193e8df14"
  },
  {
   "metadata": {},
   "cell_type": "markdown",
   "source": "# Needed modules",
   "id": "87c8bcaff9cdcd60"
  },
  {
   "cell_type": "code",
   "id": "initial_id",
   "metadata": {
    "collapsed": true,
    "ExecuteTime": {
     "end_time": "2024-11-04T21:45:19.663757Z",
     "start_time": "2024-11-04T21:45:19.460029Z"
    }
   },
   "source": [
    "import pandas as pd\n",
    "import pickle\n",
    "import os\n",
    "import subprocess\n",
    "\n",
    "from jupyter_core.version import pattern"
   ],
   "outputs": [],
   "execution_count": 1
  },
  {
   "metadata": {
    "ExecuteTime": {
     "end_time": "2024-11-04T21:45:19.675587Z",
     "start_time": "2024-11-04T21:45:19.672539Z"
    }
   },
   "cell_type": "code",
   "source": [
    "# https://kioku-space.com/en/jupyter-skip-execution/\n",
    "from IPython.core.magic import register_cell_magic # type: ignore\n",
    "\n",
    "\n",
    "@register_cell_magic\n",
    "def skip(line, cell):\n",
    "    print('Skipping cell')\n",
    "    if line and cell:\n",
    "        pass\n",
    "    return"
   ],
   "id": "7ecc0c0eb916ba00",
   "outputs": [],
   "execution_count": 2
  },
  {
   "metadata": {},
   "cell_type": "markdown",
   "source": "# Pickle save",
   "id": "c07a9dae1f8908e3"
  },
  {
   "metadata": {
    "ExecuteTime": {
     "end_time": "2024-11-04T21:45:19.748923Z",
     "start_time": "2024-11-04T21:45:19.746583Z"
    }
   },
   "cell_type": "code",
   "source": [
    "%%skip\n",
    "# =============================================================================\n",
    "# main function\n",
    "# =============================================================================\n",
    "def data_save_load(option):\n",
    "    \"\"\"\n",
    "    This function is used to save or load data for the jupyter notebook\n",
    "    \"\"\"\n",
    "    path_folder = \"ipynb_db\"  # Folder to save variables\n",
    "    os.makedirs(path_folder, exist_ok=True)  # Create folder if not exist\n",
    "    notebook_name = '1.prepare_data'\n",
    "    path_file = os.path.join(path_folder, f\"{notebook_name}.variables.pkl\") # Path to save the variables\n",
    "\n",
    "    if option == \"save\":\n",
    "        with open(path_file, \"wb\") as pickle_file:\n",
    "            dict_variables = { # 'var_name' : 'real_var'\n",
    "\n",
    "            }\n",
    "            pickle.dump(dict_variables, pickle_file)\n",
    "    elif option == \"load\":\n",
    "        with open(path_file, \"rb\") as pickle_file:\n",
    "            variables = pickle.load(pickle_file)\n",
    "        # Now load the variables\n",
    "        for pickle_key, pickle_value in variables.items():\n",
    "            print(f\"* Loading variable: {pickle_key}\")\n",
    "            globals()[pickle_key] = pickle_value\n",
    "# =============================================================================\n",
    "# Call the function\n",
    "# =============================================================================\n",
    "data_save_load(option=\"load\")"
   ],
   "id": "caf4e99057998eb9",
   "outputs": [
    {
     "name": "stdout",
     "output_type": "stream",
     "text": [
      "Skipping cell\n"
     ]
    }
   ],
   "execution_count": 3
  },
  {
   "metadata": {},
   "cell_type": "markdown",
   "source": "# Load data",
   "id": "9604ec461e69f24f"
  },
  {
   "metadata": {},
   "cell_type": "markdown",
   "source": "## SIDER form our software",
   "id": "b3723b29e4cd4612"
  },
  {
   "metadata": {
    "ExecuteTime": {
     "end_time": "2024-11-04T21:45:19.828332Z",
     "start_time": "2024-11-04T21:45:19.806815Z"
    }
   },
   "cell_type": "code",
   "source": [
    "# Load sider merged data\n",
    "sider_df = pd.read_csv('./data/sider_merged.csv', sep=',', header=0)\n",
    "print(sider_df.shape)\n",
    "print(sider_df.dtypes)\n",
    "sider_df.head()"
   ],
   "id": "95a99d265ffe3254",
   "outputs": [
    {
     "name": "stdout",
     "output_type": "stream",
     "text": [
      "(2874, 5)\n",
      "chrom          object\n",
      "sider_start     int64\n",
      "sider_end       int64\n",
      "strand         object\n",
      "sider_seq      object\n",
      "dtype: object\n"
     ]
    },
    {
     "data": {
      "text/plain": [
       "     chrom  sider_start  sider_end strand  \\\n",
       "0  LmjF.01        24284      24536   plus   \n",
       "1  LmjF.01        24604      25200   plus   \n",
       "2  LmjF.01        35467      36401   plus   \n",
       "3  LmjF.01        39730      40541   plus   \n",
       "4  LmjF.01        54594      55542   plus   \n",
       "\n",
       "                                           sider_seq  \n",
       "0  GCAGCCCCCTCCCCCTCTATCCCTGCCAACGCCAAACCACTTCTGG...  \n",
       "1  CCGGCATGATGGAGGGGCGGCTGTGAGGTGGTGCGTGCATGTATGT...  \n",
       "2  CCCCATCGCCTGGTGCGAAGCAGCGCAAGACACACACGCGCTGCAG...  \n",
       "3  ATTTTACCGCGAGCAAGGCAACACACAGACGCACACACAACCACAG...  \n",
       "4  GCCGCACCCCACCCCCATCGCCTGGTGCGAAGCAGCGCAAGACACA...  "
      ],
      "text/html": [
       "<div>\n",
       "<style scoped>\n",
       "    .dataframe tbody tr th:only-of-type {\n",
       "        vertical-align: middle;\n",
       "    }\n",
       "\n",
       "    .dataframe tbody tr th {\n",
       "        vertical-align: top;\n",
       "    }\n",
       "\n",
       "    .dataframe thead th {\n",
       "        text-align: right;\n",
       "    }\n",
       "</style>\n",
       "<table border=\"1\" class=\"dataframe\">\n",
       "  <thead>\n",
       "    <tr style=\"text-align: right;\">\n",
       "      <th></th>\n",
       "      <th>chrom</th>\n",
       "      <th>sider_start</th>\n",
       "      <th>sider_end</th>\n",
       "      <th>strand</th>\n",
       "      <th>sider_seq</th>\n",
       "    </tr>\n",
       "  </thead>\n",
       "  <tbody>\n",
       "    <tr>\n",
       "      <th>0</th>\n",
       "      <td>LmjF.01</td>\n",
       "      <td>24284</td>\n",
       "      <td>24536</td>\n",
       "      <td>plus</td>\n",
       "      <td>GCAGCCCCCTCCCCCTCTATCCCTGCCAACGCCAAACCACTTCTGG...</td>\n",
       "    </tr>\n",
       "    <tr>\n",
       "      <th>1</th>\n",
       "      <td>LmjF.01</td>\n",
       "      <td>24604</td>\n",
       "      <td>25200</td>\n",
       "      <td>plus</td>\n",
       "      <td>CCGGCATGATGGAGGGGCGGCTGTGAGGTGGTGCGTGCATGTATGT...</td>\n",
       "    </tr>\n",
       "    <tr>\n",
       "      <th>2</th>\n",
       "      <td>LmjF.01</td>\n",
       "      <td>35467</td>\n",
       "      <td>36401</td>\n",
       "      <td>plus</td>\n",
       "      <td>CCCCATCGCCTGGTGCGAAGCAGCGCAAGACACACACGCGCTGCAG...</td>\n",
       "    </tr>\n",
       "    <tr>\n",
       "      <th>3</th>\n",
       "      <td>LmjF.01</td>\n",
       "      <td>39730</td>\n",
       "      <td>40541</td>\n",
       "      <td>plus</td>\n",
       "      <td>ATTTTACCGCGAGCAAGGCAACACACAGACGCACACACAACCACAG...</td>\n",
       "    </tr>\n",
       "    <tr>\n",
       "      <th>4</th>\n",
       "      <td>LmjF.01</td>\n",
       "      <td>54594</td>\n",
       "      <td>55542</td>\n",
       "      <td>plus</td>\n",
       "      <td>GCCGCACCCCACCCCCATCGCCTGGTGCGAAGCAGCGCAAGACACA...</td>\n",
       "    </tr>\n",
       "  </tbody>\n",
       "</table>\n",
       "</div>"
      ]
     },
     "execution_count": 4,
     "metadata": {},
     "output_type": "execute_result"
    }
   ],
   "execution_count": 4
  },
  {
   "metadata": {},
   "cell_type": "markdown",
   "source": "## Bringaud SIDER",
   "id": "62e952e1b2dd54aa"
  },
  {
   "metadata": {
    "ExecuteTime": {
     "end_time": "2024-11-04T21:45:19.902991Z",
     "start_time": "2024-11-04T21:45:19.894524Z"
    }
   },
   "cell_type": "code",
   "source": [
    "# Load bringaud sider data\n",
    "bringaud_df = pd.read_csv('../data/bringaud_siders.csv', sep=',', header=0)\n",
    "print(bringaud_df.shape)\n",
    "print(bringaud_df.dtypes)\n",
    "bringaud_df.head()"
   ],
   "id": "22d19b4c65b10e75",
   "outputs": [
    {
     "name": "stdout",
     "output_type": "stream",
     "text": [
      "(1852, 8)\n",
      "ID          object\n",
      "chr          int64\n",
      "name        object\n",
      "fam          int64\n",
      "str         object\n",
      "start        int64\n",
      "end          int64\n",
      "chr_size     int64\n",
      "dtype: object\n"
     ]
    },
    {
     "data": {
      "text/plain": [
       "           ID  chr           name  fam str   start     end  chr_size\n",
       "0  51.te00022    1  chr1_37.00281    1   -   39705   40532    268984\n",
       "1  51.te00019    1  chr1_37.00289    1   +  260993  261261    268984\n",
       "2  51.te00020    1  chr1_37.00290    1   +  266162  266340    268984\n",
       "3  51.te00018    1  chr1_37.00279    2   +   24174   24821    268984\n",
       "4  51.te00021    1  chr1_37.00280    2   -   35328   36036    268984"
      ],
      "text/html": [
       "<div>\n",
       "<style scoped>\n",
       "    .dataframe tbody tr th:only-of-type {\n",
       "        vertical-align: middle;\n",
       "    }\n",
       "\n",
       "    .dataframe tbody tr th {\n",
       "        vertical-align: top;\n",
       "    }\n",
       "\n",
       "    .dataframe thead th {\n",
       "        text-align: right;\n",
       "    }\n",
       "</style>\n",
       "<table border=\"1\" class=\"dataframe\">\n",
       "  <thead>\n",
       "    <tr style=\"text-align: right;\">\n",
       "      <th></th>\n",
       "      <th>ID</th>\n",
       "      <th>chr</th>\n",
       "      <th>name</th>\n",
       "      <th>fam</th>\n",
       "      <th>str</th>\n",
       "      <th>start</th>\n",
       "      <th>end</th>\n",
       "      <th>chr_size</th>\n",
       "    </tr>\n",
       "  </thead>\n",
       "  <tbody>\n",
       "    <tr>\n",
       "      <th>0</th>\n",
       "      <td>51.te00022</td>\n",
       "      <td>1</td>\n",
       "      <td>chr1_37.00281</td>\n",
       "      <td>1</td>\n",
       "      <td>-</td>\n",
       "      <td>39705</td>\n",
       "      <td>40532</td>\n",
       "      <td>268984</td>\n",
       "    </tr>\n",
       "    <tr>\n",
       "      <th>1</th>\n",
       "      <td>51.te00019</td>\n",
       "      <td>1</td>\n",
       "      <td>chr1_37.00289</td>\n",
       "      <td>1</td>\n",
       "      <td>+</td>\n",
       "      <td>260993</td>\n",
       "      <td>261261</td>\n",
       "      <td>268984</td>\n",
       "    </tr>\n",
       "    <tr>\n",
       "      <th>2</th>\n",
       "      <td>51.te00020</td>\n",
       "      <td>1</td>\n",
       "      <td>chr1_37.00290</td>\n",
       "      <td>1</td>\n",
       "      <td>+</td>\n",
       "      <td>266162</td>\n",
       "      <td>266340</td>\n",
       "      <td>268984</td>\n",
       "    </tr>\n",
       "    <tr>\n",
       "      <th>3</th>\n",
       "      <td>51.te00018</td>\n",
       "      <td>1</td>\n",
       "      <td>chr1_37.00279</td>\n",
       "      <td>2</td>\n",
       "      <td>+</td>\n",
       "      <td>24174</td>\n",
       "      <td>24821</td>\n",
       "      <td>268984</td>\n",
       "    </tr>\n",
       "    <tr>\n",
       "      <th>4</th>\n",
       "      <td>51.te00021</td>\n",
       "      <td>1</td>\n",
       "      <td>chr1_37.00280</td>\n",
       "      <td>2</td>\n",
       "      <td>-</td>\n",
       "      <td>35328</td>\n",
       "      <td>36036</td>\n",
       "      <td>268984</td>\n",
       "    </tr>\n",
       "  </tbody>\n",
       "</table>\n",
       "</div>"
      ]
     },
     "execution_count": 5,
     "metadata": {},
     "output_type": "execute_result"
    }
   ],
   "execution_count": 5
  },
  {
   "metadata": {},
   "cell_type": "markdown",
   "source": "# Prepare data",
   "id": "8cbdf6133c579709"
  },
  {
   "metadata": {},
   "cell_type": "markdown",
   "source": "## Our SIDERs",
   "id": "870c8e08d5d06cc0"
  },
  {
   "metadata": {
    "ExecuteTime": {
     "end_time": "2024-11-04T21:45:19.957152Z",
     "start_time": "2024-11-04T21:45:19.950478Z"
    }
   },
   "cell_type": "code",
   "source": [
    "# Common names and only needed columns\n",
    "sider_df = sider_df[['chrom', 'sider_start', 'sider_end']]\n",
    "sider_df = sider_df.rename(columns={'chrom' : 'chrom', 'sider_start' : 'start', 'sider_end' : 'end'})\n",
    "sider_df.head()"
   ],
   "id": "38a6b16bd327e3a0",
   "outputs": [
    {
     "data": {
      "text/plain": [
       "     chrom  start    end\n",
       "0  LmjF.01  24284  24536\n",
       "1  LmjF.01  24604  25200\n",
       "2  LmjF.01  35467  36401\n",
       "3  LmjF.01  39730  40541\n",
       "4  LmjF.01  54594  55542"
      ],
      "text/html": [
       "<div>\n",
       "<style scoped>\n",
       "    .dataframe tbody tr th:only-of-type {\n",
       "        vertical-align: middle;\n",
       "    }\n",
       "\n",
       "    .dataframe tbody tr th {\n",
       "        vertical-align: top;\n",
       "    }\n",
       "\n",
       "    .dataframe thead th {\n",
       "        text-align: right;\n",
       "    }\n",
       "</style>\n",
       "<table border=\"1\" class=\"dataframe\">\n",
       "  <thead>\n",
       "    <tr style=\"text-align: right;\">\n",
       "      <th></th>\n",
       "      <th>chrom</th>\n",
       "      <th>start</th>\n",
       "      <th>end</th>\n",
       "    </tr>\n",
       "  </thead>\n",
       "  <tbody>\n",
       "    <tr>\n",
       "      <th>0</th>\n",
       "      <td>LmjF.01</td>\n",
       "      <td>24284</td>\n",
       "      <td>24536</td>\n",
       "    </tr>\n",
       "    <tr>\n",
       "      <th>1</th>\n",
       "      <td>LmjF.01</td>\n",
       "      <td>24604</td>\n",
       "      <td>25200</td>\n",
       "    </tr>\n",
       "    <tr>\n",
       "      <th>2</th>\n",
       "      <td>LmjF.01</td>\n",
       "      <td>35467</td>\n",
       "      <td>36401</td>\n",
       "    </tr>\n",
       "    <tr>\n",
       "      <th>3</th>\n",
       "      <td>LmjF.01</td>\n",
       "      <td>39730</td>\n",
       "      <td>40541</td>\n",
       "    </tr>\n",
       "    <tr>\n",
       "      <th>4</th>\n",
       "      <td>LmjF.01</td>\n",
       "      <td>54594</td>\n",
       "      <td>55542</td>\n",
       "    </tr>\n",
       "  </tbody>\n",
       "</table>\n",
       "</div>"
      ]
     },
     "execution_count": 6,
     "metadata": {},
     "output_type": "execute_result"
    }
   ],
   "execution_count": 6
  },
  {
   "metadata": {},
   "cell_type": "markdown",
   "source": "## Bringaud siders",
   "id": "f8bb722ceb288335"
  },
  {
   "metadata": {
    "ExecuteTime": {
     "end_time": "2024-11-04T21:45:20.055727Z",
     "start_time": "2024-11-04T21:45:20.051067Z"
    }
   },
   "cell_type": "code",
   "source": [
    "# Take from bringaud only the needed data\n",
    "bringaud_df = bringaud_df[['name', 'start', 'end']]\n",
    "bringaud_df = bringaud_df.rename(columns={'name' : 'chrom'})\n",
    "bringaud_df.head()"
   ],
   "id": "545d00c1ff59cff9",
   "outputs": [
    {
     "data": {
      "text/plain": [
       "           chrom   start     end\n",
       "0  chr1_37.00281   39705   40532\n",
       "1  chr1_37.00289  260993  261261\n",
       "2  chr1_37.00290  266162  266340\n",
       "3  chr1_37.00279   24174   24821\n",
       "4  chr1_37.00280   35328   36036"
      ],
      "text/html": [
       "<div>\n",
       "<style scoped>\n",
       "    .dataframe tbody tr th:only-of-type {\n",
       "        vertical-align: middle;\n",
       "    }\n",
       "\n",
       "    .dataframe tbody tr th {\n",
       "        vertical-align: top;\n",
       "    }\n",
       "\n",
       "    .dataframe thead th {\n",
       "        text-align: right;\n",
       "    }\n",
       "</style>\n",
       "<table border=\"1\" class=\"dataframe\">\n",
       "  <thead>\n",
       "    <tr style=\"text-align: right;\">\n",
       "      <th></th>\n",
       "      <th>chrom</th>\n",
       "      <th>start</th>\n",
       "      <th>end</th>\n",
       "    </tr>\n",
       "  </thead>\n",
       "  <tbody>\n",
       "    <tr>\n",
       "      <th>0</th>\n",
       "      <td>chr1_37.00281</td>\n",
       "      <td>39705</td>\n",
       "      <td>40532</td>\n",
       "    </tr>\n",
       "    <tr>\n",
       "      <th>1</th>\n",
       "      <td>chr1_37.00289</td>\n",
       "      <td>260993</td>\n",
       "      <td>261261</td>\n",
       "    </tr>\n",
       "    <tr>\n",
       "      <th>2</th>\n",
       "      <td>chr1_37.00290</td>\n",
       "      <td>266162</td>\n",
       "      <td>266340</td>\n",
       "    </tr>\n",
       "    <tr>\n",
       "      <th>3</th>\n",
       "      <td>chr1_37.00279</td>\n",
       "      <td>24174</td>\n",
       "      <td>24821</td>\n",
       "    </tr>\n",
       "    <tr>\n",
       "      <th>4</th>\n",
       "      <td>chr1_37.00280</td>\n",
       "      <td>35328</td>\n",
       "      <td>36036</td>\n",
       "    </tr>\n",
       "  </tbody>\n",
       "</table>\n",
       "</div>"
      ]
     },
     "execution_count": 7,
     "metadata": {},
     "output_type": "execute_result"
    }
   ],
   "execution_count": 7
  },
  {
   "metadata": {
    "ExecuteTime": {
     "end_time": "2024-11-04T21:45:20.230482Z",
     "start_time": "2024-11-04T21:45:20.224643Z"
    }
   },
   "cell_type": "code",
   "source": [
    "# Get the chromosome and prepend '0' to single digits, then add 'LmJF.'\n",
    "pattern = r'^\\D+(\\d+)_'\n",
    "bringaud_df['chrom'] = bringaud_df['chrom'].str.extract(pattern, expand=True)\n",
    "\n",
    "# Now for the numbers like 0, 1, 2.. get 01, 02, 03...\n",
    "bringaud_df['chrom'] = 'LmjF.' + bringaud_df['chrom'].str.zfill(2)\n",
    "bringaud_df.head()"
   ],
   "id": "1b8a146675a473be",
   "outputs": [
    {
     "data": {
      "text/plain": [
       "     chrom   start     end\n",
       "0  LmjF.01   39705   40532\n",
       "1  LmjF.01  260993  261261\n",
       "2  LmjF.01  266162  266340\n",
       "3  LmjF.01   24174   24821\n",
       "4  LmjF.01   35328   36036"
      ],
      "text/html": [
       "<div>\n",
       "<style scoped>\n",
       "    .dataframe tbody tr th:only-of-type {\n",
       "        vertical-align: middle;\n",
       "    }\n",
       "\n",
       "    .dataframe tbody tr th {\n",
       "        vertical-align: top;\n",
       "    }\n",
       "\n",
       "    .dataframe thead th {\n",
       "        text-align: right;\n",
       "    }\n",
       "</style>\n",
       "<table border=\"1\" class=\"dataframe\">\n",
       "  <thead>\n",
       "    <tr style=\"text-align: right;\">\n",
       "      <th></th>\n",
       "      <th>chrom</th>\n",
       "      <th>start</th>\n",
       "      <th>end</th>\n",
       "    </tr>\n",
       "  </thead>\n",
       "  <tbody>\n",
       "    <tr>\n",
       "      <th>0</th>\n",
       "      <td>LmjF.01</td>\n",
       "      <td>39705</td>\n",
       "      <td>40532</td>\n",
       "    </tr>\n",
       "    <tr>\n",
       "      <th>1</th>\n",
       "      <td>LmjF.01</td>\n",
       "      <td>260993</td>\n",
       "      <td>261261</td>\n",
       "    </tr>\n",
       "    <tr>\n",
       "      <th>2</th>\n",
       "      <td>LmjF.01</td>\n",
       "      <td>266162</td>\n",
       "      <td>266340</td>\n",
       "    </tr>\n",
       "    <tr>\n",
       "      <th>3</th>\n",
       "      <td>LmjF.01</td>\n",
       "      <td>24174</td>\n",
       "      <td>24821</td>\n",
       "    </tr>\n",
       "    <tr>\n",
       "      <th>4</th>\n",
       "      <td>LmjF.01</td>\n",
       "      <td>35328</td>\n",
       "      <td>36036</td>\n",
       "    </tr>\n",
       "  </tbody>\n",
       "</table>\n",
       "</div>"
      ]
     },
     "execution_count": 8,
     "metadata": {},
     "output_type": "execute_result"
    }
   ],
   "execution_count": 8
  },
  {
   "metadata": {
    "ExecuteTime": {
     "end_time": "2024-11-04T21:45:20.301139Z",
     "start_time": "2024-11-04T21:45:20.297872Z"
    }
   },
   "cell_type": "code",
   "source": [
    "# Check if 'bringaud_start' > 'bringaud_end'. It should be 0\n",
    "bringaud_df[bringaud_df['start'] > bringaud_df['end']].shape"
   ],
   "id": "e6b1b86dba1fa17f",
   "outputs": [
    {
     "data": {
      "text/plain": [
       "(0, 3)"
      ]
     },
     "execution_count": 9,
     "metadata": {},
     "output_type": "execute_result"
    }
   ],
   "execution_count": 9
  },
  {
   "metadata": {},
   "cell_type": "markdown",
   "source": "# Compare",
   "id": "e11dc8ed6d474c70"
  },
  {
   "metadata": {},
   "cell_type": "markdown",
   "source": "## Needed functions",
   "id": "14cd3d2680d50402"
  },
  {
   "metadata": {
    "ExecuteTime": {
     "end_time": "2024-11-04T21:45:20.459430Z",
     "start_time": "2024-11-04T21:45:20.454708Z"
    }
   },
   "cell_type": "code",
   "source": [
    "# Let's define the function since it seems that we will use it more than once\n",
    "def compare_sequences(df_group1, df_group2, df_group1_og_data, path):\n",
    "    \"\"\"\n",
    "    \n",
    "    :param df_group1: True Positive data, what we want to get.\n",
    "    :param df_group2: \n",
    "    :param df_group1_og_data: \n",
    "    :param path: \n",
    "    :return: \n",
    "    \"\"\"\n",
    "    compare_dict = {}\n",
    "    total = 0\n",
    "    not_captured_df = pd.DataFrame()\n",
    "    \n",
    "    for (name1, group1), (name2, group2) in zip(df_group1, df_group2):\n",
    "        # group1 should be True Positive data\n",
    "        # ------------------------------------------------------------------------------\n",
    "        path_chr = os.path.join(path, name1)\n",
    "        os.makedirs(path_chr, exist_ok=True)\n",
    "        # ------------------------------------------------------------------------------\n",
    "        group1_total = group1[[\"chrom\", \"start\", \"end\"]].copy()\n",
    "        group2_total = group2[[\"chrom\", \"start\", \"end\"]].copy()\n",
    "        # ------------------------------------------------------------------------------\n",
    "        group1_total.sort_values(by=[\"start\", \"end\"], inplace=True)\n",
    "        group2_total.sort_values(by=[\"start\", \"end\"], inplace=True)\n",
    "        # ------------------------------------------------------------------------------\n",
    "        path_group1_total = os.path.join(path_chr, \"group1_total.bed\")\n",
    "        path_group2_total = os.path.join(path_chr, \"group2_total.bed\")\n",
    "        # ------------------------------------------------------------------------------\n",
    "        group1_total.to_csv(path_group1_total, sep=\"\\t\", header=False, index=False)  # tabular sep because of bed format\n",
    "        group2_total.to_csv(path_group2_total, sep=\"\\t\", header=False, index=False)  # tabular sep because of bed format\n",
    "\n",
    "        # ------------------------------------------------------------------------------\n",
    "        condition = 1\n",
    "        cmd = f\"bedops --element-of {condition} {path_group1_total} {path_group2_total}\"\n",
    "        result = subprocess.check_output(cmd, shell=True, universal_newlines=True)\n",
    "        result_df = pd.DataFrame([x.split(\"\\t\") for x in result.split(\"\\n\") if x], \n",
    "                                    columns=[\"chrom\", \"start\", \"end\"])\n",
    "        result_df[['start', 'end']] = result_df[['start', 'end']].apply(pd.to_numeric)\n",
    "        compare_dict[name1] = [f\"{result_df.shape[0]}/{group1_total.shape[0]}\", f\"{result_df.shape[0]/group1_total.shape[0]*100:.2f} %\"]\n",
    "        total += result_df.shape[0]\n",
    "        \n",
    "        # ------------------------------------------------------------------------------\n",
    "        not_cmd = f\"bedops --not-element-of {condition} {path_group1_total} {path_group2_total}\"\n",
    "        not_result = subprocess.check_output(not_cmd, shell=True, universal_newlines=True)\n",
    "        not_result_df = pd.DataFrame([x.split(\"\\t\") for x in not_result.split(\"\\n\") if x], \n",
    "                                    columns=[\"chrom\", \"start\", \"end\"])\n",
    "        not_result_df[['start', 'end']] = not_result_df[['start', 'end']].apply(pd.to_numeric)\n",
    "        not_captured_df = pd.concat([not_captured_df, not_result_df])\n",
    "        \n",
    "    print(f\"\"\"\n",
    "    There are {total} first DF sequences of {df_group1_og_data.shape[0]} in the second DF:\n",
    "        - That's {total / df_group1_og_data.shape[0] * 100:.2f}% of the TP data.\n",
    "        - {df_group1_og_data.shape[0] - total} TP sequences are not in consensus data, \n",
    "          which is {100 - total / df_group1_og_data.shape[0] * 100:.2f}%.\n",
    "    \"\"\")\n",
    "    return compare_dict, not_captured_df"
   ],
   "id": "87d9084f3ef28d9a",
   "outputs": [],
   "execution_count": 10
  },
  {
   "metadata": {},
   "cell_type": "markdown",
   "source": "## Prepare folder env",
   "id": "2d7764ffe81b61ac"
  },
  {
   "metadata": {
    "ExecuteTime": {
     "end_time": "2024-11-04T21:45:20.554257Z",
     "start_time": "2024-11-04T21:45:20.552503Z"
    }
   },
   "cell_type": "code",
   "source": [
    "folder_path = './data/bedops/compare'\n",
    "os.makedirs(folder_path, exist_ok=True)"
   ],
   "id": "b937628e8aae6182",
   "outputs": [],
   "execution_count": 11
  },
  {
   "metadata": {
    "ExecuteTime": {
     "end_time": "2024-11-04T21:45:20.610755Z",
     "start_time": "2024-11-04T21:45:20.608427Z"
    }
   },
   "cell_type": "code",
   "source": [
    "sider_df_grouped = sider_df.groupby('chrom')\n",
    "bringaud_df_grouped = bringaud_df.groupby('chrom')"
   ],
   "id": "e06c6fd352dd11a1",
   "outputs": [],
   "execution_count": 12
  },
  {
   "metadata": {},
   "cell_type": "markdown",
   "source": "## Comparison",
   "id": "7e833dc501c32b85"
  },
  {
   "metadata": {
    "ExecuteTime": {
     "end_time": "2024-11-04T21:45:21.344723Z",
     "start_time": "2024-11-04T21:45:20.676932Z"
    }
   },
   "cell_type": "code",
   "source": [
    "sider_vs_bringaud, not_captured = compare_sequences(df_group1=bringaud_df_grouped,\n",
    "                                                    df_group2=sider_df_grouped,\n",
    "                                                    df_group1_og_data=bringaud_df,\n",
    "                                                    path=folder_path)\n",
    "sider_vs_bringaud"
   ],
   "id": "1f07e3ef803849dc",
   "outputs": [
    {
     "name": "stdout",
     "output_type": "stream",
     "text": [
      "\n",
      "    There are 1323 first DF sequences of 1852 in the second DF:\n",
      "        - That's 71.44% of the TP data.\n",
      "        - 529 TP sequences are not in consensus data, \n",
      "          which is 28.56%.\n",
      "    \n"
     ]
    },
    {
     "data": {
      "text/plain": [
       "{'LmjF.01': ['11/12', '91.67 %'],\n",
       " 'LmjF.02': ['8/8', '100.00 %'],\n",
       " 'LmjF.03': ['7/7', '100.00 %'],\n",
       " 'LmjF.04': ['12/13', '92.31 %'],\n",
       " 'LmjF.05': ['17/19', '89.47 %'],\n",
       " 'LmjF.06': ['6/25', '24.00 %'],\n",
       " 'LmjF.07': ['26/26', '100.00 %'],\n",
       " 'LmjF.08': ['33/38', '86.84 %'],\n",
       " 'LmjF.09': ['16/22', '72.73 %'],\n",
       " 'LmjF.10': ['24/25', '96.00 %'],\n",
       " 'LmjF.11': ['26/28', '92.86 %'],\n",
       " 'LmjF.12': ['12/33', '36.36 %'],\n",
       " 'LmjF.13': ['26/30', '86.67 %'],\n",
       " 'LmjF.14': ['32/36', '88.89 %'],\n",
       " 'LmjF.15': ['20/22', '90.91 %'],\n",
       " 'LmjF.16': ['10/27', '37.04 %'],\n",
       " 'LmjF.17': ['2/41', '4.88 %'],\n",
       " 'LmjF.18': ['3/60', '5.00 %'],\n",
       " 'LmjF.19': ['46/51', '90.20 %'],\n",
       " 'LmjF.20': ['4/39', '10.26 %'],\n",
       " 'LmjF.21': ['5/34', '14.71 %'],\n",
       " 'LmjF.22': ['42/50', '84.00 %'],\n",
       " 'LmjF.23': ['26/54', '48.15 %'],\n",
       " 'LmjF.24': ['41/43', '95.35 %'],\n",
       " 'LmjF.25': ['31/34', '91.18 %'],\n",
       " 'LmjF.26': ['46/56', '82.14 %'],\n",
       " 'LmjF.27': ['57/59', '96.61 %'],\n",
       " 'LmjF.28': ['3/49', '6.12 %'],\n",
       " 'LmjF.29': ['64/91', '70.33 %'],\n",
       " 'LmjF.30': ['82/91', '90.11 %'],\n",
       " 'LmjF.31': ['94/107', '87.85 %'],\n",
       " 'LmjF.32': ['5/80', '6.25 %'],\n",
       " 'LmjF.33': ['90/105', '85.71 %'],\n",
       " 'LmjF.34': ['149/164', '90.85 %'],\n",
       " 'LmjF.35': ['110/121', '90.91 %'],\n",
       " 'LmjF.36': ['137/152', '90.13 %']}"
      ]
     },
     "execution_count": 13,
     "metadata": {},
     "output_type": "execute_result"
    }
   ],
   "execution_count": 13
  },
  {
   "metadata": {
    "ExecuteTime": {
     "end_time": "2024-11-04T21:45:48.765368Z",
     "start_time": "2024-11-04T21:45:48.747119Z"
    }
   },
   "cell_type": "code",
   "source": [
    "not_captured.to_csv('./data/bedops/not_captured.csv', header=True, sep=',')\n",
    "not_captured.head()"
   ],
   "id": "738964b9e83295bd",
   "outputs": [
    {
     "data": {
      "text/plain": [
       "     chrom   start     end\n",
       "0  LmjF.01  226657  226940\n",
       "0  LmjF.04  181541  181927\n",
       "0  LmjF.05   90841   91072\n",
       "1  LmjF.05  464001  464509\n",
       "0  LmjF.06   57422   57917"
      ],
      "text/html": [
       "<div>\n",
       "<style scoped>\n",
       "    .dataframe tbody tr th:only-of-type {\n",
       "        vertical-align: middle;\n",
       "    }\n",
       "\n",
       "    .dataframe tbody tr th {\n",
       "        vertical-align: top;\n",
       "    }\n",
       "\n",
       "    .dataframe thead th {\n",
       "        text-align: right;\n",
       "    }\n",
       "</style>\n",
       "<table border=\"1\" class=\"dataframe\">\n",
       "  <thead>\n",
       "    <tr style=\"text-align: right;\">\n",
       "      <th></th>\n",
       "      <th>chrom</th>\n",
       "      <th>start</th>\n",
       "      <th>end</th>\n",
       "    </tr>\n",
       "  </thead>\n",
       "  <tbody>\n",
       "    <tr>\n",
       "      <th>0</th>\n",
       "      <td>LmjF.01</td>\n",
       "      <td>226657</td>\n",
       "      <td>226940</td>\n",
       "    </tr>\n",
       "    <tr>\n",
       "      <th>0</th>\n",
       "      <td>LmjF.04</td>\n",
       "      <td>181541</td>\n",
       "      <td>181927</td>\n",
       "    </tr>\n",
       "    <tr>\n",
       "      <th>0</th>\n",
       "      <td>LmjF.05</td>\n",
       "      <td>90841</td>\n",
       "      <td>91072</td>\n",
       "    </tr>\n",
       "    <tr>\n",
       "      <th>1</th>\n",
       "      <td>LmjF.05</td>\n",
       "      <td>464001</td>\n",
       "      <td>464509</td>\n",
       "    </tr>\n",
       "    <tr>\n",
       "      <th>0</th>\n",
       "      <td>LmjF.06</td>\n",
       "      <td>57422</td>\n",
       "      <td>57917</td>\n",
       "    </tr>\n",
       "  </tbody>\n",
       "</table>\n",
       "</div>"
      ]
     },
     "execution_count": 16,
     "metadata": {},
     "output_type": "execute_result"
    }
   ],
   "execution_count": 16
  }
 ],
 "metadata": {
  "kernelspec": {
   "display_name": "Python 3",
   "language": "python",
   "name": "python3"
  },
  "language_info": {
   "codemirror_mode": {
    "name": "ipython",
    "version": 2
   },
   "file_extension": ".py",
   "mimetype": "text/x-python",
   "name": "python",
   "nbconvert_exporter": "python",
   "pygments_lexer": "ipython2",
   "version": "2.7.6"
  }
 },
 "nbformat": 4,
 "nbformat_minor": 5
}
