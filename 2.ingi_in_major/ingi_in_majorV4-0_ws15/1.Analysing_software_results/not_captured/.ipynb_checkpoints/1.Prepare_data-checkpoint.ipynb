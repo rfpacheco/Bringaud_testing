{
 "cells": [
  {
   "cell_type": "code",
   "id": "initial_id",
   "metadata": {
    "collapsed": true,
    "ExecuteTime": {
     "end_time": "2024-11-14T11:52:21.179780Z",
     "start_time": "2024-11-14T11:52:20.946177Z"
    }
   },
   "source": [
    "import pandas as pd\n",
    "import subprocess\n",
    "import os\n",
    "print(os.getcwd())"
   ],
   "outputs": [
    {
     "name": "stdout",
     "output_type": "stream",
     "text": [
      "/home/rfpacheco/Documents/Work_CBMSO/Bringaud_testing/2.ingi_in_major/ingi_in_majorV4-0_ws15/1.Analysing_software_results/not_captured\n"
     ]
    }
   ],
   "execution_count": 1
  },
  {
   "metadata": {
    "ExecuteTime": {
     "end_time": "2024-11-14T11:49:50.425930Z",
     "start_time": "2024-11-14T11:49:50.419758Z"
    }
   },
   "cell_type": "code",
   "source": [
    "def blastn_dic(path_input, path_output):\n",
    "    \"\"\"\n",
    "    Creation af a BLAST database of our whole genome. It uses the BLAST :sup:`R` command line, see BLAST\n",
    "    `Command Line Application User Manual`_ for more information.\n",
    "\n",
    "\n",
    "    The generation of the proper database will be placed in the directory where ``path_input`` is.\n",
    "    It is recommended to use a dedicated folder to this FASTA file so the database is written next to it.\n",
    "\n",
    "    :param path_input: path to a FASTA file.\n",
    "    :type path_input: string\n",
    "\n",
    "    :param path_output: path to the output folder where the BLAST database will be created.\n",
    "    :type path_output: string\n",
    "\n",
    "    :return: a BLAST database.\n",
    "    :rtype: Muitiples files (**.nhr**, **.nin**, **.nog**, **.nsd**, **.nsi** and **.nsq** extensions)\n",
    "    \"\"\"\n",
    "\n",
    "    # Remember is \"path.input.dic_path\" for \"argparse\".\n",
    "    try:\n",
    "        # \"parse_seqids\" is used to keep the sequence ID in the output.\n",
    "        cmd = f\"makeblastdb -in {path_input} -dbtype nucl -parse_seqids -out {path_output}\"\n",
    "        subprocess.run(cmd, shell=True, stdout=subprocess.DEVNULL, stderr=subprocess.DEVNULL)\n",
    "    except Exception:\n",
    "        print(\"\\nError: Blast Dictionary couldn't be created\")\n",
    "        "
   ],
   "id": "8c01e815161091bb",
   "outputs": [],
   "execution_count": 8
  },
  {
   "metadata": {
    "ExecuteTime": {
     "end_time": "2024-11-14T11:50:11.716837Z",
     "start_time": "2024-11-14T11:50:11.713931Z"
    }
   },
   "cell_type": "code",
   "source": [
    "genome_path = \"~/Documents/Work_CBMSO/Bringaud_testing/0.1.data/LmjF_V4.0_20040630_SIMPLE_NAMES.fasta\"\n",
    "genome_path = os.path.expanduser(genome_path)\n",
    "genome_name = os.path.basename(genome_path)\n",
    "dict_folder = os.path.join(os.path.dirname(genome_path), \"blastn_dict_simple_names\")\n",
    "os.makedirs(dict_folder, exist_ok=True)\n",
    "genome_save_path = os.path.join(dict_folder, genome_name)\n",
    "# blastn_dic(genome_path, genome_save_path)"
   ],
   "id": "db834bc2a0f92906",
   "outputs": [],
   "execution_count": 9
  },
  {
   "metadata": {
    "ExecuteTime": {
     "end_time": "2024-11-14T11:50:15.803539Z",
     "start_time": "2024-11-14T11:50:15.799444Z"
    }
   },
   "cell_type": "code",
   "source": [
    "def get_sequence(start_coor, end_coor, strand, chromosome, path_genome):\n",
    "    cmd = f'blastdbcmd -db {path_genome} -entry {chromosome} -range {start_coor}-{end_coor} -strand {strand} -outfmt %s'\n",
    "    sequence = subprocess.run(cmd, shell=True, capture_output=True, text=True, universal_newlines=True, executable='/usr/bin/bash')\n",
    "    sequence = sequence.stdout.strip()\n",
    "    return sequence"
   ],
   "id": "ad99d8283c48a5b",
   "outputs": [],
   "execution_count": 10
  },
  {
   "metadata": {
    "ExecuteTime": {
     "end_time": "2024-11-14T11:49:30.662616Z",
     "start_time": "2024-11-14T11:49:30.651086Z"
    }
   },
   "cell_type": "code",
   "source": [
    "not_captured = pd.read_csv('../not_captured-first_output_vs_bringaud.csv', sep=',', header=0)\n",
    "print(not_captured.shape)\n",
    "print(not_captured.dtypes)\n",
    "not_captured.head()"
   ],
   "id": "e194cb31416a2c10",
   "outputs": [
    {
     "name": "stdout",
     "output_type": "stream",
     "text": [
      "(430, 3)\n",
      "sseqid    object\n",
      "sstart     int64\n",
      "send       int64\n",
      "dtype: object\n"
     ]
    },
    {
     "data": {
      "text/plain": [
       "    sseqid  sstart    send\n",
       "0  LmjF.01  226657  226940\n",
       "1  LmjF.04  181541  181927\n",
       "2  LmjF.05   90841   91072\n",
       "3  LmjF.05  464001  464509\n",
       "4  LmjF.06   57422   57917"
      ],
      "text/html": [
       "<div>\n",
       "<style scoped>\n",
       "    .dataframe tbody tr th:only-of-type {\n",
       "        vertical-align: middle;\n",
       "    }\n",
       "\n",
       "    .dataframe tbody tr th {\n",
       "        vertical-align: top;\n",
       "    }\n",
       "\n",
       "    .dataframe thead th {\n",
       "        text-align: right;\n",
       "    }\n",
       "</style>\n",
       "<table border=\"1\" class=\"dataframe\">\n",
       "  <thead>\n",
       "    <tr style=\"text-align: right;\">\n",
       "      <th></th>\n",
       "      <th>sseqid</th>\n",
       "      <th>sstart</th>\n",
       "      <th>send</th>\n",
       "    </tr>\n",
       "  </thead>\n",
       "  <tbody>\n",
       "    <tr>\n",
       "      <th>0</th>\n",
       "      <td>LmjF.01</td>\n",
       "      <td>226657</td>\n",
       "      <td>226940</td>\n",
       "    </tr>\n",
       "    <tr>\n",
       "      <th>1</th>\n",
       "      <td>LmjF.04</td>\n",
       "      <td>181541</td>\n",
       "      <td>181927</td>\n",
       "    </tr>\n",
       "    <tr>\n",
       "      <th>2</th>\n",
       "      <td>LmjF.05</td>\n",
       "      <td>90841</td>\n",
       "      <td>91072</td>\n",
       "    </tr>\n",
       "    <tr>\n",
       "      <th>3</th>\n",
       "      <td>LmjF.05</td>\n",
       "      <td>464001</td>\n",
       "      <td>464509</td>\n",
       "    </tr>\n",
       "    <tr>\n",
       "      <th>4</th>\n",
       "      <td>LmjF.06</td>\n",
       "      <td>57422</td>\n",
       "      <td>57917</td>\n",
       "    </tr>\n",
       "  </tbody>\n",
       "</table>\n",
       "</div>"
      ]
     },
     "execution_count": 7,
     "metadata": {},
     "output_type": "execute_result"
    }
   ],
   "execution_count": 7
  },
  {
   "metadata": {
    "ExecuteTime": {
     "end_time": "2024-11-13T12:51:34.422183Z",
     "start_time": "2024-11-13T12:51:34.416321Z"
    }
   },
   "cell_type": "code",
   "source": [
    "# Let's add another column with the number of 'sseqid'\n",
    "not_captured['chrom_num'] = not_captured['sseqid'].str.split('.').str[1]\n",
    "\n",
    "# Now transform 'chrom_num' to int64\n",
    "not_captured['chrom_num'] = pd.to_numeric(not_captured['chrom_num'])\n",
    "\n",
    "not_captured.head()"
   ],
   "id": "f403413aaac861c3",
   "outputs": [
    {
     "data": {
      "text/plain": [
       "    sseqid  sstart    send  chrom_num\n",
       "0  LmjF.01  226657  226940          1\n",
       "1  LmjF.05   90841   91072          5\n",
       "2  LmjF.06   57422   57917          6\n",
       "3  LmjF.06  178220  178503          6\n",
       "4  LmjF.08   54807   55176          8"
      ],
      "text/html": [
       "<div>\n",
       "<style scoped>\n",
       "    .dataframe tbody tr th:only-of-type {\n",
       "        vertical-align: middle;\n",
       "    }\n",
       "\n",
       "    .dataframe tbody tr th {\n",
       "        vertical-align: top;\n",
       "    }\n",
       "\n",
       "    .dataframe thead th {\n",
       "        text-align: right;\n",
       "    }\n",
       "</style>\n",
       "<table border=\"1\" class=\"dataframe\">\n",
       "  <thead>\n",
       "    <tr style=\"text-align: right;\">\n",
       "      <th></th>\n",
       "      <th>sseqid</th>\n",
       "      <th>sstart</th>\n",
       "      <th>send</th>\n",
       "      <th>chrom_num</th>\n",
       "    </tr>\n",
       "  </thead>\n",
       "  <tbody>\n",
       "    <tr>\n",
       "      <th>0</th>\n",
       "      <td>LmjF.01</td>\n",
       "      <td>226657</td>\n",
       "      <td>226940</td>\n",
       "      <td>1</td>\n",
       "    </tr>\n",
       "    <tr>\n",
       "      <th>1</th>\n",
       "      <td>LmjF.05</td>\n",
       "      <td>90841</td>\n",
       "      <td>91072</td>\n",
       "      <td>5</td>\n",
       "    </tr>\n",
       "    <tr>\n",
       "      <th>2</th>\n",
       "      <td>LmjF.06</td>\n",
       "      <td>57422</td>\n",
       "      <td>57917</td>\n",
       "      <td>6</td>\n",
       "    </tr>\n",
       "    <tr>\n",
       "      <th>3</th>\n",
       "      <td>LmjF.06</td>\n",
       "      <td>178220</td>\n",
       "      <td>178503</td>\n",
       "      <td>6</td>\n",
       "    </tr>\n",
       "    <tr>\n",
       "      <th>4</th>\n",
       "      <td>LmjF.08</td>\n",
       "      <td>54807</td>\n",
       "      <td>55176</td>\n",
       "      <td>8</td>\n",
       "    </tr>\n",
       "  </tbody>\n",
       "</table>\n",
       "</div>"
      ]
     },
     "execution_count": 27,
     "metadata": {},
     "output_type": "execute_result"
    }
   ],
   "execution_count": 27
  },
  {
   "metadata": {
    "ExecuteTime": {
     "end_time": "2024-11-13T12:47:43.442006Z",
     "start_time": "2024-11-13T12:47:43.428390Z"
    }
   },
   "cell_type": "code",
   "source": [
    "bringaud_siders_complete = pd.read_csv(os.path.expanduser(\"~/Documents/Work_CBMSO/Bringaud_testing/0.1.data/bringaud_siders.csv\"), \n",
    "                                       sep=',', header=0)\n",
    "print(bringaud_siders_complete.shape)\n",
    "print(bringaud_siders_complete.dtypes)\n",
    "bringaud_siders_complete.head()"
   ],
   "id": "f96b4f915788fbe2",
   "outputs": [
    {
     "name": "stdout",
     "output_type": "stream",
     "text": [
      "(1852, 8)\n",
      "ID          object\n",
      "chr          int64\n",
      "name        object\n",
      "fam          int64\n",
      "str         object\n",
      "start        int64\n",
      "end          int64\n",
      "chr_size     int64\n",
      "dtype: object\n"
     ]
    },
    {
     "data": {
      "text/plain": [
       "           ID  chr           name  fam str   start     end  chr_size\n",
       "0  51.te00022    1  chr1_37.00281    1   -   39705   40532    268984\n",
       "1  51.te00019    1  chr1_37.00289    1   +  260993  261261    268984\n",
       "2  51.te00020    1  chr1_37.00290    1   +  266162  266340    268984\n",
       "3  51.te00018    1  chr1_37.00279    2   +   24174   24821    268984\n",
       "4  51.te00021    1  chr1_37.00280    2   -   35328   36036    268984"
      ],
      "text/html": [
       "<div>\n",
       "<style scoped>\n",
       "    .dataframe tbody tr th:only-of-type {\n",
       "        vertical-align: middle;\n",
       "    }\n",
       "\n",
       "    .dataframe tbody tr th {\n",
       "        vertical-align: top;\n",
       "    }\n",
       "\n",
       "    .dataframe thead th {\n",
       "        text-align: right;\n",
       "    }\n",
       "</style>\n",
       "<table border=\"1\" class=\"dataframe\">\n",
       "  <thead>\n",
       "    <tr style=\"text-align: right;\">\n",
       "      <th></th>\n",
       "      <th>ID</th>\n",
       "      <th>chr</th>\n",
       "      <th>name</th>\n",
       "      <th>fam</th>\n",
       "      <th>str</th>\n",
       "      <th>start</th>\n",
       "      <th>end</th>\n",
       "      <th>chr_size</th>\n",
       "    </tr>\n",
       "  </thead>\n",
       "  <tbody>\n",
       "    <tr>\n",
       "      <th>0</th>\n",
       "      <td>51.te00022</td>\n",
       "      <td>1</td>\n",
       "      <td>chr1_37.00281</td>\n",
       "      <td>1</td>\n",
       "      <td>-</td>\n",
       "      <td>39705</td>\n",
       "      <td>40532</td>\n",
       "      <td>268984</td>\n",
       "    </tr>\n",
       "    <tr>\n",
       "      <th>1</th>\n",
       "      <td>51.te00019</td>\n",
       "      <td>1</td>\n",
       "      <td>chr1_37.00289</td>\n",
       "      <td>1</td>\n",
       "      <td>+</td>\n",
       "      <td>260993</td>\n",
       "      <td>261261</td>\n",
       "      <td>268984</td>\n",
       "    </tr>\n",
       "    <tr>\n",
       "      <th>2</th>\n",
       "      <td>51.te00020</td>\n",
       "      <td>1</td>\n",
       "      <td>chr1_37.00290</td>\n",
       "      <td>1</td>\n",
       "      <td>+</td>\n",
       "      <td>266162</td>\n",
       "      <td>266340</td>\n",
       "      <td>268984</td>\n",
       "    </tr>\n",
       "    <tr>\n",
       "      <th>3</th>\n",
       "      <td>51.te00018</td>\n",
       "      <td>1</td>\n",
       "      <td>chr1_37.00279</td>\n",
       "      <td>2</td>\n",
       "      <td>+</td>\n",
       "      <td>24174</td>\n",
       "      <td>24821</td>\n",
       "      <td>268984</td>\n",
       "    </tr>\n",
       "    <tr>\n",
       "      <th>4</th>\n",
       "      <td>51.te00021</td>\n",
       "      <td>1</td>\n",
       "      <td>chr1_37.00280</td>\n",
       "      <td>2</td>\n",
       "      <td>-</td>\n",
       "      <td>35328</td>\n",
       "      <td>36036</td>\n",
       "      <td>268984</td>\n",
       "    </tr>\n",
       "  </tbody>\n",
       "</table>\n",
       "</div>"
      ]
     },
     "execution_count": 23,
     "metadata": {},
     "output_type": "execute_result"
    }
   ],
   "execution_count": 23
  },
  {
   "metadata": {
    "ExecuteTime": {
     "end_time": "2024-11-13T12:56:19.102002Z",
     "start_time": "2024-11-13T12:56:19.093703Z"
    }
   },
   "cell_type": "code",
   "source": [
    "# Perform inner join\n",
    "not_captured_strand = not_captured.merge(bringaud_siders_complete[['chr', 'start', 'end', 'str']],\n",
    "                                         left_on=['chrom_num', 'sstart', 'send'],\n",
    "                                         right_on=['chr', 'start', 'end'],\n",
    "                                         how='inner')[['sseqid', 'sstart', 'send', 'str']]\n",
    "\n",
    "# Display results\n",
    "print(not_captured_strand.shape)\n",
    "print(not_captured_strand.dtypes)\n",
    "not_captured_strand.head()"
   ],
   "id": "44f582120d0fad63",
   "outputs": [
    {
     "name": "stdout",
     "output_type": "stream",
     "text": [
      "(400, 4)\n",
      "sseqid    object\n",
      "sstart     int64\n",
      "send       int64\n",
      "str       object\n",
      "dtype: object\n"
     ]
    },
    {
     "data": {
      "text/plain": [
       "    sseqid  sstart    send str\n",
       "0  LmjF.01  226657  226940   -\n",
       "1  LmjF.05   90841   91072   +\n",
       "2  LmjF.06   57422   57917   -\n",
       "3  LmjF.06  178220  178503   -\n",
       "4  LmjF.08   54807   55176   +"
      ],
      "text/html": [
       "<div>\n",
       "<style scoped>\n",
       "    .dataframe tbody tr th:only-of-type {\n",
       "        vertical-align: middle;\n",
       "    }\n",
       "\n",
       "    .dataframe tbody tr th {\n",
       "        vertical-align: top;\n",
       "    }\n",
       "\n",
       "    .dataframe thead th {\n",
       "        text-align: right;\n",
       "    }\n",
       "</style>\n",
       "<table border=\"1\" class=\"dataframe\">\n",
       "  <thead>\n",
       "    <tr style=\"text-align: right;\">\n",
       "      <th></th>\n",
       "      <th>sseqid</th>\n",
       "      <th>sstart</th>\n",
       "      <th>send</th>\n",
       "      <th>str</th>\n",
       "    </tr>\n",
       "  </thead>\n",
       "  <tbody>\n",
       "    <tr>\n",
       "      <th>0</th>\n",
       "      <td>LmjF.01</td>\n",
       "      <td>226657</td>\n",
       "      <td>226940</td>\n",
       "      <td>-</td>\n",
       "    </tr>\n",
       "    <tr>\n",
       "      <th>1</th>\n",
       "      <td>LmjF.05</td>\n",
       "      <td>90841</td>\n",
       "      <td>91072</td>\n",
       "      <td>+</td>\n",
       "    </tr>\n",
       "    <tr>\n",
       "      <th>2</th>\n",
       "      <td>LmjF.06</td>\n",
       "      <td>57422</td>\n",
       "      <td>57917</td>\n",
       "      <td>-</td>\n",
       "    </tr>\n",
       "    <tr>\n",
       "      <th>3</th>\n",
       "      <td>LmjF.06</td>\n",
       "      <td>178220</td>\n",
       "      <td>178503</td>\n",
       "      <td>-</td>\n",
       "    </tr>\n",
       "    <tr>\n",
       "      <th>4</th>\n",
       "      <td>LmjF.08</td>\n",
       "      <td>54807</td>\n",
       "      <td>55176</td>\n",
       "      <td>+</td>\n",
       "    </tr>\n",
       "  </tbody>\n",
       "</table>\n",
       "</div>"
      ]
     },
     "execution_count": 32,
     "metadata": {},
     "output_type": "execute_result"
    }
   ],
   "execution_count": 32
  },
  {
   "metadata": {
    "ExecuteTime": {
     "end_time": "2024-11-13T12:57:09.806952Z",
     "start_time": "2024-11-13T12:57:09.799513Z"
    }
   },
   "cell_type": "code",
   "source": [
    "# Rename 'str' to 'sstrand'\n",
    "not_captured_strand.rename(columns={'str': 'sstrand'}, inplace=True)\n",
    "\n",
    "# Replace in 'sstrand' '-' with 'minus' and '+' with 'plus'\n",
    "not_captured_strand['sstrand'] = not_captured_strand['sstrand'].replace('-', 'minus').replace('+', 'plus')\n",
    "\n",
    "not_captured_strand.head()"
   ],
   "id": "fad18c87d86a5233",
   "outputs": [
    {
     "data": {
      "text/plain": [
       "    sseqid  sstart    send sstrand\n",
       "0  LmjF.01  226657  226940   minus\n",
       "1  LmjF.05   90841   91072    plus\n",
       "2  LmjF.06   57422   57917   minus\n",
       "3  LmjF.06  178220  178503   minus\n",
       "4  LmjF.08   54807   55176    plus"
      ],
      "text/html": [
       "<div>\n",
       "<style scoped>\n",
       "    .dataframe tbody tr th:only-of-type {\n",
       "        vertical-align: middle;\n",
       "    }\n",
       "\n",
       "    .dataframe tbody tr th {\n",
       "        vertical-align: top;\n",
       "    }\n",
       "\n",
       "    .dataframe thead th {\n",
       "        text-align: right;\n",
       "    }\n",
       "</style>\n",
       "<table border=\"1\" class=\"dataframe\">\n",
       "  <thead>\n",
       "    <tr style=\"text-align: right;\">\n",
       "      <th></th>\n",
       "      <th>sseqid</th>\n",
       "      <th>sstart</th>\n",
       "      <th>send</th>\n",
       "      <th>sstrand</th>\n",
       "    </tr>\n",
       "  </thead>\n",
       "  <tbody>\n",
       "    <tr>\n",
       "      <th>0</th>\n",
       "      <td>LmjF.01</td>\n",
       "      <td>226657</td>\n",
       "      <td>226940</td>\n",
       "      <td>minus</td>\n",
       "    </tr>\n",
       "    <tr>\n",
       "      <th>1</th>\n",
       "      <td>LmjF.05</td>\n",
       "      <td>90841</td>\n",
       "      <td>91072</td>\n",
       "      <td>plus</td>\n",
       "    </tr>\n",
       "    <tr>\n",
       "      <th>2</th>\n",
       "      <td>LmjF.06</td>\n",
       "      <td>57422</td>\n",
       "      <td>57917</td>\n",
       "      <td>minus</td>\n",
       "    </tr>\n",
       "    <tr>\n",
       "      <th>3</th>\n",
       "      <td>LmjF.06</td>\n",
       "      <td>178220</td>\n",
       "      <td>178503</td>\n",
       "      <td>minus</td>\n",
       "    </tr>\n",
       "    <tr>\n",
       "      <th>4</th>\n",
       "      <td>LmjF.08</td>\n",
       "      <td>54807</td>\n",
       "      <td>55176</td>\n",
       "      <td>plus</td>\n",
       "    </tr>\n",
       "  </tbody>\n",
       "</table>\n",
       "</div>"
      ]
     },
     "execution_count": 33,
     "metadata": {},
     "output_type": "execute_result"
    }
   ],
   "execution_count": 33
  },
  {
   "metadata": {
    "ExecuteTime": {
     "end_time": "2024-11-13T12:59:31.275081Z",
     "start_time": "2024-11-13T12:59:11.707162Z"
    }
   },
   "cell_type": "code",
   "source": [
    "# Update DataFrame with the 'sseq' column\n",
    "not_captured_strand['sseq'] = not_captured_strand.apply(\n",
    "    lambda row: get_sequence(row['sstart'], row['send'], row['sstrand'], row['sseqid'], genome_save_path), \n",
    "    axis=1)\n",
    "\n",
    "print(not_captured_strand.shape)\n",
    "print(not_captured_strand.dtypes)\n",
    "not_captured_strand.head()"
   ],
   "id": "b817ec271ba499e1",
   "outputs": [
    {
     "name": "stdout",
     "output_type": "stream",
     "text": [
      "(400, 5)\n",
      "sseqid     object\n",
      "sstart      int64\n",
      "send        int64\n",
      "sstrand    object\n",
      "sseq       object\n",
      "dtype: object\n"
     ]
    },
    {
     "data": {
      "text/plain": [
       "    sseqid  sstart    send sstrand  \\\n",
       "0  LmjF.01  226657  226940   minus   \n",
       "1  LmjF.05   90841   91072    plus   \n",
       "2  LmjF.06   57422   57917   minus   \n",
       "3  LmjF.06  178220  178503   minus   \n",
       "4  LmjF.08   54807   55176    plus   \n",
       "\n",
       "                                                sseq  \n",
       "0  CCACGATGGAGAAGCCAGACGTATGCGCAAGTCGGACGACGGTACC...  \n",
       "1  CTGGCGATGGTGCGGTGGTGCGTGCCTTGATGAGCAGATGACCCGA...  \n",
       "2  CTCGGATAAGGTGCGCAGGCACACACACACACACACACACACACAC...  \n",
       "3  CACCGGTGAGGTGCATCTCCAGCCCGCGCCGCGACTGCGGAGACGC...  \n",
       "4  CCGTGCCTGTTGCGCAGATACCGCTGCGTAGAAAACGCCCACCCTC...  "
      ],
      "text/html": [
       "<div>\n",
       "<style scoped>\n",
       "    .dataframe tbody tr th:only-of-type {\n",
       "        vertical-align: middle;\n",
       "    }\n",
       "\n",
       "    .dataframe tbody tr th {\n",
       "        vertical-align: top;\n",
       "    }\n",
       "\n",
       "    .dataframe thead th {\n",
       "        text-align: right;\n",
       "    }\n",
       "</style>\n",
       "<table border=\"1\" class=\"dataframe\">\n",
       "  <thead>\n",
       "    <tr style=\"text-align: right;\">\n",
       "      <th></th>\n",
       "      <th>sseqid</th>\n",
       "      <th>sstart</th>\n",
       "      <th>send</th>\n",
       "      <th>sstrand</th>\n",
       "      <th>sseq</th>\n",
       "    </tr>\n",
       "  </thead>\n",
       "  <tbody>\n",
       "    <tr>\n",
       "      <th>0</th>\n",
       "      <td>LmjF.01</td>\n",
       "      <td>226657</td>\n",
       "      <td>226940</td>\n",
       "      <td>minus</td>\n",
       "      <td>CCACGATGGAGAAGCCAGACGTATGCGCAAGTCGGACGACGGTACC...</td>\n",
       "    </tr>\n",
       "    <tr>\n",
       "      <th>1</th>\n",
       "      <td>LmjF.05</td>\n",
       "      <td>90841</td>\n",
       "      <td>91072</td>\n",
       "      <td>plus</td>\n",
       "      <td>CTGGCGATGGTGCGGTGGTGCGTGCCTTGATGAGCAGATGACCCGA...</td>\n",
       "    </tr>\n",
       "    <tr>\n",
       "      <th>2</th>\n",
       "      <td>LmjF.06</td>\n",
       "      <td>57422</td>\n",
       "      <td>57917</td>\n",
       "      <td>minus</td>\n",
       "      <td>CTCGGATAAGGTGCGCAGGCACACACACACACACACACACACACAC...</td>\n",
       "    </tr>\n",
       "    <tr>\n",
       "      <th>3</th>\n",
       "      <td>LmjF.06</td>\n",
       "      <td>178220</td>\n",
       "      <td>178503</td>\n",
       "      <td>minus</td>\n",
       "      <td>CACCGGTGAGGTGCATCTCCAGCCCGCGCCGCGACTGCGGAGACGC...</td>\n",
       "    </tr>\n",
       "    <tr>\n",
       "      <th>4</th>\n",
       "      <td>LmjF.08</td>\n",
       "      <td>54807</td>\n",
       "      <td>55176</td>\n",
       "      <td>plus</td>\n",
       "      <td>CCGTGCCTGTTGCGCAGATACCGCTGCGTAGAAAACGCCCACCCTC...</td>\n",
       "    </tr>\n",
       "  </tbody>\n",
       "</table>\n",
       "</div>"
      ]
     },
     "execution_count": 35,
     "metadata": {},
     "output_type": "execute_result"
    }
   ],
   "execution_count": 35
  },
  {
   "metadata": {
    "ExecuteTime": {
     "end_time": "2024-11-13T13:03:10.253383Z",
     "start_time": "2024-11-13T13:03:10.246437Z"
    }
   },
   "cell_type": "code",
   "source": [
    "# Save data to a CSV\n",
    "saved_name = \"not_captured-first_output_vs_bringaud_WITH_SEQ.csv\"\n",
    "not_captured_strand.to_csv(saved_name, index=False, sep=',', header=True)"
   ],
   "id": "aa51dac76d4900e1",
   "outputs": [],
   "execution_count": 36
  }
 ],
 "metadata": {
  "kernelspec": {
   "display_name": "Python 3",
   "language": "python",
   "name": "python3"
  },
  "language_info": {
   "codemirror_mode": {
    "name": "ipython",
    "version": 2
   },
   "file_extension": ".py",
   "mimetype": "text/x-python",
   "name": "python",
   "nbconvert_exporter": "python",
   "pygments_lexer": "ipython2",
   "version": "2.7.6"
  }
 },
 "nbformat": 4,
 "nbformat_minor": 5
}
