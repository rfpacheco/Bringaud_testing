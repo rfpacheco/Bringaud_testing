{
 "cells": [
  {
   "cell_type": "code",
   "id": "initial_id",
   "metadata": {
    "collapsed": true,
    "ExecuteTime": {
     "end_time": "2024-11-14T13:05:58.920923Z",
     "start_time": "2024-11-14T13:05:58.679941Z"
    }
   },
   "source": [
    "import pandas as pd\n",
    "import os\n",
    "print(os.getcwd())"
   ],
   "outputs": [
    {
     "name": "stdout",
     "output_type": "stream",
     "text": [
      "/home/rfpacheco/Documents/Work_CBMSO/Bringaud_testing/2.ingi_in_major/ingi_in_majorV4-0_ws15/1.Analysing_software_results/not_captured\n"
     ]
    }
   ],
   "execution_count": 1
  },
  {
   "metadata": {
    "ExecuteTime": {
     "end_time": "2024-11-14T13:06:06.930237Z",
     "start_time": "2024-11-14T13:06:06.911153Z"
    }
   },
   "cell_type": "code",
   "source": [
    "not_capt = pd.read_csv(\"final_yes_data.csv\", sep=\",\", header=0)\n",
    "print(not_capt.shape)\n",
    "print(not_capt.dtypes)\n",
    "not_capt.head()"
   ],
   "id": "33ab75d7f65de188",
   "outputs": [
    {
     "name": "stdout",
     "output_type": "stream",
     "text": [
      "(4, 5)\n",
      "sseqid     object\n",
      "sstart      int64\n",
      "send        int64\n",
      "sstrand    object\n",
      "sseq       object\n",
      "dtype: object\n"
     ]
    },
    {
     "data": {
      "text/plain": [
       "    sseqid   sstart     send sstrand  \\\n",
       "0  LmjF.15   344918   345130   minus   \n",
       "1  LmjF.17   344006   344582    plus   \n",
       "2  LmjF.34   192894   193093    plus   \n",
       "3  LmjF.36  1055945  1056139   minus   \n",
       "\n",
       "                                                sseq  \n",
       "0  GTGCCGCCAAACGCCCTCGTGCGAGTCTTGACGCAAGGCCACCTCC...  \n",
       "1  CGGGTCACCCGCGTGACAGGCGGGTATACTAACCACTATACTACCG...  \n",
       "2  CCCGATTGGGGCAAAGGTCGCCTTGGTGGCGAACCATCACACACAC...  \n",
       "3  GTGCCACCAAACGCCTTCGTGCGAGTCTTGACGCAAGGCCACCTCC...  "
      ],
      "text/html": [
       "<div>\n",
       "<style scoped>\n",
       "    .dataframe tbody tr th:only-of-type {\n",
       "        vertical-align: middle;\n",
       "    }\n",
       "\n",
       "    .dataframe tbody tr th {\n",
       "        vertical-align: top;\n",
       "    }\n",
       "\n",
       "    .dataframe thead th {\n",
       "        text-align: right;\n",
       "    }\n",
       "</style>\n",
       "<table border=\"1\" class=\"dataframe\">\n",
       "  <thead>\n",
       "    <tr style=\"text-align: right;\">\n",
       "      <th></th>\n",
       "      <th>sseqid</th>\n",
       "      <th>sstart</th>\n",
       "      <th>send</th>\n",
       "      <th>sstrand</th>\n",
       "      <th>sseq</th>\n",
       "    </tr>\n",
       "  </thead>\n",
       "  <tbody>\n",
       "    <tr>\n",
       "      <th>0</th>\n",
       "      <td>LmjF.15</td>\n",
       "      <td>344918</td>\n",
       "      <td>345130</td>\n",
       "      <td>minus</td>\n",
       "      <td>GTGCCGCCAAACGCCCTCGTGCGAGTCTTGACGCAAGGCCACCTCC...</td>\n",
       "    </tr>\n",
       "    <tr>\n",
       "      <th>1</th>\n",
       "      <td>LmjF.17</td>\n",
       "      <td>344006</td>\n",
       "      <td>344582</td>\n",
       "      <td>plus</td>\n",
       "      <td>CGGGTCACCCGCGTGACAGGCGGGTATACTAACCACTATACTACCG...</td>\n",
       "    </tr>\n",
       "    <tr>\n",
       "      <th>2</th>\n",
       "      <td>LmjF.34</td>\n",
       "      <td>192894</td>\n",
       "      <td>193093</td>\n",
       "      <td>plus</td>\n",
       "      <td>CCCGATTGGGGCAAAGGTCGCCTTGGTGGCGAACCATCACACACAC...</td>\n",
       "    </tr>\n",
       "    <tr>\n",
       "      <th>3</th>\n",
       "      <td>LmjF.36</td>\n",
       "      <td>1055945</td>\n",
       "      <td>1056139</td>\n",
       "      <td>minus</td>\n",
       "      <td>GTGCCACCAAACGCCTTCGTGCGAGTCTTGACGCAAGGCCACCTCC...</td>\n",
       "    </tr>\n",
       "  </tbody>\n",
       "</table>\n",
       "</div>"
      ]
     },
     "execution_count": 2,
     "metadata": {},
     "output_type": "execute_result"
    }
   ],
   "execution_count": 2
  },
  {
   "metadata": {
    "ExecuteTime": {
     "end_time": "2024-11-14T13:14:19.464626Z",
     "start_time": "2024-11-14T13:14:19.454024Z"
    }
   },
   "cell_type": "code",
   "source": [
    "# Let's add a row called 'length'\n",
    "not_capt['length'] = not_capt['sseq'].apply(len)\n",
    "print(not_capt.dtypes)\n",
    "not_capt.head()"
   ],
   "id": "fe010a55dcbbca9e",
   "outputs": [
    {
     "name": "stdout",
     "output_type": "stream",
     "text": [
      "sseqid     object\n",
      "sstart      int64\n",
      "send        int64\n",
      "sstrand    object\n",
      "sseq       object\n",
      "length      int64\n",
      "dtype: object\n"
     ]
    },
    {
     "data": {
      "text/plain": [
       "    sseqid   sstart     send sstrand  \\\n",
       "0  LmjF.15   344918   345130   minus   \n",
       "1  LmjF.17   344006   344582    plus   \n",
       "2  LmjF.34   192894   193093    plus   \n",
       "3  LmjF.36  1055945  1056139   minus   \n",
       "\n",
       "                                                sseq  length  \n",
       "0  GTGCCGCCAAACGCCCTCGTGCGAGTCTTGACGCAAGGCCACCTCC...     213  \n",
       "1  CGGGTCACCCGCGTGACAGGCGGGTATACTAACCACTATACTACCG...     577  \n",
       "2  CCCGATTGGGGCAAAGGTCGCCTTGGTGGCGAACCATCACACACAC...     200  \n",
       "3  GTGCCACCAAACGCCTTCGTGCGAGTCTTGACGCAAGGCCACCTCC...     195  "
      ],
      "text/html": [
       "<div>\n",
       "<style scoped>\n",
       "    .dataframe tbody tr th:only-of-type {\n",
       "        vertical-align: middle;\n",
       "    }\n",
       "\n",
       "    .dataframe tbody tr th {\n",
       "        vertical-align: top;\n",
       "    }\n",
       "\n",
       "    .dataframe thead th {\n",
       "        text-align: right;\n",
       "    }\n",
       "</style>\n",
       "<table border=\"1\" class=\"dataframe\">\n",
       "  <thead>\n",
       "    <tr style=\"text-align: right;\">\n",
       "      <th></th>\n",
       "      <th>sseqid</th>\n",
       "      <th>sstart</th>\n",
       "      <th>send</th>\n",
       "      <th>sstrand</th>\n",
       "      <th>sseq</th>\n",
       "      <th>length</th>\n",
       "    </tr>\n",
       "  </thead>\n",
       "  <tbody>\n",
       "    <tr>\n",
       "      <th>0</th>\n",
       "      <td>LmjF.15</td>\n",
       "      <td>344918</td>\n",
       "      <td>345130</td>\n",
       "      <td>minus</td>\n",
       "      <td>GTGCCGCCAAACGCCCTCGTGCGAGTCTTGACGCAAGGCCACCTCC...</td>\n",
       "      <td>213</td>\n",
       "    </tr>\n",
       "    <tr>\n",
       "      <th>1</th>\n",
       "      <td>LmjF.17</td>\n",
       "      <td>344006</td>\n",
       "      <td>344582</td>\n",
       "      <td>plus</td>\n",
       "      <td>CGGGTCACCCGCGTGACAGGCGGGTATACTAACCACTATACTACCG...</td>\n",
       "      <td>577</td>\n",
       "    </tr>\n",
       "    <tr>\n",
       "      <th>2</th>\n",
       "      <td>LmjF.34</td>\n",
       "      <td>192894</td>\n",
       "      <td>193093</td>\n",
       "      <td>plus</td>\n",
       "      <td>CCCGATTGGGGCAAAGGTCGCCTTGGTGGCGAACCATCACACACAC...</td>\n",
       "      <td>200</td>\n",
       "    </tr>\n",
       "    <tr>\n",
       "      <th>3</th>\n",
       "      <td>LmjF.36</td>\n",
       "      <td>1055945</td>\n",
       "      <td>1056139</td>\n",
       "      <td>minus</td>\n",
       "      <td>GTGCCACCAAACGCCTTCGTGCGAGTCTTGACGCAAGGCCACCTCC...</td>\n",
       "      <td>195</td>\n",
       "    </tr>\n",
       "  </tbody>\n",
       "</table>\n",
       "</div>"
      ]
     },
     "execution_count": 3,
     "metadata": {},
     "output_type": "execute_result"
    }
   ],
   "execution_count": 3
  },
  {
   "metadata": {
    "ExecuteTime": {
     "end_time": "2024-11-14T13:14:21.422154Z",
     "start_time": "2024-11-14T13:14:21.409852Z"
    }
   },
   "cell_type": "code",
   "source": [
    "# Let's do the same but subtracting: 'sstart' - 'send' + 1\n",
    "not_capt['length_num'] = abs(not_capt['send'] - not_capt['sstart'] + 1)\n",
    "print(not_capt.dtypes)\n",
    "not_capt.head()"
   ],
   "id": "6ae6e1a0b9c71774",
   "outputs": [
    {
     "name": "stdout",
     "output_type": "stream",
     "text": [
      "sseqid        object\n",
      "sstart         int64\n",
      "send           int64\n",
      "sstrand       object\n",
      "sseq          object\n",
      "length         int64\n",
      "length_num     int64\n",
      "dtype: object\n"
     ]
    },
    {
     "data": {
      "text/plain": [
       "    sseqid   sstart     send sstrand  \\\n",
       "0  LmjF.15   344918   345130   minus   \n",
       "1  LmjF.17   344006   344582    plus   \n",
       "2  LmjF.34   192894   193093    plus   \n",
       "3  LmjF.36  1055945  1056139   minus   \n",
       "\n",
       "                                                sseq  length  length_num  \n",
       "0  GTGCCGCCAAACGCCCTCGTGCGAGTCTTGACGCAAGGCCACCTCC...     213         213  \n",
       "1  CGGGTCACCCGCGTGACAGGCGGGTATACTAACCACTATACTACCG...     577         577  \n",
       "2  CCCGATTGGGGCAAAGGTCGCCTTGGTGGCGAACCATCACACACAC...     200         200  \n",
       "3  GTGCCACCAAACGCCTTCGTGCGAGTCTTGACGCAAGGCCACCTCC...     195         195  "
      ],
      "text/html": [
       "<div>\n",
       "<style scoped>\n",
       "    .dataframe tbody tr th:only-of-type {\n",
       "        vertical-align: middle;\n",
       "    }\n",
       "\n",
       "    .dataframe tbody tr th {\n",
       "        vertical-align: top;\n",
       "    }\n",
       "\n",
       "    .dataframe thead th {\n",
       "        text-align: right;\n",
       "    }\n",
       "</style>\n",
       "<table border=\"1\" class=\"dataframe\">\n",
       "  <thead>\n",
       "    <tr style=\"text-align: right;\">\n",
       "      <th></th>\n",
       "      <th>sseqid</th>\n",
       "      <th>sstart</th>\n",
       "      <th>send</th>\n",
       "      <th>sstrand</th>\n",
       "      <th>sseq</th>\n",
       "      <th>length</th>\n",
       "      <th>length_num</th>\n",
       "    </tr>\n",
       "  </thead>\n",
       "  <tbody>\n",
       "    <tr>\n",
       "      <th>0</th>\n",
       "      <td>LmjF.15</td>\n",
       "      <td>344918</td>\n",
       "      <td>345130</td>\n",
       "      <td>minus</td>\n",
       "      <td>GTGCCGCCAAACGCCCTCGTGCGAGTCTTGACGCAAGGCCACCTCC...</td>\n",
       "      <td>213</td>\n",
       "      <td>213</td>\n",
       "    </tr>\n",
       "    <tr>\n",
       "      <th>1</th>\n",
       "      <td>LmjF.17</td>\n",
       "      <td>344006</td>\n",
       "      <td>344582</td>\n",
       "      <td>plus</td>\n",
       "      <td>CGGGTCACCCGCGTGACAGGCGGGTATACTAACCACTATACTACCG...</td>\n",
       "      <td>577</td>\n",
       "      <td>577</td>\n",
       "    </tr>\n",
       "    <tr>\n",
       "      <th>2</th>\n",
       "      <td>LmjF.34</td>\n",
       "      <td>192894</td>\n",
       "      <td>193093</td>\n",
       "      <td>plus</td>\n",
       "      <td>CCCGATTGGGGCAAAGGTCGCCTTGGTGGCGAACCATCACACACAC...</td>\n",
       "      <td>200</td>\n",
       "      <td>200</td>\n",
       "    </tr>\n",
       "    <tr>\n",
       "      <th>3</th>\n",
       "      <td>LmjF.36</td>\n",
       "      <td>1055945</td>\n",
       "      <td>1056139</td>\n",
       "      <td>minus</td>\n",
       "      <td>GTGCCACCAAACGCCTTCGTGCGAGTCTTGACGCAAGGCCACCTCC...</td>\n",
       "      <td>195</td>\n",
       "      <td>195</td>\n",
       "    </tr>\n",
       "  </tbody>\n",
       "</table>\n",
       "</div>"
      ]
     },
     "execution_count": 4,
     "metadata": {},
     "output_type": "execute_result"
    }
   ],
   "execution_count": 4
  },
  {
   "metadata": {
    "ExecuteTime": {
     "end_time": "2024-11-14T13:14:24.161816Z",
     "start_time": "2024-11-14T13:14:24.157654Z"
    }
   },
   "cell_type": "code",
   "source": [
    "# Are both columns equal?\n",
    "count_result = not_capt['length'] == not_capt['length_num']\n",
    "print(\"True count:\", count_result.sum())\n",
    "print(\"False count:\", (~count_result).sum())"
   ],
   "id": "48723cb78086c96a",
   "outputs": [
    {
     "name": "stdout",
     "output_type": "stream",
     "text": [
      "True count: 4\n",
      "False count: 0\n"
     ]
    }
   ],
   "execution_count": 5
  },
  {
   "metadata": {
    "ExecuteTime": {
     "end_time": "2024-11-14T13:14:25.732287Z",
     "start_time": "2024-11-14T13:14:25.724156Z"
    }
   },
   "cell_type": "code",
   "source": [
    "# Some descriptive analysis from col 'length': mediam, meean, q1, q3, max and min\n",
    "not_capt['length'].describe()"
   ],
   "id": "3329263fdcd90635",
   "outputs": [
    {
     "data": {
      "text/plain": [
       "count      4.000000\n",
       "mean     296.250000\n",
       "std      187.320358\n",
       "min      195.000000\n",
       "25%      198.750000\n",
       "50%      206.500000\n",
       "75%      304.000000\n",
       "max      577.000000\n",
       "Name: length, dtype: float64"
      ]
     },
     "execution_count": 6,
     "metadata": {},
     "output_type": "execute_result"
    }
   ],
   "execution_count": 6
  }
 ],
 "metadata": {
  "kernelspec": {
   "display_name": "Python 3",
   "language": "python",
   "name": "python3"
  },
  "language_info": {
   "codemirror_mode": {
    "name": "ipython",
    "version": 2
   },
   "file_extension": ".py",
   "mimetype": "text/x-python",
   "name": "python",
   "nbconvert_exporter": "python",
   "pygments_lexer": "ipython2",
   "version": "2.7.6"
  }
 },
 "nbformat": 4,
 "nbformat_minor": 5
}
