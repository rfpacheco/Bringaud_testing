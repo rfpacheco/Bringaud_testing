{
 "cells": [
  {
   "metadata": {},
   "cell_type": "markdown",
   "source": [
    "Author: Ronny F. Pacheco Date: Nov 2024 Copyright: © 2024 Ronny Pacheco License: MIT License\n",
    "\n",
    "MIT License\n",
    "\n",
    "Copyright (c) 2024 Ronny Pacheco\n",
    "\n",
    "Permission is hereby granted, free of charge, to any person obtaining a copy of this software and associated documentation files (the \"Software\"), to deal in the Software without restriction, including without limitation the rights to use, copy, modify, merge, publish, distribute, sublicense, and/or sell copies of the Software, and to permit persons to whom the Software is furnished to do so, subject to the following conditions:\n",
    "\n",
    "The above copyright notice and this permission notice shall be included in all copies or substantial portions of the Software.\n",
    "\n",
    "THE SOFTWARE IS PROVIDED \"AS IS\", WITHOUT WARRANTY OF ANY KIND, EXPRESS OR IMPLIED, INCLUDING BUT NOT LIMITED TO THE WARRANTIES OF MERCHANTABILITY, FITNESS FOR A PARTICULAR PURPOSE AND NONINFRINGEMENT. IN NO EVENT SHALL THE AUTHORS OR COPYRIGHT HOLDERS BE LIABLE FOR ANY CLAIM, DAMAGES OR OTHER LIABILITY, WHETHER IN AN ACTION OF CONTRACT, TORT OR OTHERWISE, ARISING FROM, OUT OF OR IN CONNECTION WITH THE SOFTWARE OR THE USE OR OTHER DEALINGS IN THE SOFTWARE.\n"
   ],
   "id": "6049323d281967ef"
  },
  {
   "metadata": {},
   "cell_type": "markdown",
   "source": "# In/Out files",
   "id": "ab193cb7ea8e7dda"
  },
  {
   "metadata": {},
   "cell_type": "markdown",
   "source": [
    "- In files:\n",
    "    -  2.ingi_in_major/data/sider_df_v2.csv\n",
    "- Out files:\n",
    "    - data/blastn_dic (directory) \n",
    "    - 2.ingi_in_major/data/bedops/sider.bed\n",
    "    - 2.ingi_in_major/data/sider_merged.csv "
   ],
   "id": "81e49e4582b6da80"
  },
  {
   "metadata": {},
   "cell_type": "markdown",
   "source": "# Needed modules",
   "id": "bb5db9300d45903d"
  },
  {
   "metadata": {
    "ExecuteTime": {
     "end_time": "2024-11-04T12:20:30.557298Z",
     "start_time": "2024-11-04T12:20:30.555397Z"
    }
   },
   "cell_type": "code",
   "source": [
    "import pandas as pd\n",
    "import pickle\n",
    "import os\n",
    "import subprocess"
   ],
   "id": "54e5b8e505a6ca15",
   "outputs": [],
   "execution_count": 13
  },
  {
   "metadata": {},
   "cell_type": "code",
   "outputs": [],
   "execution_count": null,
   "source": [
    "# https://kioku-space.com/en/jupyter-skip-execution/\n",
    "from IPython.core.magic import register_cell_magic # type: ignore\n",
    "\n",
    "\n",
    "@register_cell_magic\n",
    "def skip(line, cell):\n",
    "    print('Skipping cell')\n",
    "    if line and cell:\n",
    "        pass\n",
    "    return"
   ],
   "id": "db3f760150cc261a"
  },
  {
   "metadata": {},
   "cell_type": "markdown",
   "source": "# Pickle save",
   "id": "83f77f255ac400b"
  },
  {
   "metadata": {},
   "cell_type": "code",
   "outputs": [],
   "execution_count": null,
   "source": [
    "%%skip\n",
    "# =============================================================================\n",
    "# main function\n",
    "# =============================================================================\n",
    "def data_save_load(option):\n",
    "    \"\"\"\n",
    "    This function is used to save or load data for the jupyter notebook\n",
    "    \"\"\"\n",
    "    path_folder = \"ipynb_db\"  # Folder to save variables\n",
    "    os.makedirs(path_folder, exist_ok=True)  # Create folder if not exist\n",
    "    notebook_name = '1.prepare_data'\n",
    "    path_file = os.path.join(path_folder, f\"{notebook_name}.variables.pkl\") # Path to save the variables\n",
    "\n",
    "    if option == \"save\":\n",
    "        with open(path_file, \"wb\") as pickle_file:\n",
    "            dict_variables = { # 'var_name' : 'real_var'\n",
    "\n",
    "            }\n",
    "            pickle.dump(dict_variables, pickle_file)\n",
    "    elif option == \"load\":\n",
    "        with open(path_file, \"rb\") as pickle_file:\n",
    "            variables = pickle.load(pickle_file)\n",
    "        # Now load the variables\n",
    "        for pickle_key, pickle_value in variables.items():\n",
    "            print(f\"* Loading variable: {pickle_key}\")\n",
    "            globals()[pickle_key] = pickle_value\n",
    "# =============================================================================\n",
    "# Call the function\n",
    "# =============================================================================\n",
    "data_save_load(option=\"load\")"
   ],
   "id": "4f1f88bcda081737"
  },
  {
   "metadata": {},
   "cell_type": "markdown",
   "source": "# Load data",
   "id": "8841d38de33478ec"
  },
  {
   "metadata": {
    "ExecuteTime": {
     "end_time": "2024-11-04T11:15:16.211289Z",
     "start_time": "2024-11-04T11:15:16.168971Z"
    }
   },
   "cell_type": "code",
   "source": [
    "# Load sider_df data\n",
    "sider_df = pd.read_csv('./data/sider_df_v2.csv', sep=',', header=0)\n",
    "print(sider_df.shape)\n",
    "print(sider_df.dtypes)\n",
    "sider_df.head()"
   ],
   "id": "862ea560936f400c",
   "outputs": [
    {
     "name": "stdout",
     "output_type": "stream",
     "text": [
      "(4804, 6)\n",
      "chrom           object\n",
      "length           int64\n",
      "sider_start      int64\n",
      "sider_end        int64\n",
      "sider_strand    object\n",
      "sider_seq       object\n",
      "dtype: object\n"
     ]
    },
    {
     "data": {
      "text/plain": [
       "     chrom  length  sider_start  sider_end sider_strand  \\\n",
       "0  LmjF.01     253        24284      24536        minus   \n",
       "1  LmjF.01     597        24604      25200        minus   \n",
       "2  LmjF.01     935        35467      36401        minus   \n",
       "3  LmjF.01     812        39730      40541        minus   \n",
       "4  LmjF.01     949        54594      55542        minus   \n",
       "\n",
       "                                           sider_seq  \n",
       "0  CCCTCCCCGTGGGCCAGTGTGAGGAGCCGGCTGCGATGCGCTCGAG...  \n",
       "1  TATGACAGTTTGCCGCCCAGCGGCGCTGCGGTGTACCGCTGGCCAG...  \n",
       "2  GCCACGAATTCTTCGTGGGCCTCTCCGTCTCTCCGTGCCATCTGCT...  \n",
       "3  GCCCCAGCCCCTTGGCTGGCATGGACGGAGATGGACGATGAAGACA...  \n",
       "4  GCAGCGGATTTCCATAGGCTTCTCTCAGCTCCAGGCAATCGGTTGA...  "
      ],
      "text/html": [
       "<div>\n",
       "<style scoped>\n",
       "    .dataframe tbody tr th:only-of-type {\n",
       "        vertical-align: middle;\n",
       "    }\n",
       "\n",
       "    .dataframe tbody tr th {\n",
       "        vertical-align: top;\n",
       "    }\n",
       "\n",
       "    .dataframe thead th {\n",
       "        text-align: right;\n",
       "    }\n",
       "</style>\n",
       "<table border=\"1\" class=\"dataframe\">\n",
       "  <thead>\n",
       "    <tr style=\"text-align: right;\">\n",
       "      <th></th>\n",
       "      <th>chrom</th>\n",
       "      <th>length</th>\n",
       "      <th>sider_start</th>\n",
       "      <th>sider_end</th>\n",
       "      <th>sider_strand</th>\n",
       "      <th>sider_seq</th>\n",
       "    </tr>\n",
       "  </thead>\n",
       "  <tbody>\n",
       "    <tr>\n",
       "      <th>0</th>\n",
       "      <td>LmjF.01</td>\n",
       "      <td>253</td>\n",
       "      <td>24284</td>\n",
       "      <td>24536</td>\n",
       "      <td>minus</td>\n",
       "      <td>CCCTCCCCGTGGGCCAGTGTGAGGAGCCGGCTGCGATGCGCTCGAG...</td>\n",
       "    </tr>\n",
       "    <tr>\n",
       "      <th>1</th>\n",
       "      <td>LmjF.01</td>\n",
       "      <td>597</td>\n",
       "      <td>24604</td>\n",
       "      <td>25200</td>\n",
       "      <td>minus</td>\n",
       "      <td>TATGACAGTTTGCCGCCCAGCGGCGCTGCGGTGTACCGCTGGCCAG...</td>\n",
       "    </tr>\n",
       "    <tr>\n",
       "      <th>2</th>\n",
       "      <td>LmjF.01</td>\n",
       "      <td>935</td>\n",
       "      <td>35467</td>\n",
       "      <td>36401</td>\n",
       "      <td>minus</td>\n",
       "      <td>GCCACGAATTCTTCGTGGGCCTCTCCGTCTCTCCGTGCCATCTGCT...</td>\n",
       "    </tr>\n",
       "    <tr>\n",
       "      <th>3</th>\n",
       "      <td>LmjF.01</td>\n",
       "      <td>812</td>\n",
       "      <td>39730</td>\n",
       "      <td>40541</td>\n",
       "      <td>minus</td>\n",
       "      <td>GCCCCAGCCCCTTGGCTGGCATGGACGGAGATGGACGATGAAGACA...</td>\n",
       "    </tr>\n",
       "    <tr>\n",
       "      <th>4</th>\n",
       "      <td>LmjF.01</td>\n",
       "      <td>949</td>\n",
       "      <td>54594</td>\n",
       "      <td>55542</td>\n",
       "      <td>minus</td>\n",
       "      <td>GCAGCGGATTTCCATAGGCTTCTCTCAGCTCCAGGCAATCGGTTGA...</td>\n",
       "    </tr>\n",
       "  </tbody>\n",
       "</table>\n",
       "</div>"
      ]
     },
     "execution_count": 4,
     "metadata": {},
     "output_type": "execute_result"
    }
   ],
   "execution_count": 4
  },
  {
   "metadata": {},
   "cell_type": "markdown",
   "source": "# Prepare data",
   "id": "4b45af2c1f030cea"
  },
  {
   "metadata": {
    "ExecuteTime": {
     "end_time": "2024-11-04T11:21:36.591790Z",
     "start_time": "2024-11-04T11:21:36.585807Z"
    }
   },
   "cell_type": "code",
   "source": [
    "# Take only the needed columns\n",
    "sider_df = sider_df[['chrom', 'sider_start', 'sider_end']].copy()\n",
    "sider_df.head()"
   ],
   "id": "54c9171c227c1a20",
   "outputs": [
    {
     "data": {
      "text/plain": [
       "     chrom  sider_start  sider_end\n",
       "0  LmjF.01        24284      24536\n",
       "1  LmjF.01        24604      25200\n",
       "2  LmjF.01        35467      36401\n",
       "3  LmjF.01        39730      40541\n",
       "4  LmjF.01        54594      55542"
      ],
      "text/html": [
       "<div>\n",
       "<style scoped>\n",
       "    .dataframe tbody tr th:only-of-type {\n",
       "        vertical-align: middle;\n",
       "    }\n",
       "\n",
       "    .dataframe tbody tr th {\n",
       "        vertical-align: top;\n",
       "    }\n",
       "\n",
       "    .dataframe thead th {\n",
       "        text-align: right;\n",
       "    }\n",
       "</style>\n",
       "<table border=\"1\" class=\"dataframe\">\n",
       "  <thead>\n",
       "    <tr style=\"text-align: right;\">\n",
       "      <th></th>\n",
       "      <th>chrom</th>\n",
       "      <th>sider_start</th>\n",
       "      <th>sider_end</th>\n",
       "    </tr>\n",
       "  </thead>\n",
       "  <tbody>\n",
       "    <tr>\n",
       "      <th>0</th>\n",
       "      <td>LmjF.01</td>\n",
       "      <td>24284</td>\n",
       "      <td>24536</td>\n",
       "    </tr>\n",
       "    <tr>\n",
       "      <th>1</th>\n",
       "      <td>LmjF.01</td>\n",
       "      <td>24604</td>\n",
       "      <td>25200</td>\n",
       "    </tr>\n",
       "    <tr>\n",
       "      <th>2</th>\n",
       "      <td>LmjF.01</td>\n",
       "      <td>35467</td>\n",
       "      <td>36401</td>\n",
       "    </tr>\n",
       "    <tr>\n",
       "      <th>3</th>\n",
       "      <td>LmjF.01</td>\n",
       "      <td>39730</td>\n",
       "      <td>40541</td>\n",
       "    </tr>\n",
       "    <tr>\n",
       "      <th>4</th>\n",
       "      <td>LmjF.01</td>\n",
       "      <td>54594</td>\n",
       "      <td>55542</td>\n",
       "    </tr>\n",
       "  </tbody>\n",
       "</table>\n",
       "</div>"
      ]
     },
     "execution_count": 7,
     "metadata": {},
     "output_type": "execute_result"
    }
   ],
   "execution_count": 7
  },
  {
   "metadata": {},
   "cell_type": "markdown",
   "source": "# Needed functions",
   "id": "8ba25a85e68c41c0"
  },
  {
   "metadata": {
    "ExecuteTime": {
     "end_time": "2024-11-04T12:30:21.739341Z",
     "start_time": "2024-11-04T12:30:21.735980Z"
    }
   },
   "cell_type": "code",
   "source": [
    "# Now let's get the sequences\n",
    "def get_data_sequence(data, strand, genome_fasta):\n",
    "    \"\"\"\n",
    "    :param data: DataFrame containing information about chromosomal regions including columns 'chrom', 'sider_start', and 'sider_end'.\n",
    "    :param strand: Specifies the DNA strand to retrieve the sequence from, either 'plus' or 'minus'.\n",
    "    :param genome_fasta: Path to the genome FASTA file to retrieve sequences from.\n",
    "    :return: DataFrame with columns 'chrom', 'sider_start', 'sider_end', 'strand', and 'sider_seq' containing the sequences extracted from the genome.\n",
    "    \"\"\"\n",
    "    sequences = []\n",
    "    for _, row in data.iterrows():\n",
    "        chrom = row[\"chrom\"]\n",
    "        start = row[\"sider_start\"]\n",
    "        end = row[\"sider_end\"]\n",
    "        blast_cmd = f\"blastdbcmd -db {genome_fasta} -entry {chrom} -range {start}-{end} -strand {strand} -outfmt %s\"\n",
    "\n",
    "        sequence = subprocess.check_output(blast_cmd, shell=True, universal_newlines=True).replace('\\n', '')\n",
    "\n",
    "        sequences.append({\n",
    "            \"chrom\": chrom,\n",
    "            \"sider_start\": start,\n",
    "            \"sider_end\": end,\n",
    "            \"strand\": strand,\n",
    "            \"sider_seq\": sequence\n",
    "        })\n",
    "\n",
    "    sequences_df = pd.DataFrame(sequences)\n",
    "    return sequences_df\n",
    "\n",
    "# Prepare dict creation\n",
    "def blastn_dic(path_input, path_output):\n",
    "    \"\"\"\n",
    "    :param path_input: Path to the input file containing nucleotide sequences.\n",
    "    :param path_output: Path to the output file where the BLAST database will be created.\n",
    "    :return: None\n",
    "    \"\"\"\n",
    "    # \"parse_seqids\" is used to keep the sequence ID in the output.\n",
    "    blast_cmd = f\"makeblastdb -in {path_input} -dbtype nucl -parse_seqids -out {path_output}\"\n",
    "    subprocess.run(blast_cmd, shell=True, stdout=subprocess.DEVNULL, stderr=subprocess.DEVNULL)"
   ],
   "id": "8a63b6c2ee365cba",
   "outputs": [],
   "execution_count": 18
  },
  {
   "metadata": {},
   "cell_type": "markdown",
   "source": "# BEDOPS join strands",
   "id": "206253ec81309ba1"
  },
  {
   "metadata": {},
   "cell_type": "markdown",
   "source": "## Create bedops folder environment",
   "id": "d1ded67acb483dea"
  },
  {
   "metadata": {
    "ExecuteTime": {
     "end_time": "2024-11-04T11:27:45.871205Z",
     "start_time": "2024-11-04T11:27:45.863724Z"
    }
   },
   "cell_type": "code",
   "source": [
    "# Create bedops folder\n",
    "bedops_folder = './data/bedops'\n",
    "os.makedirs(bedops_folder, exist_ok=True)\n",
    "\n",
    "# save bedops sider file\n",
    "sider_bedops_path = './data/bedops/sider.bed'\n",
    "sider_df.to_csv(sider_bedops_path, sep='\\t', header=False, index=False)"
   ],
   "id": "76305185880f6ddc",
   "outputs": [],
   "execution_count": 9
  },
  {
   "metadata": {},
   "cell_type": "markdown",
   "source": "## Bedops merge",
   "id": "c6f0ae3e4cfeabe8"
  },
  {
   "metadata": {
    "ExecuteTime": {
     "end_time": "2024-11-04T11:30:14.878641Z",
     "start_time": "2024-11-04T11:30:14.866511Z"
    }
   },
   "cell_type": "code",
   "source": [
    "# Bedops merge call\n",
    "cmd = f\"bedops --merge {sider_bedops_path}\"\n",
    "sider_bedops = subprocess.check_output(cmd, shell=True, universal_newlines=True)\n",
    "sider_bedops = pd.DataFrame([x.split(\"\\t\") for x in sider_bedops.split(\"\\n\") if x],\n",
    "                              columns=[\"chrom\", \"sider_start\", \"sider_end\"])\n",
    "sider_bedops[[\"sider_start\", \"sider_end\"]] = sider_bedops[[\"sider_start\", \"sider_end\"]].apply(pd.to_numeric)\n",
    "print(f\"From a total of {sider_df.shape[0]} there are {sider_bedops.shape[0]} SIDER sequences after BEDOPS merge\")"
   ],
   "id": "b2c93010bb61c299",
   "outputs": [
    {
     "name": "stdout",
     "output_type": "stream",
     "text": [
      "From a total of 4804 there are 2874 SIDER sequences after BEDOPS merge\n"
     ]
    }
   ],
   "execution_count": 11
  },
  {
   "metadata": {
    "ExecuteTime": {
     "end_time": "2024-11-04T12:18:07.175585Z",
     "start_time": "2024-11-04T12:18:07.173677Z"
    }
   },
   "cell_type": "code",
   "source": [
    "# Prepare dictionary blastn\n",
    "blast_dic_path = \"../data/blastn_dic\"\n",
    "os.makedirs(blast_dic_path, exist_ok=True)"
   ],
   "id": "31d307e3c5cea2de",
   "outputs": [],
   "execution_count": 12
  },
  {
   "metadata": {},
   "cell_type": "markdown",
   "source": "## Blastn dict preparation",
   "id": "5e94bd95f00b1e52"
  },
  {
   "metadata": {
    "ExecuteTime": {
     "end_time": "2024-11-04T12:21:29.854392Z",
     "start_time": "2024-11-04T12:21:29.410220Z"
    }
   },
   "cell_type": "code",
   "source": [
    "genome_path = \"../data/TriTrypDB-68_LmajorFriedlin_Genome.fasta\"\n",
    "blastn_dict_output_path = \"../data/blastn_dic/TriTrypDB-68_LmajorFriedlin_Genome.fasta\"\n",
    "blastn_dic(path_input=genome_path,\n",
    "           path_output=blastn_dict_output_path)"
   ],
   "id": "5e285c235e4ce8a4",
   "outputs": [],
   "execution_count": 16
  },
  {
   "metadata": {
    "ExecuteTime": {
     "end_time": "2024-11-04T12:34:28.809844Z",
     "start_time": "2024-11-04T12:32:06.916251Z"
    }
   },
   "cell_type": "code",
   "source": [
    "sider_merged = get_data_sequence(sider_bedops, \"plus\", blastn_dict_output_path)\n",
    "print(sider_merged.shape)\n",
    "print(sider_merged.dtypes)\n",
    "sider_merged.head()"
   ],
   "id": "2d6f189d6929c123",
   "outputs": [
    {
     "name": "stdout",
     "output_type": "stream",
     "text": [
      "(2874, 5)\n",
      "chrom          object\n",
      "sider_start     int64\n",
      "sider_end       int64\n",
      "strand         object\n",
      "sider_seq      object\n",
      "dtype: object\n"
     ]
    },
    {
     "data": {
      "text/plain": [
       "     chrom  sider_start  sider_end strand  \\\n",
       "0  LmjF.01        24284      24536   plus   \n",
       "1  LmjF.01        24604      25200   plus   \n",
       "2  LmjF.01        35467      36401   plus   \n",
       "3  LmjF.01        39730      40541   plus   \n",
       "4  LmjF.01        54594      55542   plus   \n",
       "\n",
       "                                           sider_seq  \n",
       "0  GCAGCCCCCTCCCCCTCTATCCCTGCCAACGCCAAACCACTTCTGG...  \n",
       "1  CCGGCATGATGGAGGGGCGGCTGTGAGGTGGTGCGTGCATGTATGT...  \n",
       "2  CCCCATCGCCTGGTGCGAAGCAGCGCAAGACACACACGCGCTGCAG...  \n",
       "3  ATTTTACCGCGAGCAAGGCAACACACAGACGCACACACAACCACAG...  \n",
       "4  GCCGCACCCCACCCCCATCGCCTGGTGCGAAGCAGCGCAAGACACA...  "
      ],
      "text/html": [
       "<div>\n",
       "<style scoped>\n",
       "    .dataframe tbody tr th:only-of-type {\n",
       "        vertical-align: middle;\n",
       "    }\n",
       "\n",
       "    .dataframe tbody tr th {\n",
       "        vertical-align: top;\n",
       "    }\n",
       "\n",
       "    .dataframe thead th {\n",
       "        text-align: right;\n",
       "    }\n",
       "</style>\n",
       "<table border=\"1\" class=\"dataframe\">\n",
       "  <thead>\n",
       "    <tr style=\"text-align: right;\">\n",
       "      <th></th>\n",
       "      <th>chrom</th>\n",
       "      <th>sider_start</th>\n",
       "      <th>sider_end</th>\n",
       "      <th>strand</th>\n",
       "      <th>sider_seq</th>\n",
       "    </tr>\n",
       "  </thead>\n",
       "  <tbody>\n",
       "    <tr>\n",
       "      <th>0</th>\n",
       "      <td>LmjF.01</td>\n",
       "      <td>24284</td>\n",
       "      <td>24536</td>\n",
       "      <td>plus</td>\n",
       "      <td>GCAGCCCCCTCCCCCTCTATCCCTGCCAACGCCAAACCACTTCTGG...</td>\n",
       "    </tr>\n",
       "    <tr>\n",
       "      <th>1</th>\n",
       "      <td>LmjF.01</td>\n",
       "      <td>24604</td>\n",
       "      <td>25200</td>\n",
       "      <td>plus</td>\n",
       "      <td>CCGGCATGATGGAGGGGCGGCTGTGAGGTGGTGCGTGCATGTATGT...</td>\n",
       "    </tr>\n",
       "    <tr>\n",
       "      <th>2</th>\n",
       "      <td>LmjF.01</td>\n",
       "      <td>35467</td>\n",
       "      <td>36401</td>\n",
       "      <td>plus</td>\n",
       "      <td>CCCCATCGCCTGGTGCGAAGCAGCGCAAGACACACACGCGCTGCAG...</td>\n",
       "    </tr>\n",
       "    <tr>\n",
       "      <th>3</th>\n",
       "      <td>LmjF.01</td>\n",
       "      <td>39730</td>\n",
       "      <td>40541</td>\n",
       "      <td>plus</td>\n",
       "      <td>ATTTTACCGCGAGCAAGGCAACACACAGACGCACACACAACCACAG...</td>\n",
       "    </tr>\n",
       "    <tr>\n",
       "      <th>4</th>\n",
       "      <td>LmjF.01</td>\n",
       "      <td>54594</td>\n",
       "      <td>55542</td>\n",
       "      <td>plus</td>\n",
       "      <td>GCCGCACCCCACCCCCATCGCCTGGTGCGAAGCAGCGCAAGACACA...</td>\n",
       "    </tr>\n",
       "  </tbody>\n",
       "</table>\n",
       "</div>"
      ]
     },
     "execution_count": 21,
     "metadata": {},
     "output_type": "execute_result"
    }
   ],
   "execution_count": 21
  },
  {
   "metadata": {},
   "cell_type": "markdown",
   "source": "# Save data",
   "id": "a4501f394262dcc9"
  },
  {
   "metadata": {
    "ExecuteTime": {
     "end_time": "2024-11-04T12:39:56.911906Z",
     "start_time": "2024-11-04T12:39:56.882826Z"
    }
   },
   "cell_type": "code",
   "source": [
    "file_path = \"./data/sider_merged.csv\"\n",
    "sider_merged.to_csv(file_path, sep=',', header=True, index=False)"
   ],
   "id": "6f13d868b89e32a",
   "outputs": [],
   "execution_count": 22
  }
 ],
 "metadata": {
  "kernelspec": {
   "display_name": "Python 3",
   "language": "python",
   "name": "python3"
  },
  "language_info": {
   "codemirror_mode": {
    "name": "ipython",
    "version": 2
   },
   "file_extension": ".py",
   "mimetype": "text/x-python",
   "name": "python",
   "nbconvert_exporter": "python",
   "pygments_lexer": "ipython2",
   "version": "2.7.6"
  }
 },
 "nbformat": 4,
 "nbformat_minor": 5
}
