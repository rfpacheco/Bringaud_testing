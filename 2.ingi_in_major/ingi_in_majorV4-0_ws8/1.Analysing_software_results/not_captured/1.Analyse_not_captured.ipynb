{
 "cells": [
  {
   "cell_type": "code",
   "id": "initial_id",
   "metadata": {
    "collapsed": true,
    "ExecuteTime": {
     "end_time": "2024-11-13T12:42:03.590337Z",
     "start_time": "2024-11-13T12:42:03.587051Z"
    }
   },
   "source": [
    "import pandas as pd\n",
    "import subprocess\n",
    "import os"
   ],
   "outputs": [],
   "execution_count": 17
  },
  {
   "metadata": {
    "ExecuteTime": {
     "end_time": "2024-11-13T12:42:04.532860Z",
     "start_time": "2024-11-13T12:42:04.528912Z"
    }
   },
   "cell_type": "code",
   "source": [
    "def blastn_dic(path_input, path_output):\n",
    "    \"\"\"\n",
    "    Creation af a BLAST database of our whole genome. It uses the BLAST :sup:`R` command line, see BLAST\n",
    "    `Command Line Application User Manual`_ for more information.\n",
    "\n",
    "\n",
    "    The generation of the properly database will be placed in the directory where ``path_input`` is.\n",
    "    It is recommended to use a dedicated folder to this FASTA file so the database is written next to it.\n",
    "\n",
    "    :param path_input: path to a FASTA file.\n",
    "    :type path_input: string\n",
    "\n",
    "    :param path_output: path to the output folder where the BLAST database will be created.\n",
    "    :type path_output: string\n",
    "\n",
    "    :return: a BLAST database.\n",
    "    :rtype: Muitiples files (**.nhr**, **.nin**, **.nog**, **.nsd**, **.nsi** and **.nsq** extensions)\n",
    "    \"\"\"\n",
    "\n",
    "    # Remember is \"path.input.dic_path\" for \"argparse\".\n",
    "    try:\n",
    "        # \"parse_seqids\" is used to keep the sequence ID in the output.\n",
    "        cmd = f\"makeblastdb -in {path_input} -dbtype nucl -parse_seqids -out {path_output}\"\n",
    "        subprocess.run(cmd, shell=True, stdout=subprocess.DEVNULL, stderr=subprocess.DEVNULL)\n",
    "    except Exception:\n",
    "        print(\"\\nError: Blast Dictionary couldn't be created\")\n",
    "        "
   ],
   "id": "8c01e815161091bb",
   "outputs": [],
   "execution_count": 18
  },
  {
   "metadata": {
    "ExecuteTime": {
     "end_time": "2024-11-13T12:42:06.385141Z",
     "start_time": "2024-11-13T12:42:06.017662Z"
    }
   },
   "cell_type": "code",
   "source": [
    "genome_path = \"~/Documents/Work_CBMSO/Bringaud_testing/0.1.data/LmjF_V4.0_20040630_SIMPLE_NAMES.fasta\"\n",
    "genome_path = os.path.expanduser(genome_path)\n",
    "genome_name = os.path.basename(genome_path)\n",
    "dict_folder = os.path.join(os.path.dirname(genome_path), \"blastn_dict_simple_names\")\n",
    "os.makedirs(dict_folder, exist_ok=True)\n",
    "genome_save_path = os.path.join(dict_folder, genome_name)\n",
    "blastn_dic(genome_path, genome_save_path)"
   ],
   "id": "db834bc2a0f92906",
   "outputs": [],
   "execution_count": 19
  },
  {
   "metadata": {
    "ExecuteTime": {
     "end_time": "2024-11-13T12:42:14.827746Z",
     "start_time": "2024-11-13T12:42:14.825198Z"
    }
   },
   "cell_type": "code",
   "source": [
    "def get_sequence(start_coor, end_coor, strand, chromosome, path_genome):\n",
    "    cmd = f'blastdbcmd -db {path_genome} -entry {chromosome} -range {start_coor}-{end_coor} -strand {strand} -outfmt %s'\n",
    "    sequence = subprocess.run(cmd, shell=True, capture_output=True, text=True, universal_newlines=True, executable='/usr/bin/bash')\n",
    "    sequence = sequence.stdout.strip()\n",
    "    return sequence\n"
   ],
   "id": "ad99d8283c48a5b",
   "outputs": [],
   "execution_count": 20
  },
  {
   "metadata": {
    "ExecuteTime": {
     "end_time": "2024-11-13T11:57:49.705479Z",
     "start_time": "2024-11-13T11:57:49.695752Z"
    }
   },
   "cell_type": "code",
   "source": [
    "not_captured = pd.read_csv('../not_captured-first_output_vs_bringaud.csv', sep=',', header=0)\n",
    "print(not_captured.shape)\n",
    "print(not_captured.dtypes)\n",
    "not_captured.head()"
   ],
   "id": "e194cb31416a2c10",
   "outputs": [
    {
     "name": "stdout",
     "output_type": "stream",
     "text": [
      "(400, 3)\n",
      "sseqid    object\n",
      "sstart     int64\n",
      "send       int64\n",
      "dtype: object\n"
     ]
    },
    {
     "data": {
      "text/plain": [
       "    sseqid  sstart    send\n",
       "0  LmjF.01  226657  226940\n",
       "1  LmjF.05   90841   91072\n",
       "2  LmjF.06   57422   57917\n",
       "3  LmjF.06  178220  178503\n",
       "4  LmjF.08   54807   55176"
      ],
      "text/html": [
       "<div>\n",
       "<style scoped>\n",
       "    .dataframe tbody tr th:only-of-type {\n",
       "        vertical-align: middle;\n",
       "    }\n",
       "\n",
       "    .dataframe tbody tr th {\n",
       "        vertical-align: top;\n",
       "    }\n",
       "\n",
       "    .dataframe thead th {\n",
       "        text-align: right;\n",
       "    }\n",
       "</style>\n",
       "<table border=\"1\" class=\"dataframe\">\n",
       "  <thead>\n",
       "    <tr style=\"text-align: right;\">\n",
       "      <th></th>\n",
       "      <th>sseqid</th>\n",
       "      <th>sstart</th>\n",
       "      <th>send</th>\n",
       "    </tr>\n",
       "  </thead>\n",
       "  <tbody>\n",
       "    <tr>\n",
       "      <th>0</th>\n",
       "      <td>LmjF.01</td>\n",
       "      <td>226657</td>\n",
       "      <td>226940</td>\n",
       "    </tr>\n",
       "    <tr>\n",
       "      <th>1</th>\n",
       "      <td>LmjF.05</td>\n",
       "      <td>90841</td>\n",
       "      <td>91072</td>\n",
       "    </tr>\n",
       "    <tr>\n",
       "      <th>2</th>\n",
       "      <td>LmjF.06</td>\n",
       "      <td>57422</td>\n",
       "      <td>57917</td>\n",
       "    </tr>\n",
       "    <tr>\n",
       "      <th>3</th>\n",
       "      <td>LmjF.06</td>\n",
       "      <td>178220</td>\n",
       "      <td>178503</td>\n",
       "    </tr>\n",
       "    <tr>\n",
       "      <th>4</th>\n",
       "      <td>LmjF.08</td>\n",
       "      <td>54807</td>\n",
       "      <td>55176</td>\n",
       "    </tr>\n",
       "  </tbody>\n",
       "</table>\n",
       "</div>"
      ]
     },
     "execution_count": 5,
     "metadata": {},
     "output_type": "execute_result"
    }
   ],
   "execution_count": 5
  },
  {
   "metadata": {},
   "cell_type": "code",
   "outputs": [],
   "execution_count": null,
   "source": [
    "# Update DataFrame with the 'sseq' column\n",
    "not_captured['sseq'] = not_captured.apply(lambda row: get_sequence(row['sstart'], row['end_coor'], row['strand'], row['chromosome'], row['path_genome']), axis=1)"
   ],
   "id": "b817ec271ba499e1"
  }
 ],
 "metadata": {
  "kernelspec": {
   "display_name": "Python 3",
   "language": "python",
   "name": "python3"
  },
  "language_info": {
   "codemirror_mode": {
    "name": "ipython",
    "version": 2
   },
   "file_extension": ".py",
   "mimetype": "text/x-python",
   "name": "python",
   "nbconvert_exporter": "python",
   "pygments_lexer": "ipython2",
   "version": "2.7.6"
  }
 },
 "nbformat": 4,
 "nbformat_minor": 5
}
