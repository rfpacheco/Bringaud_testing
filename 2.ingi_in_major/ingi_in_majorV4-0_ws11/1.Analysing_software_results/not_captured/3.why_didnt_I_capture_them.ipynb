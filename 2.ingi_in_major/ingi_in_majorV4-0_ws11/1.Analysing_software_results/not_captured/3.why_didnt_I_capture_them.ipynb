{
 "cells": [
  {
   "cell_type": "code",
   "id": "initial_id",
   "metadata": {
    "collapsed": true,
    "ExecuteTime": {
     "end_time": "2024-11-14T15:09:55.964935Z",
     "start_time": "2024-11-14T15:09:55.749719Z"
    }
   },
   "source": [
    "import pandas as pd\n",
    "import os\n",
    "print(os.getcwd())"
   ],
   "outputs": [
    {
     "name": "stdout",
     "output_type": "stream",
     "text": [
      "/home/rfpacheco/Documents/Work_CBMSO/Bringaud_testing/2.ingi_in_major/ingi_in_majorV4-0_ws11/1.Analysing_software_results/not_captured\n"
     ]
    }
   ],
   "execution_count": 1
  },
  {
   "metadata": {
    "ExecuteTime": {
     "end_time": "2024-11-14T15:09:59.306353Z",
     "start_time": "2024-11-14T15:09:59.289869Z"
    }
   },
   "cell_type": "code",
   "source": [
    "not_capt = pd.read_csv(\"final_yes_data.csv\", sep=\",\", header=0)\n",
    "print(not_capt.shape)\n",
    "print(not_capt.dtypes)\n",
    "not_capt.head()"
   ],
   "id": "33ab75d7f65de188",
   "outputs": [
    {
     "name": "stdout",
     "output_type": "stream",
     "text": [
      "(10, 5)\n",
      "sseqid     object\n",
      "sstart      int64\n",
      "send        int64\n",
      "sstrand    object\n",
      "sseq       object\n",
      "dtype: object\n"
     ]
    },
    {
     "data": {
      "text/plain": [
       "    sseqid  sstart    send sstrand  \\\n",
       "0  LmjF.13  486917  487319   minus   \n",
       "1  LmjF.15  344918  345130   minus   \n",
       "2  LmjF.17  344006  344582    plus   \n",
       "3  LmjF.18  118822  119380    plus   \n",
       "4  LmjF.20  439605  440167    plus   \n",
       "\n",
       "                                                sseq  \n",
       "0  CATGACGACGCCGGCCACCTCAGCGCGTGTGGCATCCGAGTCGAGT...  \n",
       "1  GTGCCGCCAAACGCCCTCGTGCGAGTCTTGACGCAAGGCCACCTCC...  \n",
       "2  CGGGTCACCCGCGTGACAGGCGGGTATACTAACCACTATACTACCG...  \n",
       "3  CTTCGCTCCTGTGCCCTACTTGGAGTCCATGTGTTTGTGAGTGTAT...  \n",
       "4  CTTTACCATTTTATATGTATATGTATGTGTGTGTGTGTGTGTGTGT...  "
      ],
      "text/html": [
       "<div>\n",
       "<style scoped>\n",
       "    .dataframe tbody tr th:only-of-type {\n",
       "        vertical-align: middle;\n",
       "    }\n",
       "\n",
       "    .dataframe tbody tr th {\n",
       "        vertical-align: top;\n",
       "    }\n",
       "\n",
       "    .dataframe thead th {\n",
       "        text-align: right;\n",
       "    }\n",
       "</style>\n",
       "<table border=\"1\" class=\"dataframe\">\n",
       "  <thead>\n",
       "    <tr style=\"text-align: right;\">\n",
       "      <th></th>\n",
       "      <th>sseqid</th>\n",
       "      <th>sstart</th>\n",
       "      <th>send</th>\n",
       "      <th>sstrand</th>\n",
       "      <th>sseq</th>\n",
       "    </tr>\n",
       "  </thead>\n",
       "  <tbody>\n",
       "    <tr>\n",
       "      <th>0</th>\n",
       "      <td>LmjF.13</td>\n",
       "      <td>486917</td>\n",
       "      <td>487319</td>\n",
       "      <td>minus</td>\n",
       "      <td>CATGACGACGCCGGCCACCTCAGCGCGTGTGGCATCCGAGTCGAGT...</td>\n",
       "    </tr>\n",
       "    <tr>\n",
       "      <th>1</th>\n",
       "      <td>LmjF.15</td>\n",
       "      <td>344918</td>\n",
       "      <td>345130</td>\n",
       "      <td>minus</td>\n",
       "      <td>GTGCCGCCAAACGCCCTCGTGCGAGTCTTGACGCAAGGCCACCTCC...</td>\n",
       "    </tr>\n",
       "    <tr>\n",
       "      <th>2</th>\n",
       "      <td>LmjF.17</td>\n",
       "      <td>344006</td>\n",
       "      <td>344582</td>\n",
       "      <td>plus</td>\n",
       "      <td>CGGGTCACCCGCGTGACAGGCGGGTATACTAACCACTATACTACCG...</td>\n",
       "    </tr>\n",
       "    <tr>\n",
       "      <th>3</th>\n",
       "      <td>LmjF.18</td>\n",
       "      <td>118822</td>\n",
       "      <td>119380</td>\n",
       "      <td>plus</td>\n",
       "      <td>CTTCGCTCCTGTGCCCTACTTGGAGTCCATGTGTTTGTGAGTGTAT...</td>\n",
       "    </tr>\n",
       "    <tr>\n",
       "      <th>4</th>\n",
       "      <td>LmjF.20</td>\n",
       "      <td>439605</td>\n",
       "      <td>440167</td>\n",
       "      <td>plus</td>\n",
       "      <td>CTTTACCATTTTATATGTATATGTATGTGTGTGTGTGTGTGTGTGT...</td>\n",
       "    </tr>\n",
       "  </tbody>\n",
       "</table>\n",
       "</div>"
      ]
     },
     "execution_count": 2,
     "metadata": {},
     "output_type": "execute_result"
    }
   ],
   "execution_count": 2
  },
  {
   "metadata": {
    "ExecuteTime": {
     "end_time": "2024-11-14T15:10:02.562918Z",
     "start_time": "2024-11-14T15:10:02.552185Z"
    }
   },
   "cell_type": "code",
   "source": [
    "# Let's add a row called 'length'\n",
    "not_capt['length'] = not_capt['sseq'].apply(len)\n",
    "print(not_capt.dtypes)\n",
    "not_capt.head()"
   ],
   "id": "fe010a55dcbbca9e",
   "outputs": [
    {
     "name": "stdout",
     "output_type": "stream",
     "text": [
      "sseqid     object\n",
      "sstart      int64\n",
      "send        int64\n",
      "sstrand    object\n",
      "sseq       object\n",
      "length      int64\n",
      "dtype: object\n"
     ]
    },
    {
     "data": {
      "text/plain": [
       "    sseqid  sstart    send sstrand  \\\n",
       "0  LmjF.13  486917  487319   minus   \n",
       "1  LmjF.15  344918  345130   minus   \n",
       "2  LmjF.17  344006  344582    plus   \n",
       "3  LmjF.18  118822  119380    plus   \n",
       "4  LmjF.20  439605  440167    plus   \n",
       "\n",
       "                                                sseq  length  \n",
       "0  CATGACGACGCCGGCCACCTCAGCGCGTGTGGCATCCGAGTCGAGT...     403  \n",
       "1  GTGCCGCCAAACGCCCTCGTGCGAGTCTTGACGCAAGGCCACCTCC...     213  \n",
       "2  CGGGTCACCCGCGTGACAGGCGGGTATACTAACCACTATACTACCG...     577  \n",
       "3  CTTCGCTCCTGTGCCCTACTTGGAGTCCATGTGTTTGTGAGTGTAT...     559  \n",
       "4  CTTTACCATTTTATATGTATATGTATGTGTGTGTGTGTGTGTGTGT...     563  "
      ],
      "text/html": [
       "<div>\n",
       "<style scoped>\n",
       "    .dataframe tbody tr th:only-of-type {\n",
       "        vertical-align: middle;\n",
       "    }\n",
       "\n",
       "    .dataframe tbody tr th {\n",
       "        vertical-align: top;\n",
       "    }\n",
       "\n",
       "    .dataframe thead th {\n",
       "        text-align: right;\n",
       "    }\n",
       "</style>\n",
       "<table border=\"1\" class=\"dataframe\">\n",
       "  <thead>\n",
       "    <tr style=\"text-align: right;\">\n",
       "      <th></th>\n",
       "      <th>sseqid</th>\n",
       "      <th>sstart</th>\n",
       "      <th>send</th>\n",
       "      <th>sstrand</th>\n",
       "      <th>sseq</th>\n",
       "      <th>length</th>\n",
       "    </tr>\n",
       "  </thead>\n",
       "  <tbody>\n",
       "    <tr>\n",
       "      <th>0</th>\n",
       "      <td>LmjF.13</td>\n",
       "      <td>486917</td>\n",
       "      <td>487319</td>\n",
       "      <td>minus</td>\n",
       "      <td>CATGACGACGCCGGCCACCTCAGCGCGTGTGGCATCCGAGTCGAGT...</td>\n",
       "      <td>403</td>\n",
       "    </tr>\n",
       "    <tr>\n",
       "      <th>1</th>\n",
       "      <td>LmjF.15</td>\n",
       "      <td>344918</td>\n",
       "      <td>345130</td>\n",
       "      <td>minus</td>\n",
       "      <td>GTGCCGCCAAACGCCCTCGTGCGAGTCTTGACGCAAGGCCACCTCC...</td>\n",
       "      <td>213</td>\n",
       "    </tr>\n",
       "    <tr>\n",
       "      <th>2</th>\n",
       "      <td>LmjF.17</td>\n",
       "      <td>344006</td>\n",
       "      <td>344582</td>\n",
       "      <td>plus</td>\n",
       "      <td>CGGGTCACCCGCGTGACAGGCGGGTATACTAACCACTATACTACCG...</td>\n",
       "      <td>577</td>\n",
       "    </tr>\n",
       "    <tr>\n",
       "      <th>3</th>\n",
       "      <td>LmjF.18</td>\n",
       "      <td>118822</td>\n",
       "      <td>119380</td>\n",
       "      <td>plus</td>\n",
       "      <td>CTTCGCTCCTGTGCCCTACTTGGAGTCCATGTGTTTGTGAGTGTAT...</td>\n",
       "      <td>559</td>\n",
       "    </tr>\n",
       "    <tr>\n",
       "      <th>4</th>\n",
       "      <td>LmjF.20</td>\n",
       "      <td>439605</td>\n",
       "      <td>440167</td>\n",
       "      <td>plus</td>\n",
       "      <td>CTTTACCATTTTATATGTATATGTATGTGTGTGTGTGTGTGTGTGT...</td>\n",
       "      <td>563</td>\n",
       "    </tr>\n",
       "  </tbody>\n",
       "</table>\n",
       "</div>"
      ]
     },
     "execution_count": 3,
     "metadata": {},
     "output_type": "execute_result"
    }
   ],
   "execution_count": 3
  },
  {
   "metadata": {
    "ExecuteTime": {
     "end_time": "2024-11-14T15:10:06.226769Z",
     "start_time": "2024-11-14T15:10:06.215167Z"
    }
   },
   "cell_type": "code",
   "source": [
    "# Let's do the same but subtracting: 'sstart' - 'send' + 1\n",
    "not_capt['length_num'] = abs(not_capt['send'] - not_capt['sstart'] + 1)\n",
    "print(not_capt.dtypes)\n",
    "not_capt.head()"
   ],
   "id": "6ae6e1a0b9c71774",
   "outputs": [
    {
     "name": "stdout",
     "output_type": "stream",
     "text": [
      "sseqid        object\n",
      "sstart         int64\n",
      "send           int64\n",
      "sstrand       object\n",
      "sseq          object\n",
      "length         int64\n",
      "length_num     int64\n",
      "dtype: object\n"
     ]
    },
    {
     "data": {
      "text/plain": [
       "    sseqid  sstart    send sstrand  \\\n",
       "0  LmjF.13  486917  487319   minus   \n",
       "1  LmjF.15  344918  345130   minus   \n",
       "2  LmjF.17  344006  344582    plus   \n",
       "3  LmjF.18  118822  119380    plus   \n",
       "4  LmjF.20  439605  440167    plus   \n",
       "\n",
       "                                                sseq  length  length_num  \n",
       "0  CATGACGACGCCGGCCACCTCAGCGCGTGTGGCATCCGAGTCGAGT...     403         403  \n",
       "1  GTGCCGCCAAACGCCCTCGTGCGAGTCTTGACGCAAGGCCACCTCC...     213         213  \n",
       "2  CGGGTCACCCGCGTGACAGGCGGGTATACTAACCACTATACTACCG...     577         577  \n",
       "3  CTTCGCTCCTGTGCCCTACTTGGAGTCCATGTGTTTGTGAGTGTAT...     559         559  \n",
       "4  CTTTACCATTTTATATGTATATGTATGTGTGTGTGTGTGTGTGTGT...     563         563  "
      ],
      "text/html": [
       "<div>\n",
       "<style scoped>\n",
       "    .dataframe tbody tr th:only-of-type {\n",
       "        vertical-align: middle;\n",
       "    }\n",
       "\n",
       "    .dataframe tbody tr th {\n",
       "        vertical-align: top;\n",
       "    }\n",
       "\n",
       "    .dataframe thead th {\n",
       "        text-align: right;\n",
       "    }\n",
       "</style>\n",
       "<table border=\"1\" class=\"dataframe\">\n",
       "  <thead>\n",
       "    <tr style=\"text-align: right;\">\n",
       "      <th></th>\n",
       "      <th>sseqid</th>\n",
       "      <th>sstart</th>\n",
       "      <th>send</th>\n",
       "      <th>sstrand</th>\n",
       "      <th>sseq</th>\n",
       "      <th>length</th>\n",
       "      <th>length_num</th>\n",
       "    </tr>\n",
       "  </thead>\n",
       "  <tbody>\n",
       "    <tr>\n",
       "      <th>0</th>\n",
       "      <td>LmjF.13</td>\n",
       "      <td>486917</td>\n",
       "      <td>487319</td>\n",
       "      <td>minus</td>\n",
       "      <td>CATGACGACGCCGGCCACCTCAGCGCGTGTGGCATCCGAGTCGAGT...</td>\n",
       "      <td>403</td>\n",
       "      <td>403</td>\n",
       "    </tr>\n",
       "    <tr>\n",
       "      <th>1</th>\n",
       "      <td>LmjF.15</td>\n",
       "      <td>344918</td>\n",
       "      <td>345130</td>\n",
       "      <td>minus</td>\n",
       "      <td>GTGCCGCCAAACGCCCTCGTGCGAGTCTTGACGCAAGGCCACCTCC...</td>\n",
       "      <td>213</td>\n",
       "      <td>213</td>\n",
       "    </tr>\n",
       "    <tr>\n",
       "      <th>2</th>\n",
       "      <td>LmjF.17</td>\n",
       "      <td>344006</td>\n",
       "      <td>344582</td>\n",
       "      <td>plus</td>\n",
       "      <td>CGGGTCACCCGCGTGACAGGCGGGTATACTAACCACTATACTACCG...</td>\n",
       "      <td>577</td>\n",
       "      <td>577</td>\n",
       "    </tr>\n",
       "    <tr>\n",
       "      <th>3</th>\n",
       "      <td>LmjF.18</td>\n",
       "      <td>118822</td>\n",
       "      <td>119380</td>\n",
       "      <td>plus</td>\n",
       "      <td>CTTCGCTCCTGTGCCCTACTTGGAGTCCATGTGTTTGTGAGTGTAT...</td>\n",
       "      <td>559</td>\n",
       "      <td>559</td>\n",
       "    </tr>\n",
       "    <tr>\n",
       "      <th>4</th>\n",
       "      <td>LmjF.20</td>\n",
       "      <td>439605</td>\n",
       "      <td>440167</td>\n",
       "      <td>plus</td>\n",
       "      <td>CTTTACCATTTTATATGTATATGTATGTGTGTGTGTGTGTGTGTGT...</td>\n",
       "      <td>563</td>\n",
       "      <td>563</td>\n",
       "    </tr>\n",
       "  </tbody>\n",
       "</table>\n",
       "</div>"
      ]
     },
     "execution_count": 4,
     "metadata": {},
     "output_type": "execute_result"
    }
   ],
   "execution_count": 4
  },
  {
   "metadata": {
    "ExecuteTime": {
     "end_time": "2024-11-14T15:10:07.898922Z",
     "start_time": "2024-11-14T15:10:07.893730Z"
    }
   },
   "cell_type": "code",
   "source": [
    "# Are both columns equal?\n",
    "count_result = not_capt['length'] == not_capt['length_num']\n",
    "print(\"True count:\", count_result.sum())\n",
    "print(\"False count:\", (~count_result).sum())"
   ],
   "id": "48723cb78086c96a",
   "outputs": [
    {
     "name": "stdout",
     "output_type": "stream",
     "text": [
      "True count: 10\n",
      "False count: 0\n"
     ]
    }
   ],
   "execution_count": 5
  },
  {
   "metadata": {
    "ExecuteTime": {
     "end_time": "2024-11-14T15:10:09.328852Z",
     "start_time": "2024-11-14T15:10:09.319201Z"
    }
   },
   "cell_type": "code",
   "source": [
    "# Some descriptive analysis from col 'length': mediam, meean, q1, q3, max and min\n",
    "not_capt['length'].describe()"
   ],
   "id": "3329263fdcd90635",
   "outputs": [
    {
     "data": {
      "text/plain": [
       "count     10.000000\n",
       "mean     417.700000\n",
       "std      173.601747\n",
       "min      195.000000\n",
       "25%      241.000000\n",
       "50%      451.500000\n",
       "75%      562.000000\n",
       "max      642.000000\n",
       "Name: length, dtype: float64"
      ]
     },
     "execution_count": 6,
     "metadata": {},
     "output_type": "execute_result"
    }
   ],
   "execution_count": 6
  }
 ],
 "metadata": {
  "kernelspec": {
   "display_name": "Python 3",
   "language": "python",
   "name": "python3"
  },
  "language_info": {
   "codemirror_mode": {
    "name": "ipython",
    "version": 2
   },
   "file_extension": ".py",
   "mimetype": "text/x-python",
   "name": "python",
   "nbconvert_exporter": "python",
   "pygments_lexer": "ipython2",
   "version": "2.7.6"
  }
 },
 "nbformat": 4,
 "nbformat_minor": 5
}
