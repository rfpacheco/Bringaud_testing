{
 "cells": [
  {
   "metadata": {
    "ExecuteTime": {
     "end_time": "2024-11-10T18:21:42.441670Z",
     "start_time": "2024-11-10T18:21:42.188335Z"
    }
   },
   "cell_type": "code",
   "source": [
    "%%bash\n",
    "conda env list"
   ],
   "id": "b499f440854ad842",
   "outputs": [
    {
     "name": "stdout",
     "output_type": "stream",
     "text": [
      "# conda environments:\n",
      "#\n",
      "base                     /home/viskuit/anaconda3\n",
      "Data_Science_Python      /home/viskuit/anaconda3/envs/Data_Science_Python\n",
      "RNA-Seq                  /home/viskuit/anaconda3/envs/RNA-Seq\n",
      "SIDER_RepetitiveSearcher  *  /home/viskuit/anaconda3/envs/SIDER_RepetitiveSearcher\n",
      "bioinfo                  /home/viskuit/anaconda3/envs/bioinfo\n",
      "ggbio                    /home/viskuit/anaconda3/envs/ggbio\n",
      "goatool                  /home/viskuit/anaconda3/envs/goatool\n",
      "old_blast_test           /home/viskuit/anaconda3/envs/old_blast_test\n",
      "\n"
     ]
    }
   ],
   "execution_count": 1
  },
  {
   "metadata": {},
   "cell_type": "code",
   "source": [
    "%%bash\n",
    "# First let's join strands\n",
    "python /home/viskuit/Documents/Work_CBMSO/Bringaud_testing/0.2.Main_scripts/join_strands.py \\\n",
    "/home/viskuit/Documents/Work_CBMSO/Bringaud_testing/2.ingi_in_major/ingi_in_major4-0_ws11/Last_Data.csv \\\n",
    "/home/viskuit/Documents/Work_CBMSO/Bringaud_testing/0.1.data/blastn_dic/LmjF_V4.0_20040630.fasta \\\n",
    "plus\n",
    "    "
   ],
   "id": "e8ad1ab687992782",
   "outputs": [],
   "execution_count": null
  }
 ],
 "metadata": {
  "kernelspec": {
   "display_name": "Python 3 (ipykernel)",
   "language": "python",
   "name": "python3"
  },
  "language_info": {
   "codemirror_mode": {
    "name": "ipython",
    "version": 2
   },
   "file_extension": ".py",
   "mimetype": "text/x-python",
   "name": "python",
   "nbconvert_exporter": "python",
   "pygments_lexer": "ipython2",
   "version": "2.7.6"
  }
 },
 "nbformat": 4,
 "nbformat_minor": 5
}
