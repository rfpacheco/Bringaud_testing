{
 "cells": [
  {
   "cell_type": "code",
   "id": "initial_id",
   "metadata": {
    "collapsed": true,
    "ExecuteTime": {
     "end_time": "2024-11-14T10:29:25.986319Z",
     "start_time": "2024-11-14T10:29:25.671395Z"
    }
   },
   "source": "import pandas as pd",
   "outputs": [],
   "execution_count": 1
  },
  {
   "metadata": {
    "ExecuteTime": {
     "end_time": "2024-11-14T10:31:00.590690Z",
     "start_time": "2024-11-14T10:31:00.572197Z"
    }
   },
   "cell_type": "code",
   "source": [
    "not_capt = pd.read_csv(\"final_yes_data.csv\", sep=\",\", header=0)\n",
    "print(not_capt.shape)\n",
    "print(not_capt.dtypes)\n",
    "not_capt.head()"
   ],
   "id": "33ab75d7f65de188",
   "outputs": [
    {
     "name": "stdout",
     "output_type": "stream",
     "text": [
      "(24, 5)\n",
      "sseqid     object\n",
      "sstart      int64\n",
      "send        int64\n",
      "sstrand    object\n",
      "sseq       object\n",
      "dtype: object\n"
     ]
    },
    {
     "data": {
      "text/plain": [
       "    sseqid  sstart    send sstrand  \\\n",
       "0  LmjF.13  486917  487319   minus   \n",
       "1  LmjF.15  344918  345130   minus   \n",
       "2  LmjF.15  414872  415252   minus   \n",
       "3  LmjF.17  344006  344582    plus   \n",
       "4  LmjF.18  118822  119380    plus   \n",
       "\n",
       "                                                sseq  \n",
       "0  CATGACGACGCCGGCCACCTCAGCGCGTGTGGCATCCGAGTCGAGT...  \n",
       "1  GTGCCGCCAAACGCCCTCGTGCGAGTCTTGACGCAAGGCCACCTCC...  \n",
       "2  GCCGTAAGCACACGTGCGATGTGCGTACACACACACGCACACACAC...  \n",
       "3  CGGGTCACCCGCGTGACAGGCGGGTATACTAACCACTATACTACCG...  \n",
       "4  CTTCGCTCCTGTGCCCTACTTGGAGTCCATGTGTTTGTGAGTGTAT...  "
      ],
      "text/html": [
       "<div>\n",
       "<style scoped>\n",
       "    .dataframe tbody tr th:only-of-type {\n",
       "        vertical-align: middle;\n",
       "    }\n",
       "\n",
       "    .dataframe tbody tr th {\n",
       "        vertical-align: top;\n",
       "    }\n",
       "\n",
       "    .dataframe thead th {\n",
       "        text-align: right;\n",
       "    }\n",
       "</style>\n",
       "<table border=\"1\" class=\"dataframe\">\n",
       "  <thead>\n",
       "    <tr style=\"text-align: right;\">\n",
       "      <th></th>\n",
       "      <th>sseqid</th>\n",
       "      <th>sstart</th>\n",
       "      <th>send</th>\n",
       "      <th>sstrand</th>\n",
       "      <th>sseq</th>\n",
       "    </tr>\n",
       "  </thead>\n",
       "  <tbody>\n",
       "    <tr>\n",
       "      <th>0</th>\n",
       "      <td>LmjF.13</td>\n",
       "      <td>486917</td>\n",
       "      <td>487319</td>\n",
       "      <td>minus</td>\n",
       "      <td>CATGACGACGCCGGCCACCTCAGCGCGTGTGGCATCCGAGTCGAGT...</td>\n",
       "    </tr>\n",
       "    <tr>\n",
       "      <th>1</th>\n",
       "      <td>LmjF.15</td>\n",
       "      <td>344918</td>\n",
       "      <td>345130</td>\n",
       "      <td>minus</td>\n",
       "      <td>GTGCCGCCAAACGCCCTCGTGCGAGTCTTGACGCAAGGCCACCTCC...</td>\n",
       "    </tr>\n",
       "    <tr>\n",
       "      <th>2</th>\n",
       "      <td>LmjF.15</td>\n",
       "      <td>414872</td>\n",
       "      <td>415252</td>\n",
       "      <td>minus</td>\n",
       "      <td>GCCGTAAGCACACGTGCGATGTGCGTACACACACACGCACACACAC...</td>\n",
       "    </tr>\n",
       "    <tr>\n",
       "      <th>3</th>\n",
       "      <td>LmjF.17</td>\n",
       "      <td>344006</td>\n",
       "      <td>344582</td>\n",
       "      <td>plus</td>\n",
       "      <td>CGGGTCACCCGCGTGACAGGCGGGTATACTAACCACTATACTACCG...</td>\n",
       "    </tr>\n",
       "    <tr>\n",
       "      <th>4</th>\n",
       "      <td>LmjF.18</td>\n",
       "      <td>118822</td>\n",
       "      <td>119380</td>\n",
       "      <td>plus</td>\n",
       "      <td>CTTCGCTCCTGTGCCCTACTTGGAGTCCATGTGTTTGTGAGTGTAT...</td>\n",
       "    </tr>\n",
       "  </tbody>\n",
       "</table>\n",
       "</div>"
      ]
     },
     "execution_count": 2,
     "metadata": {},
     "output_type": "execute_result"
    }
   ],
   "execution_count": 2
  },
  {
   "metadata": {
    "ExecuteTime": {
     "end_time": "2024-11-14T10:34:04.176514Z",
     "start_time": "2024-11-14T10:34:04.168876Z"
    }
   },
   "cell_type": "code",
   "source": [
    "# Let's add a row called 'length'\n",
    "not_capt['length'] = not_capt['sseq'].apply(len)\n",
    "print(not_capt.dtypes)\n",
    "not_capt.head()"
   ],
   "id": "fe010a55dcbbca9e",
   "outputs": [
    {
     "name": "stdout",
     "output_type": "stream",
     "text": [
      "sseqid     object\n",
      "sstart      int64\n",
      "send        int64\n",
      "sstrand    object\n",
      "sseq       object\n",
      "length      int64\n",
      "dtype: object\n"
     ]
    },
    {
     "data": {
      "text/plain": [
       "    sseqid  sstart    send sstrand  \\\n",
       "0  LmjF.13  486917  487319   minus   \n",
       "1  LmjF.15  344918  345130   minus   \n",
       "2  LmjF.15  414872  415252   minus   \n",
       "3  LmjF.17  344006  344582    plus   \n",
       "4  LmjF.18  118822  119380    plus   \n",
       "\n",
       "                                                sseq  length  \n",
       "0  CATGACGACGCCGGCCACCTCAGCGCGTGTGGCATCCGAGTCGAGT...     403  \n",
       "1  GTGCCGCCAAACGCCCTCGTGCGAGTCTTGACGCAAGGCCACCTCC...     213  \n",
       "2  GCCGTAAGCACACGTGCGATGTGCGTACACACACACGCACACACAC...     381  \n",
       "3  CGGGTCACCCGCGTGACAGGCGGGTATACTAACCACTATACTACCG...     577  \n",
       "4  CTTCGCTCCTGTGCCCTACTTGGAGTCCATGTGTTTGTGAGTGTAT...     559  "
      ],
      "text/html": [
       "<div>\n",
       "<style scoped>\n",
       "    .dataframe tbody tr th:only-of-type {\n",
       "        vertical-align: middle;\n",
       "    }\n",
       "\n",
       "    .dataframe tbody tr th {\n",
       "        vertical-align: top;\n",
       "    }\n",
       "\n",
       "    .dataframe thead th {\n",
       "        text-align: right;\n",
       "    }\n",
       "</style>\n",
       "<table border=\"1\" class=\"dataframe\">\n",
       "  <thead>\n",
       "    <tr style=\"text-align: right;\">\n",
       "      <th></th>\n",
       "      <th>sseqid</th>\n",
       "      <th>sstart</th>\n",
       "      <th>send</th>\n",
       "      <th>sstrand</th>\n",
       "      <th>sseq</th>\n",
       "      <th>length</th>\n",
       "    </tr>\n",
       "  </thead>\n",
       "  <tbody>\n",
       "    <tr>\n",
       "      <th>0</th>\n",
       "      <td>LmjF.13</td>\n",
       "      <td>486917</td>\n",
       "      <td>487319</td>\n",
       "      <td>minus</td>\n",
       "      <td>CATGACGACGCCGGCCACCTCAGCGCGTGTGGCATCCGAGTCGAGT...</td>\n",
       "      <td>403</td>\n",
       "    </tr>\n",
       "    <tr>\n",
       "      <th>1</th>\n",
       "      <td>LmjF.15</td>\n",
       "      <td>344918</td>\n",
       "      <td>345130</td>\n",
       "      <td>minus</td>\n",
       "      <td>GTGCCGCCAAACGCCCTCGTGCGAGTCTTGACGCAAGGCCACCTCC...</td>\n",
       "      <td>213</td>\n",
       "    </tr>\n",
       "    <tr>\n",
       "      <th>2</th>\n",
       "      <td>LmjF.15</td>\n",
       "      <td>414872</td>\n",
       "      <td>415252</td>\n",
       "      <td>minus</td>\n",
       "      <td>GCCGTAAGCACACGTGCGATGTGCGTACACACACACGCACACACAC...</td>\n",
       "      <td>381</td>\n",
       "    </tr>\n",
       "    <tr>\n",
       "      <th>3</th>\n",
       "      <td>LmjF.17</td>\n",
       "      <td>344006</td>\n",
       "      <td>344582</td>\n",
       "      <td>plus</td>\n",
       "      <td>CGGGTCACCCGCGTGACAGGCGGGTATACTAACCACTATACTACCG...</td>\n",
       "      <td>577</td>\n",
       "    </tr>\n",
       "    <tr>\n",
       "      <th>4</th>\n",
       "      <td>LmjF.18</td>\n",
       "      <td>118822</td>\n",
       "      <td>119380</td>\n",
       "      <td>plus</td>\n",
       "      <td>CTTCGCTCCTGTGCCCTACTTGGAGTCCATGTGTTTGTGAGTGTAT...</td>\n",
       "      <td>559</td>\n",
       "    </tr>\n",
       "  </tbody>\n",
       "</table>\n",
       "</div>"
      ]
     },
     "execution_count": 4,
     "metadata": {},
     "output_type": "execute_result"
    }
   ],
   "execution_count": 4
  },
  {
   "metadata": {
    "ExecuteTime": {
     "end_time": "2024-11-14T10:36:07.640114Z",
     "start_time": "2024-11-14T10:36:07.629035Z"
    }
   },
   "cell_type": "code",
   "source": [
    "# Let's do the same but subtracting: 'sstart' - 'send' + 1\n",
    "not_capt['length_num'] = abs(not_capt['send'] - not_capt['sstart'] + 1)\n",
    "print(not_capt.dtypes)\n",
    "not_capt.head()"
   ],
   "id": "6ae6e1a0b9c71774",
   "outputs": [
    {
     "name": "stdout",
     "output_type": "stream",
     "text": [
      "sseqid        object\n",
      "sstart         int64\n",
      "send           int64\n",
      "sstrand       object\n",
      "sseq          object\n",
      "length         int64\n",
      "length_num     int64\n",
      "dtype: object\n"
     ]
    },
    {
     "data": {
      "text/plain": [
       "    sseqid  sstart    send sstrand  \\\n",
       "0  LmjF.13  486917  487319   minus   \n",
       "1  LmjF.15  344918  345130   minus   \n",
       "2  LmjF.15  414872  415252   minus   \n",
       "3  LmjF.17  344006  344582    plus   \n",
       "4  LmjF.18  118822  119380    plus   \n",
       "\n",
       "                                                sseq  length  length_num  \n",
       "0  CATGACGACGCCGGCCACCTCAGCGCGTGTGGCATCCGAGTCGAGT...     403         403  \n",
       "1  GTGCCGCCAAACGCCCTCGTGCGAGTCTTGACGCAAGGCCACCTCC...     213         213  \n",
       "2  GCCGTAAGCACACGTGCGATGTGCGTACACACACACGCACACACAC...     381         381  \n",
       "3  CGGGTCACCCGCGTGACAGGCGGGTATACTAACCACTATACTACCG...     577         577  \n",
       "4  CTTCGCTCCTGTGCCCTACTTGGAGTCCATGTGTTTGTGAGTGTAT...     559         559  "
      ],
      "text/html": [
       "<div>\n",
       "<style scoped>\n",
       "    .dataframe tbody tr th:only-of-type {\n",
       "        vertical-align: middle;\n",
       "    }\n",
       "\n",
       "    .dataframe tbody tr th {\n",
       "        vertical-align: top;\n",
       "    }\n",
       "\n",
       "    .dataframe thead th {\n",
       "        text-align: right;\n",
       "    }\n",
       "</style>\n",
       "<table border=\"1\" class=\"dataframe\">\n",
       "  <thead>\n",
       "    <tr style=\"text-align: right;\">\n",
       "      <th></th>\n",
       "      <th>sseqid</th>\n",
       "      <th>sstart</th>\n",
       "      <th>send</th>\n",
       "      <th>sstrand</th>\n",
       "      <th>sseq</th>\n",
       "      <th>length</th>\n",
       "      <th>length_num</th>\n",
       "    </tr>\n",
       "  </thead>\n",
       "  <tbody>\n",
       "    <tr>\n",
       "      <th>0</th>\n",
       "      <td>LmjF.13</td>\n",
       "      <td>486917</td>\n",
       "      <td>487319</td>\n",
       "      <td>minus</td>\n",
       "      <td>CATGACGACGCCGGCCACCTCAGCGCGTGTGGCATCCGAGTCGAGT...</td>\n",
       "      <td>403</td>\n",
       "      <td>403</td>\n",
       "    </tr>\n",
       "    <tr>\n",
       "      <th>1</th>\n",
       "      <td>LmjF.15</td>\n",
       "      <td>344918</td>\n",
       "      <td>345130</td>\n",
       "      <td>minus</td>\n",
       "      <td>GTGCCGCCAAACGCCCTCGTGCGAGTCTTGACGCAAGGCCACCTCC...</td>\n",
       "      <td>213</td>\n",
       "      <td>213</td>\n",
       "    </tr>\n",
       "    <tr>\n",
       "      <th>2</th>\n",
       "      <td>LmjF.15</td>\n",
       "      <td>414872</td>\n",
       "      <td>415252</td>\n",
       "      <td>minus</td>\n",
       "      <td>GCCGTAAGCACACGTGCGATGTGCGTACACACACACGCACACACAC...</td>\n",
       "      <td>381</td>\n",
       "      <td>381</td>\n",
       "    </tr>\n",
       "    <tr>\n",
       "      <th>3</th>\n",
       "      <td>LmjF.17</td>\n",
       "      <td>344006</td>\n",
       "      <td>344582</td>\n",
       "      <td>plus</td>\n",
       "      <td>CGGGTCACCCGCGTGACAGGCGGGTATACTAACCACTATACTACCG...</td>\n",
       "      <td>577</td>\n",
       "      <td>577</td>\n",
       "    </tr>\n",
       "    <tr>\n",
       "      <th>4</th>\n",
       "      <td>LmjF.18</td>\n",
       "      <td>118822</td>\n",
       "      <td>119380</td>\n",
       "      <td>plus</td>\n",
       "      <td>CTTCGCTCCTGTGCCCTACTTGGAGTCCATGTGTTTGTGAGTGTAT...</td>\n",
       "      <td>559</td>\n",
       "      <td>559</td>\n",
       "    </tr>\n",
       "  </tbody>\n",
       "</table>\n",
       "</div>"
      ]
     },
     "execution_count": 7,
     "metadata": {},
     "output_type": "execute_result"
    }
   ],
   "execution_count": 7
  },
  {
   "metadata": {
    "ExecuteTime": {
     "end_time": "2024-11-14T10:38:37.064121Z",
     "start_time": "2024-11-14T10:38:37.058599Z"
    }
   },
   "cell_type": "code",
   "source": [
    "# Are both columns equal?\n",
    "count_result = not_capt['length'] == not_capt['length_num']\n",
    "print(\"True count:\", count_result.sum())\n",
    "print(\"False count:\", (~count_result).sum())"
   ],
   "id": "48723cb78086c96a",
   "outputs": [
    {
     "name": "stdout",
     "output_type": "stream",
     "text": [
      "True count: 24\n",
      "False count: 0\n"
     ]
    }
   ],
   "execution_count": 15
  },
  {
   "metadata": {
    "ExecuteTime": {
     "end_time": "2024-11-14T10:39:27.913174Z",
     "start_time": "2024-11-14T10:39:27.906221Z"
    }
   },
   "cell_type": "code",
   "source": [
    "# Some descriptive analysis from col 'length': mediam, meean, q1, q3, max and min\n",
    "not_capt['length'].describe()"
   ],
   "id": "3329263fdcd90635",
   "outputs": [
    {
     "data": {
      "text/plain": [
       "count     24.000000\n",
       "mean     420.666667\n",
       "std      162.456326\n",
       "min      138.000000\n",
       "25%      302.500000\n",
       "50%      449.500000\n",
       "75%      563.000000\n",
       "max      642.000000\n",
       "Name: length, dtype: float64"
      ]
     },
     "execution_count": 16,
     "metadata": {},
     "output_type": "execute_result"
    }
   ],
   "execution_count": 16
  }
 ],
 "metadata": {
  "kernelspec": {
   "display_name": "Python 3",
   "language": "python",
   "name": "python3"
  },
  "language_info": {
   "codemirror_mode": {
    "name": "ipython",
    "version": 2
   },
   "file_extension": ".py",
   "mimetype": "text/x-python",
   "name": "python",
   "nbconvert_exporter": "python",
   "pygments_lexer": "ipython2",
   "version": "2.7.6"
  }
 },
 "nbformat": 4,
 "nbformat_minor": 5
}
