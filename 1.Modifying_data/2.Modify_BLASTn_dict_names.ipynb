{
 "cells": [
  {
   "cell_type": "code",
   "id": "bd9b2bf62985d4ca",
   "metadata": {
    "ExecuteTime": {
     "end_time": "2024-11-13T12:37:04.191865Z",
     "start_time": "2024-11-13T12:37:04.188507Z"
    }
   },
   "source": [
    "import os\n",
    "from Bio import SeqIO"
   ],
   "outputs": [],
   "execution_count": 8
  },
  {
   "metadata": {
    "ExecuteTime": {
     "end_time": "2024-11-13T12:37:05.325106Z",
     "start_time": "2024-11-13T12:37:05.321124Z"
    }
   },
   "cell_type": "code",
   "source": [
    "def modify_and_save_fasta(input_fasta, output_fasta):\n",
    "    # Open the input FASTA file and parse it\n",
    "    sequences = SeqIO.parse(input_fasta, \"fasta\")\n",
    "\n",
    "    # List to store modified sequences\n",
    "    modified_sequences = []\n",
    "\n",
    "    # Modify sequence names\n",
    "    for seq_record in sequences:\n",
    "        old_id = seq_record.id\n",
    "        new_id = old_id.split(\"_\")[0]\n",
    "        new_id = new_id[:4] + \".\" + new_id[4:]\n",
    "        seq_record.id = new_id\n",
    "        seq_record.description = \"\"\n",
    "        modified_sequences.append(seq_record)\n",
    "        print(f\"- {old_id} -> {new_id}\")\n",
    "        \n",
    "    # Write the modified sequences to the output FASTA file\n",
    "    with open(output_fasta, \"w\") as out_file:\n",
    "        SeqIO.write(modified_sequences, out_file, \"fasta\")"
   ],
   "id": "d595c1e5062d48be",
   "outputs": [],
   "execution_count": 9
  },
  {
   "metadata": {
    "collapsed": true,
    "ExecuteTime": {
     "end_time": "2024-11-13T12:37:22.333447Z",
     "start_time": "2024-11-13T12:37:22.062455Z"
    }
   },
   "cell_type": "code",
   "source": [
    "fasta_file = \"~/Documents/Work_CBMSO/Bringaud_testing/0.1.data/LmjF_V4.0_20040630.fasta\"\n",
    "fasta_file = os.path.expanduser(fasta_file)\n",
    "\n",
    "output_file = \"~/Documents/Work_CBMSO/Bringaud_testing/0.1.data/LmjF_V4.0_20040630_SIMPLE_NAMES.fasta\"\n",
    "output_file = os.path.expanduser(output_file)\n",
    "modify_and_save_fasta(fasta_file, output_file)"
   ],
   "id": "initial_id",
   "outputs": [
    {
     "name": "stdout",
     "output_type": "stream",
     "text": [
      "- LmjF04_01_20040630_V4.0 -> LmjF.04\n",
      "- LmjF05_01_20040630_V4.0 -> LmjF.05\n",
      "- LmjF24_01_20040630_V4.0 -> LmjF.24\n",
      "- LmjF01_01_20040630_V4.0 -> LmjF.01\n",
      "- LmjF03_01_20040630_V4.0 -> LmjF.03\n",
      "- LmjF13_01_20040630_V4.0 -> LmjF.13\n",
      "- LmjF14_01_20040630_V4.0 -> LmjF.14\n",
      "- LmjF19_01_20040630_V4.0 -> LmjF.19\n",
      "- LmjF21_01_20040630_V4.0 -> LmjF.21\n",
      "- LmjF23_01_20040630_V4.0 -> LmjF.23\n",
      "- LmjF10_01_20040630_V4.0 -> LmjF.10\n",
      "- LmjF11_01_20040630_V4.0 -> LmjF.11\n",
      "- LmjF15_01_20040630_V4.0 -> LmjF.15\n",
      "- LmjF18_01_20040630_V4.0 -> LmjF.18\n",
      "- LmjF02_01_20040630_V4.0 -> LmjF.02\n",
      "- LmjF25_01_20040630_V4.0 -> LmjF.25\n",
      "- LmjF27_01_20040630_V4.0 -> LmjF.27\n",
      "- LmjF28_01_20040630_V4.0 -> LmjF.28\n",
      "- LmjF29_01_20040630_V4.0 -> LmjF.29\n",
      "- LmjF30_01_20040630_V4.0 -> LmjF.30\n",
      "- LmjF31_01_20040630_V4.0 -> LmjF.31\n",
      "- LmjF32_01_20040630_V4.0 -> LmjF.32\n",
      "- LmjF33_01_20040630_V4.0 -> LmjF.33\n",
      "- LmjF34_01_20040630_V4.0 -> LmjF.34\n",
      "- LmjF35_01_20040630_V4.0 -> LmjF.35\n",
      "- LmjF36_01_20040630_V4.0 -> LmjF.36\n",
      "- LmjF07_01_20040630_V4.0 -> LmjF.07\n",
      "- LmjF08_01_20040630_V4.0 -> LmjF.08\n",
      "- LmjF09_01_20040630_V4.0 -> LmjF.09\n",
      "- LmjF06_01_20040630_V4.0 -> LmjF.06\n",
      "- LmjF12_01_20040630_V4.0 -> LmjF.12\n",
      "- LmjF16_01_20040630_V4.0 -> LmjF.16\n",
      "- LmjF17_01_20040630_V4.0 -> LmjF.17\n",
      "- LmjF20_01_20040630_V4.0 -> LmjF.20\n",
      "- LmjF22_01_20040630_V4.0 -> LmjF.22\n",
      "- LmjF26_01_20040630_V4.0 -> LmjF.26\n"
     ]
    }
   ],
   "execution_count": 10
  }
 ],
 "metadata": {
  "kernelspec": {
   "display_name": "Python 3",
   "language": "python",
   "name": "python3"
  },
  "language_info": {
   "codemirror_mode": {
    "name": "ipython",
    "version": 2
   },
   "file_extension": ".py",
   "mimetype": "text/x-python",
   "name": "python",
   "nbconvert_exporter": "python",
   "pygments_lexer": "ipython2",
   "version": "2.7.6"
  }
 },
 "nbformat": 4,
 "nbformat_minor": 5
}
